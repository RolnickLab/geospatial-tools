{
    "cells": [
        {
            "metadata": {},
            "cell_type": "markdown",
            "source": "# Exploring the Sentinel 2 STAC catalog tools",
            "id": "32893123aefcf748"
        },
        {
            "metadata": {
                "ExecuteTime": {
                    "end_time": "2024-09-04T18:50:50.662304Z",
                    "start_time": "2024-09-04T18:50:49.608804Z"
                }
            },
            "cell_type": "code",
            "source": [
                "import geopandas as gpd\n",
                "import leafmap\n",
                "\n",
                "from pathlib import Path\n",
                "from geospatial_tools import DATA_DIR\n",
                "from geospatial_tools.stac import StacSearch, PLANETARY_COMPUTER\n",
                "from geospatial_tools.utils import create_date_range_for_specific_period"
            ],
            "id": "d9905141ab1e36a5",
            "outputs": [],
            "execution_count": 1
        },
        {
            "metadata": {},
            "cell_type": "markdown",
            "source": [
                "## Visualizing Sentinel 2 tiles\n",
                "\n",
                "Below, we load up the Sentinel 2 griding tiles so we can determine which grid most fits with our needs. \n",
                "In this demonstration, we will be looking the southern Jackson Demonstration State Forest, which\n",
                "is inside the `10SJD` tile. "
            ],
            "id": "6830d539d431d73f"
        },
        {
            "metadata": {
                "ExecuteTime": {
                    "end_time": "2024-09-04T18:50:51.067812Z",
                    "start_time": "2024-09-04T18:50:50.787213Z"
                }
            },
            "cell_type": "code",
            "source": [
                "S2_USA_GRID_FILE = DATA_DIR / \"s2_grid_usa_polygon_5070.gpkg\"\n",
                "s2_grid = gpd.read_file(S2_USA_GRID_FILE)\n",
                "\n",
                "m = leafmap.Map(center=[39.3, -124.16], zoom=8)\n",
                "m.add_gdf(s2_grid, layer_name='s2_grid', style={\"color\": \"red\"})\n",
                "m"
            ],
            "id": "e93f22661d7785fa",
            "outputs": [
                {
                    "data": {
                        "text/plain": [
                            "Map(center=[39.3, -124.16], controls=(ZoomControl(options=['position', 'zoom_in_text', 'zoom_in_title', 'zoom_…"
                        ],
                        "application/vnd.jupyter.widget-view+json": {
                            "version_major": 2,
                            "version_minor": 0,
                            "model_id": "b739e2ce13694964b44ce8a585a03897"
                        }
                    },
                    "execution_count": 2,
                    "metadata": {},
                    "output_type": "execute_result"
                }
            ],
            "execution_count": 2
        },
        {
            "metadata": {},
            "cell_type": "markdown",
            "source": [
                "## Search Parameters\n",
                "\n",
                "Now we search for our product.\n",
                "\n",
                "In this demonstration, we want relatively recent products, and only from June or July\n",
                "\n",
                "We are looking for Sentinel 2 products that are already pre-processed and that have \n",
                "minimal cloud cover.\n",
                "\n",
                "We are also limiting our search to the `10SDJ` tile.\n",
                "\n"
            ],
            "id": "82975573700ba65"
        },
        {
            "metadata": {
                "ExecuteTime": {
                    "end_time": "2024-09-04T18:50:53.042927Z",
                    "start_time": "2024-09-04T18:50:51.143188Z"
                }
            },
            "cell_type": "code",
            "source": [
                "# Date ranges\n",
                "start_year = 2023\n",
                "end_year = 2024\n",
                "start_month = 6\n",
                "end_month = 7\n",
                "date_ranges = create_date_range_for_specific_period(start_year=start_year,\n",
                "                                                    end_year=end_year,\n",
                "                                                    start_month_range=start_month,\n",
                "                                                    end_month_range=end_month)\n",
                "\n",
                "# Search arguments\n",
                "collection = \"sentinel-2-l2a\"\n",
                "tile_ids = [\"10SDJ\"]\n",
                "max_cloud_cover = 1\n",
                "max_no_data_value = 5\n",
                "query = {\"eo:cloud_cover\": {\"lt\": max_cloud_cover}, \"s2:mgrs_tile\": {\"in\": tile_ids}}\n",
                "sortby = [{\"field\": \"properties.eo:cloud_cover\", \"direction\": \"asc\"}]\n",
                "\n",
                "# Searching for results\n",
                "search_client = StacSearch(PLANETARY_COMPUTER)\n",
                "search_client.search_for_date_ranges(date_ranges=date_ranges,\n",
                "                                     collections=collection,\n",
                "                                     query=query,\n",
                "                                     sortby=sortby, limit=100)\n",
                "\n",
                "# Selecting optimal result\n",
                "search_client.filter_no_data(property_name=\"s2:nodata_pixel_percentage\", max_no_data_value=max_no_data_value)\n",
                "search_client.sort_results_by_cloud_coverage()\n",
                "\n",
                "sorted_items = search_client.cloud_cover_sorted_results\n",
                "optimal_result2 = sorted_items[0]\n",
                "\n",
                "# Printing relevant information about\n",
                "print(\"\\nSorted results\")\n",
                "for item in sorted_items:\n",
                "    print(f\"Item: {item.id}, {item.datetime}, \"\n",
                "          f\"Cloud cover: {item.properties['eo:cloud_cover']}, \"\n",
                "          f\"Nodata: {item.properties['s2:nodata_pixel_percentage']}\")\n",
                "\n",
                "print(f\"\\nOptimal result: {optimal_result2.id}, {optimal_result2.datetime}, \"\n",
                "      f\"Cloud cover: {optimal_result2.properties['eo:cloud_cover']}, \"\n",
                "      f\"Nodata: {optimal_result2.properties['s2:nodata_pixel_percentage']}\")"
            ],
            "id": "ee10a895c05db253",
            "outputs": [
                {
                    "name": "stdout",
                    "output_type": "stream",
                    "text": [
                        "[2024-09-04 14:50:51] INFO       [MainThread][geospatial_tools.stac] Initiating STAC API search for the following date ranges : [['2023-06-01T00:00:00Z/2023-07-31T23:59:59Z', '2024-06-01T00:00:00Z/2024-07-31T23:59:59Z'] \n",
                        "\tQuery : [{'eo:cloud_cover': {'lt': 1}, 's2:mgrs_tile': {'in': ['10SDJ']}}]\n",
                        "[2024-09-04 14:50:52] INFO       [MainThread][geospatial_tools.stac] Search successful for date range [2023-06-01T00:00:00Z/2023-07-31T23:59:59Z]\n",
                        "[2024-09-04 14:50:53] INFO       [MainThread][geospatial_tools.stac] Search successful for date range [2024-06-01T00:00:00Z/2024-07-31T23:59:59Z]\n",
                        "[2024-09-04 14:50:53] INFO       [MainThread][geospatial_tools.stac] Sorting results by cloud cover (from least to most)\n",
                        "\n",
                        "Sorted results\n",
                        "Item: S2A_MSIL2A_20240705T185921_R013_T10SDJ_20240706T050346, 2024-07-05 18:59:21.024000+00:00, Cloud cover: 0.006778, Nodata: 1.7e-05\n",
                        "Item: S2B_MSIL2A_20230726T185919_R013_T10SDJ_20230727T003302, 2023-07-26 18:59:19.024000+00:00, Cloud cover: 0.036048, Nodata: 1.7e-05\n",
                        "Item: S2A_MSIL2A_20240725T185921_R013_T10SDJ_20240726T025650, 2024-07-25 18:59:21.024000+00:00, Cloud cover: 0.0543, Nodata: 0.0\n",
                        "Item: S2A_MSIL2A_20230721T185921_R013_T10SDJ_20230722T024858, 2023-07-21 18:59:21.024000+00:00, Cloud cover: 0.08434, Nodata: 7e-05\n",
                        "Item: S2A_MSIL2A_20230621T185921_R013_T10SDJ_20230622T135737, 2023-06-21 18:59:21.024000+00:00, Cloud cover: 0.113825, Nodata: 7e-06\n",
                        "Item: S2A_MSIL2A_20230731T185921_R013_T10SDJ_20230801T012651, 2023-07-31 18:59:21.024000+00:00, Cloud cover: 0.147588, Nodata: 8e-05\n",
                        "Item: S2A_MSIL2A_20230601T185921_R013_T10SDJ_20230602T021004, 2023-06-01 18:59:21.024000+00:00, Cloud cover: 0.630224, Nodata: 0.0\n",
                        "\n",
                        "Optimal result: S2A_MSIL2A_20240705T185921_R013_T10SDJ_20240706T050346, 2024-07-05 18:59:21.024000+00:00, Cloud cover: 0.006778, Nodata: 1.7e-05\n"
                    ]
                }
            ],
            "execution_count": 3
        },
        {
            "metadata": {
                "ExecuteTime": {
                    "end_time": "2024-09-04T18:53:55.652582Z",
                    "start_time": "2024-09-04T18:50:53.086741Z"
                }
            },
            "cell_type": "code",
            "source": [
                "bands = [\"B02\", \"B03\", \"B04\", \"B08\", \"visual\"]\n",
                "file_base_path = Path(f\"{DATA_DIR}/sentinel-2/\")\n",
                "best_result = search_client.download_best_cloud_cover_result(bands=bands, base_directory=file_base_path)\n",
                "best_result"
            ],
            "id": "f4ec68848b408098",
            "outputs": [
                {
                    "name": "stdout",
                    "output_type": "stream",
                    "text": [
                        "[2024-09-04 14:50:53] INFO       [MainThread][geospatial_tools.stac] Downloading [S2A_MSIL2A_20240705T185921_R013_T10SDJ_20240706T050346] ...\n",
                        "[2024-09-04 14:50:53] INFO       [MainThread][geospatial_tools.stac] Downloading B02 from https://sentinel2l2a01.blob.core.windows.net/sentinel2-l2/10/S/DJ/2024/07/05/S2A_MSIL2A_20240705T185921_N0510_R013_T10SDJ_20240706T050346.SAFE/GRANULE/L2A_T10SDJ_A047200_20240705T190418/IMG_DATA/R10m/T10SDJ_20240705T185921_B02_10m.tif?st=2024-09-03T18%3A50%3A52Z&se=2024-09-04T19%3A35%3A52Z&sp=rl&sv=2024-05-04&sr=c&skoid=9c8ff44a-6a2c-4dfb-b298-1c9212f64d9a&sktid=72f988bf-86f1-41af-91ab-2d7cd011db47&skt=2024-09-04T06%3A35%3A14Z&ske=2024-09-11T06%3A35%3A14Z&sks=b&skv=2024-05-04&sig=1YeZcTKo12HXotWHwPL5omKZgQhQlmHuHvICIYEND4Y%3D\n",
                        "[2024-09-04 14:51:16] INFO       [MainThread][geospatial_tools.utils] Downloaded /home/francispelletier/projects/geospatial_tools/data/sentinel-2/S2A_MSIL2A_20240705T185921_R013_T10SDJ_20240706T050346_B02.tif successfully.\n",
                        "[2024-09-04 14:51:16] INFO       [MainThread][geospatial_tools.stac] Downloading B03 from https://sentinel2l2a01.blob.core.windows.net/sentinel2-l2/10/S/DJ/2024/07/05/S2A_MSIL2A_20240705T185921_N0510_R013_T10SDJ_20240706T050346.SAFE/GRANULE/L2A_T10SDJ_A047200_20240705T190418/IMG_DATA/R10m/T10SDJ_20240705T185921_B03_10m.tif?st=2024-09-03T18%3A50%3A52Z&se=2024-09-04T19%3A35%3A52Z&sp=rl&sv=2024-05-04&sr=c&skoid=9c8ff44a-6a2c-4dfb-b298-1c9212f64d9a&sktid=72f988bf-86f1-41af-91ab-2d7cd011db47&skt=2024-09-04T06%3A35%3A14Z&ske=2024-09-11T06%3A35%3A14Z&sks=b&skv=2024-05-04&sig=1YeZcTKo12HXotWHwPL5omKZgQhQlmHuHvICIYEND4Y%3D\n",
                        "[2024-09-04 14:52:01] INFO       [MainThread][geospatial_tools.utils] Downloaded /home/francispelletier/projects/geospatial_tools/data/sentinel-2/S2A_MSIL2A_20240705T185921_R013_T10SDJ_20240706T050346_B03.tif successfully.\n",
                        "[2024-09-04 14:52:01] INFO       [MainThread][geospatial_tools.stac] Downloading B04 from https://sentinel2l2a01.blob.core.windows.net/sentinel2-l2/10/S/DJ/2024/07/05/S2A_MSIL2A_20240705T185921_N0510_R013_T10SDJ_20240706T050346.SAFE/GRANULE/L2A_T10SDJ_A047200_20240705T190418/IMG_DATA/R10m/T10SDJ_20240705T185921_B04_10m.tif?st=2024-09-03T18%3A50%3A52Z&se=2024-09-04T19%3A35%3A52Z&sp=rl&sv=2024-05-04&sr=c&skoid=9c8ff44a-6a2c-4dfb-b298-1c9212f64d9a&sktid=72f988bf-86f1-41af-91ab-2d7cd011db47&skt=2024-09-04T06%3A35%3A14Z&ske=2024-09-11T06%3A35%3A14Z&sks=b&skv=2024-05-04&sig=1YeZcTKo12HXotWHwPL5omKZgQhQlmHuHvICIYEND4Y%3D\n",
                        "[2024-09-04 14:52:29] INFO       [MainThread][geospatial_tools.utils] Downloaded /home/francispelletier/projects/geospatial_tools/data/sentinel-2/S2A_MSIL2A_20240705T185921_R013_T10SDJ_20240706T050346_B04.tif successfully.\n",
                        "[2024-09-04 14:52:29] INFO       [MainThread][geospatial_tools.stac] Downloading B08 from https://sentinel2l2a01.blob.core.windows.net/sentinel2-l2/10/S/DJ/2024/07/05/S2A_MSIL2A_20240705T185921_N0510_R013_T10SDJ_20240706T050346.SAFE/GRANULE/L2A_T10SDJ_A047200_20240705T190418/IMG_DATA/R10m/T10SDJ_20240705T185921_B08_10m.tif?st=2024-09-03T18%3A50%3A52Z&se=2024-09-04T19%3A35%3A52Z&sp=rl&sv=2024-05-04&sr=c&skoid=9c8ff44a-6a2c-4dfb-b298-1c9212f64d9a&sktid=72f988bf-86f1-41af-91ab-2d7cd011db47&skt=2024-09-04T06%3A35%3A14Z&ske=2024-09-11T06%3A35%3A14Z&sks=b&skv=2024-05-04&sig=1YeZcTKo12HXotWHwPL5omKZgQhQlmHuHvICIYEND4Y%3D\n",
                        "[2024-09-04 14:52:57] INFO       [MainThread][geospatial_tools.utils] Downloaded /home/francispelletier/projects/geospatial_tools/data/sentinel-2/S2A_MSIL2A_20240705T185921_R013_T10SDJ_20240706T050346_B08.tif successfully.\n",
                        "[2024-09-04 14:52:57] INFO       [MainThread][geospatial_tools.stac] Downloading visual from https://sentinel2l2a01.blob.core.windows.net/sentinel2-l2/10/S/DJ/2024/07/05/S2A_MSIL2A_20240705T185921_N0510_R013_T10SDJ_20240706T050346.SAFE/GRANULE/L2A_T10SDJ_A047200_20240705T190418/IMG_DATA/R10m/T10SDJ_20240705T185921_TCI_10m.tif?st=2024-09-03T18%3A50%3A52Z&se=2024-09-04T19%3A35%3A52Z&sp=rl&sv=2024-05-04&sr=c&skoid=9c8ff44a-6a2c-4dfb-b298-1c9212f64d9a&sktid=72f988bf-86f1-41af-91ab-2d7cd011db47&skt=2024-09-04T06%3A35%3A14Z&ske=2024-09-11T06%3A35%3A14Z&sks=b&skv=2024-05-04&sig=1YeZcTKo12HXotWHwPL5omKZgQhQlmHuHvICIYEND4Y%3D\n",
                        "[2024-09-04 14:53:55] INFO       [MainThread][geospatial_tools.utils] Downloaded /home/francispelletier/projects/geospatial_tools/data/sentinel-2/S2A_MSIL2A_20240705T185921_R013_T10SDJ_20240706T050346_visual.tif successfully.\n"
                    ]
                },
                {
                    "data": {
                        "text/plain": [
                            "<geospatial_tools.stac.Asset at 0x76e16462df10>"
                        ]
                    },
                    "execution_count": 4,
                    "metadata": {},
                    "output_type": "execute_result"
                }
            ],
            "execution_count": 4
        },
        {
            "metadata": {
                "ExecuteTime": {
                    "end_time": "2024-09-04T18:53:55.701968Z",
                    "start_time": "2024-09-04T18:53:55.699468Z"
                }
            },
            "cell_type": "code",
            "source": "best_result.show_asset_items()",
            "id": "c778af33c8b56bb0",
            "outputs": [
                {
                    "name": "stdout",
                    "output_type": "stream",
                    "text": [
                        "[2024-09-04 14:53:55] INFO       [MainThread][geospatial_tools.stac] Asset list for asset [S2A_MSIL2A_20240705T185921_R013_T10SDJ_20240706T050346] : \n",
                        "\t['ID: [S2A_MSIL2A_20240705T185921_R013_T10SDJ_20240706T050346], Band: [B02], filename: [/home/francispelletier/projects/geospatial_tools/data/sentinel-2/S2A_MSIL2A_20240705T185921_R013_T10SDJ_20240706T050346_B02.tif]', 'ID: [S2A_MSIL2A_20240705T185921_R013_T10SDJ_20240706T050346], Band: [B03], filename: [/home/francispelletier/projects/geospatial_tools/data/sentinel-2/S2A_MSIL2A_20240705T185921_R013_T10SDJ_20240706T050346_B03.tif]', 'ID: [S2A_MSIL2A_20240705T185921_R013_T10SDJ_20240706T050346], Band: [B04], filename: [/home/francispelletier/projects/geospatial_tools/data/sentinel-2/S2A_MSIL2A_20240705T185921_R013_T10SDJ_20240706T050346_B04.tif]', 'ID: [S2A_MSIL2A_20240705T185921_R013_T10SDJ_20240706T050346], Band: [B08], filename: [/home/francispelletier/projects/geospatial_tools/data/sentinel-2/S2A_MSIL2A_20240705T185921_R013_T10SDJ_20240706T050346_B08.tif]', 'ID: [S2A_MSIL2A_20240705T185921_R013_T10SDJ_20240706T050346], Band: [visual], filename: [/home/francispelletier/projects/geospatial_tools/data/sentinel-2/S2A_MSIL2A_20240705T185921_R013_T10SDJ_20240706T050346_visual.tif]']\n"
                    ]
                }
            ],
            "execution_count": 5
        },
        {
            "metadata": {
                "ExecuteTime": {
                    "end_time": "2024-09-04T18:54:08.038953Z",
                    "start_time": "2024-09-04T18:53:55.749666Z"
                }
            },
            "cell_type": "code",
            "source": [
                "merged = best_result.merge_asset(base_directory=file_base_path, delete_sub_items=True)\n",
                "merged"
            ],
            "id": "f96d6ea34516bb08",
            "outputs": [
                {
                    "name": "stdout",
                    "output_type": "stream",
                    "text": [
                        "[2024-09-04 14:53:55] INFO       [MainThread][geospatial_tools.stac] Calculated a total of [7] bands\n",
                        "[2024-09-04 14:53:55] INFO       [MainThread][geospatial_tools.stac] 7\n",
                        "[2024-09-04 14:53:55] INFO       [MainThread][geospatial_tools.stac] Creating merged asset metadata\n",
                        "[2024-09-04 14:53:55] INFO       [MainThread][geospatial_tools.stac] Merging asset [S2A_MSIL2A_20240705T185921_R013_T10SDJ_20240706T050346] ...\n",
                        "[2024-09-04 14:53:55] INFO       [MainThread][geospatial_tools.stac] Writing band image: S2A_MSIL2A_20240705T185921_R013_T10SDJ_20240706T050346\n",
                        "[2024-09-04 14:53:55] INFO       [MainThread][geospatial_tools.stac] writing asset sub item band 1\n",
                        "[2024-09-04 14:53:55] INFO       [MainThread][geospatial_tools.stac] writing merged index band 1\n",
                        "[2024-09-04 14:53:57] INFO       [MainThread][geospatial_tools.stac] Writing band image: S2A_MSIL2A_20240705T185921_R013_T10SDJ_20240706T050346\n",
                        "[2024-09-04 14:53:57] INFO       [MainThread][geospatial_tools.stac] writing asset sub item band 1\n",
                        "[2024-09-04 14:53:57] INFO       [MainThread][geospatial_tools.stac] writing merged index band 2\n",
                        "[2024-09-04 14:53:58] INFO       [MainThread][geospatial_tools.stac] Writing band image: S2A_MSIL2A_20240705T185921_R013_T10SDJ_20240706T050346\n",
                        "[2024-09-04 14:53:58] INFO       [MainThread][geospatial_tools.stac] writing asset sub item band 1\n",
                        "[2024-09-04 14:53:58] INFO       [MainThread][geospatial_tools.stac] writing merged index band 3\n",
                        "[2024-09-04 14:53:59] INFO       [MainThread][geospatial_tools.stac] Writing band image: S2A_MSIL2A_20240705T185921_R013_T10SDJ_20240706T050346\n",
                        "[2024-09-04 14:53:59] INFO       [MainThread][geospatial_tools.stac] writing asset sub item band 1\n",
                        "[2024-09-04 14:53:59] INFO       [MainThread][geospatial_tools.stac] writing merged index band 4\n",
                        "[2024-09-04 14:54:00] INFO       [MainThread][geospatial_tools.stac] Writing band image: S2A_MSIL2A_20240705T185921_R013_T10SDJ_20240706T050346\n",
                        "[2024-09-04 14:54:00] INFO       [MainThread][geospatial_tools.stac] writing asset sub item band 1\n",
                        "[2024-09-04 14:54:00] INFO       [MainThread][geospatial_tools.stac] writing merged index band 5\n",
                        "[2024-09-04 14:54:03] INFO       [MainThread][geospatial_tools.stac] writing asset sub item band 2\n",
                        "[2024-09-04 14:54:03] INFO       [MainThread][geospatial_tools.stac] writing merged index band 6\n",
                        "[2024-09-04 14:54:04] INFO       [MainThread][geospatial_tools.stac] writing asset sub item band 3\n",
                        "[2024-09-04 14:54:04] INFO       [MainThread][geospatial_tools.stac] writing merged index band 7\n",
                        "[2024-09-04 14:54:07] INFO       [MainThread][geospatial_tools.stac] Asset [S2A_MSIL2A_20240705T185921_R013_T10SDJ_20240706T050346] merged successfully\n",
                        "[2024-09-04 14:54:07] INFO       [MainThread][geospatial_tools.stac] Asset location : [/home/francispelletier/projects/geospatial_tools/data/sentinel-2/S2A_MSIL2A_20240705T185921_R013_T10SDJ_20240706T050346_merged.tif]\n",
                        "[2024-09-04 14:54:07] INFO       [MainThread][geospatial_tools.stac] Deleting asset sub items from asset [S2A_MSIL2A_20240705T185921_R013_T10SDJ_20240706T050346]\n",
                        "[2024-09-04 14:54:07] INFO       [MainThread][geospatial_tools.stac] Deleting [/home/francispelletier/projects/geospatial_tools/data/sentinel-2/S2A_MSIL2A_20240705T185921_R013_T10SDJ_20240706T050346_B02.tif] ...\n",
                        "[2024-09-04 14:54:07] INFO       [MainThread][geospatial_tools.stac] Deleting [/home/francispelletier/projects/geospatial_tools/data/sentinel-2/S2A_MSIL2A_20240705T185921_R013_T10SDJ_20240706T050346_B03.tif] ...\n",
                        "[2024-09-04 14:54:07] INFO       [MainThread][geospatial_tools.stac] Deleting [/home/francispelletier/projects/geospatial_tools/data/sentinel-2/S2A_MSIL2A_20240705T185921_R013_T10SDJ_20240706T050346_B04.tif] ...\n",
                        "[2024-09-04 14:54:07] INFO       [MainThread][geospatial_tools.stac] Deleting [/home/francispelletier/projects/geospatial_tools/data/sentinel-2/S2A_MSIL2A_20240705T185921_R013_T10SDJ_20240706T050346_B08.tif] ...\n",
                        "[2024-09-04 14:54:07] INFO       [MainThread][geospatial_tools.stac] Deleting [/home/francispelletier/projects/geospatial_tools/data/sentinel-2/S2A_MSIL2A_20240705T185921_R013_T10SDJ_20240706T050346_visual.tif] ...\n"
                    ]
                },
                {
                    "data": {
                        "text/plain": [
                            "PosixPath('/home/francispelletier/projects/geospatial_tools/data/sentinel-2/S2A_MSIL2A_20240705T185921_R013_T10SDJ_20240706T050346_merged.tif')"
                        ]
                    },
                    "execution_count": 6,
                    "metadata": {},
                    "output_type": "execute_result"
                }
            ],
            "execution_count": 6
        },
        {
            "metadata": {
                "ExecuteTime": {
                    "end_time": "2024-09-04T18:55:23.882707Z",
                    "start_time": "2024-09-04T18:54:08.059005Z"
                }
            },
            "cell_type": "code",
            "source": [
                "reprojected = best_result.reproject_merged_asset(target_projection=5070, \n",
                "                                                 base_directory=file_base_path,\n",
                "                                                 delete_merged_asset=True)\n",
                "reprojected"
            ],
            "id": "553190ac13f3f758",
            "outputs": [
                {
                    "name": "stdout",
                    "output_type": "stream",
                    "text": [
                        "[2024-09-04 14:54:08] INFO       [MainThread][geospatial_tools.stac] Reprojecting asset [S2A_MSIL2A_20240705T185921_R013_T10SDJ_20240706T050346] ...\n",
                        "[2024-09-04 14:54:08] INFO       [MainThread][geospatial_tools.stac] Creating EPSG code from following input : [5070]\n",
                        "[2024-09-04 14:55:23] INFO       [MainThread][geospatial_tools.stac] Reprojected file created at /home/francispelletier/projects/geospatial_tools/data/sentinel-2/S2A_MSIL2A_20240705T185921_R013_T10SDJ_20240706T050346_reprojected.tif\n",
                        "[2024-09-04 14:55:23] INFO       [MainThread][geospatial_tools.stac] Asset location : [/home/francispelletier/projects/geospatial_tools/data/sentinel-2/S2A_MSIL2A_20240705T185921_R013_T10SDJ_20240706T050346_reprojected.tif]\n",
                        "[2024-09-04 14:55:23] INFO       [MainThread][geospatial_tools.stac] Deleting merged asset file for [/home/francispelletier/projects/geospatial_tools/data/sentinel-2/S2A_MSIL2A_20240705T185921_R013_T10SDJ_20240706T050346_merged.tif]\n"
                    ]
                },
                {
                    "data": {
                        "text/plain": [
                            "PosixPath('/home/francispelletier/projects/geospatial_tools/data/sentinel-2/S2A_MSIL2A_20240705T185921_R013_T10SDJ_20240706T050346_reprojected.tif')"
                        ]
                    },
                    "execution_count": 7,
                    "metadata": {},
                    "output_type": "execute_result"
                }
            ],
            "execution_count": 7
        },
        {
            "metadata": {},
            "cell_type": "code",
            "source": [
                "import rasterio\n",
                "import matplotlib.pyplot as plt\n",
                "import numpy as np\n",
                "\n",
                "# Path to your multiband TIFF image\n",
                "image_path = str(reprojected)\n",
                "\n",
                "# Open the image file\n",
                "with rasterio.open(image_path) as src:\n",
                "    # Read the desired bands (adjust band indices as needed)\n",
                "    band_red = src.read(5)  # Assuming band 3 is red\n",
                "    band_green = src.read(6)  # Assuming band 2 is green\n",
                "    band_blue = src.read(7)  # Assuming band 1 is blue\n",
                "\n",
                "    # Stack the bands into an RGB array\n",
                "    rgb = np.dstack((band_red, band_green, band_blue))\n",
                "\n",
                "    # Display the image using Matplotlib\n",
                "    plt.imshow(rgb)\n",
                "    plt.show()"
            ],
            "id": "cd6fb8a10f565dab",
            "outputs": [],
            "execution_count": null
        },
        {
            "metadata": {},
            "cell_type": "code",
            "outputs": [],
            "execution_count": null,
            "source": "",
            "id": "859a93d3cccf4f8e"
        }
    ],
    "metadata": {
        "kernelspec": {
            "display_name": "Python 3",
            "language": "python",
            "name": "python3"
        },
        "language_info": {
            "codemirror_mode": {
                "name": "ipython",
                "version": 2
            },
            "file_extension": ".py",
            "mimetype": "text/x-python",
            "name": "python",
            "nbconvert_exporter": "python",
            "pygments_lexer": "ipython2",
            "version": "2.7.6"
        }
    },
    "nbformat": 4,
    "nbformat_minor": 5
}
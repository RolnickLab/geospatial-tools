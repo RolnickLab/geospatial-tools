{
 "cells": [
  {
   "cell_type": "code",
   "id": "initial_id",
   "metadata": {
    "ExecuteTime": {
     "end_time": "2024-05-23T21:40:02.546410Z",
     "start_time": "2024-05-23T21:40:01.742932Z"
    }
   },
   "source": [
    "import leafmap\n",
    "import geopandas as gpd\n",
    "import numpy as np\n",
    "import pathlib\n",
    "\n",
    "from geospatial_tools import DATA_DIR\n",
    "from shapely.geometry import Polygon"
   ],
   "outputs": [],
   "execution_count": 1
  },
  {
   "metadata": {},
   "cell_type": "markdown",
   "source": [
    "## Base data\n",
    "\n",
    "The USA polygon is base off 2018's `cb_2018_us_nation_5m` shapefile, taken from here: \n",
    "https://www.census.gov/geographies/mapping-files/time-series/geo/carto-boundary-file.html\n",
    "\n",
    "It was then processed using QGIS to keep only the contiguous states, without any islands.\n",
    "\n",
    "The Sentinel 2 grid was taken from the kml file found here: \n",
    "https://sentinels.copernicus.eu/web/sentinel/missions/sentinel-2/data-products\n",
    "\n",
    "It was then processed using QGIS to keep only the grid cells that overlap with the \n",
    "contiguous states, meaning the polygon layer which is described just above.\n",
    "\n",
    "Since our area of study is quite large, the `EPSG:5070` projection was chosen, as it\n",
    "covers the whole area, introduces minimal distortion while preserving area."
   ],
   "id": "f2c6690384600863"
  },
  {
   "cell_type": "code",
   "id": "fcb67d1eb21aafc1",
   "metadata": {
    "ExecuteTime": {
     "end_time": "2024-05-23T21:40:02.551176Z",
     "start_time": "2024-05-23T21:40:02.548069Z"
    }
   },
   "source": [
    "USA_POLYGON_FILE = DATA_DIR / \"usa/usa_polygon_5070.gpkg\"\n",
    "S2_USA_GRID_FILE = DATA_DIR / \"usa/s2_grid_usa_polygon_5070.gpkg\""
   ],
   "outputs": [],
   "execution_count": 2
  },
  {
   "cell_type": "code",
   "id": "1f3b83d1d0e55f60",
   "metadata": {
    "ExecuteTime": {
     "end_time": "2024-05-23T21:40:02.850700Z",
     "start_time": "2024-05-23T21:40:02.552195Z"
    }
   },
   "source": [
    "usa_polygon = gpd.read_file(USA_POLYGON_FILE)\n",
    "s2_grid = gpd.read_file(S2_USA_GRID_FILE)"
   ],
   "outputs": [],
   "execution_count": 3
  },
  {
   "metadata": {
    "ExecuteTime": {
     "end_time": "2024-05-23T21:40:02.904569Z",
     "start_time": "2024-05-23T21:40:02.852125Z"
    }
   },
   "cell_type": "code",
   "source": "usa_polygon",
   "id": "314e7c068786ad4d",
   "outputs": [
    {
     "data": {
      "text/plain": [
       "    AFFGEOID GEOID           NAME  \\\n",
       "0  0100000US    US  United States   \n",
       "\n",
       "                                            geometry  \n",
       "0  MULTIPOLYGON (((-2123555.702 3120381.564, -212...  "
      ],
      "text/html": [
       "<div>\n",
       "<style scoped>\n",
       "    .dataframe tbody tr th:only-of-type {\n",
       "        vertical-align: middle;\n",
       "    }\n",
       "\n",
       "    .dataframe tbody tr th {\n",
       "        vertical-align: top;\n",
       "    }\n",
       "\n",
       "    .dataframe thead th {\n",
       "        text-align: right;\n",
       "    }\n",
       "</style>\n",
       "<table border=\"1\" class=\"dataframe\">\n",
       "  <thead>\n",
       "    <tr style=\"text-align: right;\">\n",
       "      <th></th>\n",
       "      <th>AFFGEOID</th>\n",
       "      <th>GEOID</th>\n",
       "      <th>NAME</th>\n",
       "      <th>geometry</th>\n",
       "    </tr>\n",
       "  </thead>\n",
       "  <tbody>\n",
       "    <tr>\n",
       "      <th>0</th>\n",
       "      <td>0100000US</td>\n",
       "      <td>US</td>\n",
       "      <td>United States</td>\n",
       "      <td>MULTIPOLYGON (((-2123555.702 3120381.564, -212...</td>\n",
       "    </tr>\n",
       "  </tbody>\n",
       "</table>\n",
       "</div>"
      ]
     },
     "execution_count": 4,
     "metadata": {},
     "output_type": "execute_result"
    }
   ],
   "execution_count": 4
  },
  {
   "metadata": {
    "ExecuteTime": {
     "end_time": "2024-05-23T21:40:02.914459Z",
     "start_time": "2024-05-23T21:40:02.905449Z"
    }
   },
   "cell_type": "code",
   "source": "s2_grid",
   "id": "3e9461ed5b602319",
   "outputs": [
    {
     "data": {
      "text/plain": [
       "      name   folders                                        description  \\\n",
       "0    12TUP  Features  TILE PROPERTIES<br><table border=0 cellpadding...   \n",
       "1    12TYQ  Features  TILE PROPERTIES<br><table border=0 cellpadding...   \n",
       "2    12TYR  Features  TILE PROPERTIES<br><table border=0 cellpadding...   \n",
       "3    12TYN  Features  TILE PROPERTIES<br><table border=0 cellpadding...   \n",
       "4    12TYP  Features  TILE PROPERTIES<br><table border=0 cellpadding...   \n",
       "..     ...       ...                                                ...   \n",
       "977  12TTM  Features  TILE PROPERTIES<br><table border=0 cellpadding...   \n",
       "978  12TUK  Features  TILE PROPERTIES<br><table border=0 cellpadding...   \n",
       "979  12TUQ  Features  TILE PROPERTIES<br><table border=0 cellpadding...   \n",
       "980  12TUR  Features  TILE PROPERTIES<br><table border=0 cellpadding...   \n",
       "981  12TUN  Features  TILE PROPERTIES<br><table border=0 cellpadding...   \n",
       "\n",
       "     altitude alt_mode time_begin time_end time_when  \\\n",
       "0         0.0                                          \n",
       "1         0.0                                          \n",
       "2         0.0                                          \n",
       "3         0.0                                          \n",
       "4         0.0                                          \n",
       "..        ...      ...        ...      ...       ...   \n",
       "977       0.0                                          \n",
       "978       0.0                                          \n",
       "979       0.0                                          \n",
       "980       0.0                                          \n",
       "981       0.0                                          \n",
       "\n",
       "                                              geometry  \n",
       "0    MULTIPOLYGON Z (((-1386334.944 2487548.770 0.0...  \n",
       "1    MULTIPOLYGON Z (((-976300.478 2523767.452 0.00...  \n",
       "2    MULTIPOLYGON Z (((-960099.705 2622374.255 0.00...  \n",
       "3    MULTIPOLYGON Z (((-1008622.024 2325748.358 0.0...  \n",
       "4    MULTIPOLYGON Z (((-992478.385 2424861.340 0.00...  \n",
       "..                                                 ...  \n",
       "977  MULTIPOLYGON Z (((-1515431.586 2304192.826 0.0...  \n",
       "978  MULTIPOLYGON Z (((-1448525.813 2089886.667 0.0...  \n",
       "979  MULTIPOLYGON Z (((-1371006.917 2586590.133 0.0...  \n",
       "980  MULTIPOLYGON Z (((-1355793.563 2685354.080 0.0...  \n",
       "981  MULTIPOLYGON Z (((-1401759.785 2388321.400 0.0...  \n",
       "\n",
       "[982 rows x 9 columns]"
      ],
      "text/html": [
       "<div>\n",
       "<style scoped>\n",
       "    .dataframe tbody tr th:only-of-type {\n",
       "        vertical-align: middle;\n",
       "    }\n",
       "\n",
       "    .dataframe tbody tr th {\n",
       "        vertical-align: top;\n",
       "    }\n",
       "\n",
       "    .dataframe thead th {\n",
       "        text-align: right;\n",
       "    }\n",
       "</style>\n",
       "<table border=\"1\" class=\"dataframe\">\n",
       "  <thead>\n",
       "    <tr style=\"text-align: right;\">\n",
       "      <th></th>\n",
       "      <th>name</th>\n",
       "      <th>folders</th>\n",
       "      <th>description</th>\n",
       "      <th>altitude</th>\n",
       "      <th>alt_mode</th>\n",
       "      <th>time_begin</th>\n",
       "      <th>time_end</th>\n",
       "      <th>time_when</th>\n",
       "      <th>geometry</th>\n",
       "    </tr>\n",
       "  </thead>\n",
       "  <tbody>\n",
       "    <tr>\n",
       "      <th>0</th>\n",
       "      <td>12TUP</td>\n",
       "      <td>Features</td>\n",
       "      <td>TILE PROPERTIES&lt;br&gt;&lt;table border=0 cellpadding...</td>\n",
       "      <td>0.0</td>\n",
       "      <td></td>\n",
       "      <td></td>\n",
       "      <td></td>\n",
       "      <td></td>\n",
       "      <td>MULTIPOLYGON Z (((-1386334.944 2487548.770 0.0...</td>\n",
       "    </tr>\n",
       "    <tr>\n",
       "      <th>1</th>\n",
       "      <td>12TYQ</td>\n",
       "      <td>Features</td>\n",
       "      <td>TILE PROPERTIES&lt;br&gt;&lt;table border=0 cellpadding...</td>\n",
       "      <td>0.0</td>\n",
       "      <td></td>\n",
       "      <td></td>\n",
       "      <td></td>\n",
       "      <td></td>\n",
       "      <td>MULTIPOLYGON Z (((-976300.478 2523767.452 0.00...</td>\n",
       "    </tr>\n",
       "    <tr>\n",
       "      <th>2</th>\n",
       "      <td>12TYR</td>\n",
       "      <td>Features</td>\n",
       "      <td>TILE PROPERTIES&lt;br&gt;&lt;table border=0 cellpadding...</td>\n",
       "      <td>0.0</td>\n",
       "      <td></td>\n",
       "      <td></td>\n",
       "      <td></td>\n",
       "      <td></td>\n",
       "      <td>MULTIPOLYGON Z (((-960099.705 2622374.255 0.00...</td>\n",
       "    </tr>\n",
       "    <tr>\n",
       "      <th>3</th>\n",
       "      <td>12TYN</td>\n",
       "      <td>Features</td>\n",
       "      <td>TILE PROPERTIES&lt;br&gt;&lt;table border=0 cellpadding...</td>\n",
       "      <td>0.0</td>\n",
       "      <td></td>\n",
       "      <td></td>\n",
       "      <td></td>\n",
       "      <td></td>\n",
       "      <td>MULTIPOLYGON Z (((-1008622.024 2325748.358 0.0...</td>\n",
       "    </tr>\n",
       "    <tr>\n",
       "      <th>4</th>\n",
       "      <td>12TYP</td>\n",
       "      <td>Features</td>\n",
       "      <td>TILE PROPERTIES&lt;br&gt;&lt;table border=0 cellpadding...</td>\n",
       "      <td>0.0</td>\n",
       "      <td></td>\n",
       "      <td></td>\n",
       "      <td></td>\n",
       "      <td></td>\n",
       "      <td>MULTIPOLYGON Z (((-992478.385 2424861.340 0.00...</td>\n",
       "    </tr>\n",
       "    <tr>\n",
       "      <th>...</th>\n",
       "      <td>...</td>\n",
       "      <td>...</td>\n",
       "      <td>...</td>\n",
       "      <td>...</td>\n",
       "      <td>...</td>\n",
       "      <td>...</td>\n",
       "      <td>...</td>\n",
       "      <td>...</td>\n",
       "      <td>...</td>\n",
       "    </tr>\n",
       "    <tr>\n",
       "      <th>977</th>\n",
       "      <td>12TTM</td>\n",
       "      <td>Features</td>\n",
       "      <td>TILE PROPERTIES&lt;br&gt;&lt;table border=0 cellpadding...</td>\n",
       "      <td>0.0</td>\n",
       "      <td></td>\n",
       "      <td></td>\n",
       "      <td></td>\n",
       "      <td></td>\n",
       "      <td>MULTIPOLYGON Z (((-1515431.586 2304192.826 0.0...</td>\n",
       "    </tr>\n",
       "    <tr>\n",
       "      <th>978</th>\n",
       "      <td>12TUK</td>\n",
       "      <td>Features</td>\n",
       "      <td>TILE PROPERTIES&lt;br&gt;&lt;table border=0 cellpadding...</td>\n",
       "      <td>0.0</td>\n",
       "      <td></td>\n",
       "      <td></td>\n",
       "      <td></td>\n",
       "      <td></td>\n",
       "      <td>MULTIPOLYGON Z (((-1448525.813 2089886.667 0.0...</td>\n",
       "    </tr>\n",
       "    <tr>\n",
       "      <th>979</th>\n",
       "      <td>12TUQ</td>\n",
       "      <td>Features</td>\n",
       "      <td>TILE PROPERTIES&lt;br&gt;&lt;table border=0 cellpadding...</td>\n",
       "      <td>0.0</td>\n",
       "      <td></td>\n",
       "      <td></td>\n",
       "      <td></td>\n",
       "      <td></td>\n",
       "      <td>MULTIPOLYGON Z (((-1371006.917 2586590.133 0.0...</td>\n",
       "    </tr>\n",
       "    <tr>\n",
       "      <th>980</th>\n",
       "      <td>12TUR</td>\n",
       "      <td>Features</td>\n",
       "      <td>TILE PROPERTIES&lt;br&gt;&lt;table border=0 cellpadding...</td>\n",
       "      <td>0.0</td>\n",
       "      <td></td>\n",
       "      <td></td>\n",
       "      <td></td>\n",
       "      <td></td>\n",
       "      <td>MULTIPOLYGON Z (((-1355793.563 2685354.080 0.0...</td>\n",
       "    </tr>\n",
       "    <tr>\n",
       "      <th>981</th>\n",
       "      <td>12TUN</td>\n",
       "      <td>Features</td>\n",
       "      <td>TILE PROPERTIES&lt;br&gt;&lt;table border=0 cellpadding...</td>\n",
       "      <td>0.0</td>\n",
       "      <td></td>\n",
       "      <td></td>\n",
       "      <td></td>\n",
       "      <td></td>\n",
       "      <td>MULTIPOLYGON Z (((-1401759.785 2388321.400 0.0...</td>\n",
       "    </tr>\n",
       "  </tbody>\n",
       "</table>\n",
       "<p>982 rows × 9 columns</p>\n",
       "</div>"
      ]
     },
     "execution_count": 5,
     "metadata": {},
     "output_type": "execute_result"
    }
   ],
   "execution_count": 5
  },
  {
   "metadata": {
    "ExecuteTime": {
     "end_time": "2024-05-23T21:40:02.917231Z",
     "start_time": "2024-05-23T21:40:02.915329Z"
    }
   },
   "cell_type": "code",
   "source": [
    "# m = leafmap.Map(center=[40, -98], zoom=4)\n",
    "# \n",
    "# # In blue, the USA polygon\n",
    "# m.add_gdf(usa_polygon, layer='usa')\n",
    "# # In red, the Sentinel 2 grid\n",
    "# m.add_gdf(s2_grid, layer='s2_grid', style={\"color\": \"red\"})\n",
    "# \n",
    "# m"
   ],
   "id": "a06e0387c33e38d0",
   "outputs": [],
   "execution_count": 6
  },
  {
   "metadata": {},
   "cell_type": "markdown",
   "source": [
    "## Creating our inference grid\n",
    "\n",
    "From this, we want to create a grid of square polygons with which we will later on\n",
    "query the [Planetary Computer](https://planetarycomputer.microsoft.com/dataset/sentinel-2-l2a)\n",
    "Sentinel 2 dataset and clip the selected Sentinel 2 images."
   ],
   "id": "2af55ae4bef9b74b"
  },
  {
   "metadata": {
    "ExecuteTime": {
     "end_time": "2024-05-23T21:40:02.925360Z",
     "start_time": "2024-05-23T21:40:02.918257Z"
    }
   },
   "cell_type": "code",
   "source": [
    "import time\n",
    "import os\n",
    "\n",
    "from geospatial_tools.vector import create_vector_grid, create_vector_grid_parallel\n"
   ],
   "id": "3e4e25697ae88500",
   "outputs": [],
   "execution_count": 7
  },
  {
   "metadata": {
    "ExecuteTime": {
     "end_time": "2024-05-23T21:40:02.929572Z",
     "start_time": "2024-05-23T21:40:02.926637Z"
    }
   },
   "cell_type": "code",
   "source": [
    "grid_size = 5000\n",
    "bbox = usa_polygon.total_bounds"
   ],
   "id": "540e7e9465b0dd28",
   "outputs": [],
   "execution_count": 8
  },
  {
   "metadata": {},
   "cell_type": "markdown",
   "source": [
    "## Creating our inference grid\n",
    "\n",
    "From this, we want to create a grid of square polygons with which we will later on\n",
    "query the [Planetary Computer](https://planetarycomputer.microsoft.com/dataset/sentinel-2-l2a)\n",
    "Sentinel 2 dataset and clip the selected Sentinel 2 images."
   ],
   "id": "576a9f79593417b9"
  },
  {
   "metadata": {
    "ExecuteTime": {
     "end_time": "2024-05-23T21:40:02.942788Z",
     "start_time": "2024-05-23T21:40:02.938890Z"
    }
   },
   "cell_type": "code",
   "source": [
    "start = time.time()\n",
    "print(\"Starting processing for [create_vector_grid]\")\n",
    "grid = create_vector_grid(bounding_box=bbox, grid_size=grid_size, crs=\"EPSG:5070\")\n",
    "stop = time.time()\n",
    "print(f\"Number of polygons: {len(grid)}\")\n",
    "print(f\"Time taken to create grid: {stop - start}\")"
   ],
   "id": "d4546352d604eaf",
   "outputs": [],
   "execution_count": 11
  },
  {
   "metadata": {
    "ExecuteTime": {
     "end_time": "2024-05-23T21:40:02.946459Z",
     "start_time": "2024-05-23T21:40:02.944161Z"
    }
   },
   "cell_type": "code",
   "source": [
    "start = time.time()\n",
    "print(\"Starting write for [create_vector_grid_parallel]\")\n",
    "grid.to_file(filename=\"test_write_vector_grid\", driver=\"GPKG\")\n",
    "stop = time.time()\n",
    "print(f\"Time taken to write parallel grid to file: {stop - start}\")"
   ],
   "id": "cf10fac1fa61553a",
   "outputs": [],
   "execution_count": 12
  },
  {
   "metadata": {
    "ExecuteTime": {
     "end_time": "2024-05-23T21:42:02.212943Z",
     "start_time": "2024-05-23T21:40:02.947388Z"
    }
   },
   "cell_type": "code",
   "source": [
    "start = time.time()\n",
    "print(\"Starting processing for [create_vector_grid_parallel]\")\n",
    "grid_parallel = create_vector_grid_parallel(bounding_box=bbox, grid_size=grid_size, crs=\"EPSG:5070\")\n",
    "stop = time.time()\n",
    "print(f\"Number of polygons: {len(grid)}\")\n",
    "print(f\"Time taken to create parallel grid: {stop - start}\")"
   ],
   "id": "d406b0593812bf43",
   "outputs": [
    {
     "name": "stdout",
     "output_type": "stream",
     "text": [
      "Time taken to create grid: 119.25849294662476\n"
     ]
    },
    {
     "data": {
      "text/plain": [
       "                                                   geometry\n",
       "0         POLYGON ((-2356113.743 310919.600, -2355113.74...\n",
       "1         POLYGON ((-2355113.743 310919.600, -2354113.74...\n",
       "2         POLYGON ((-2354113.743 310919.600, -2353113.74...\n",
       "3         POLYGON ((-2353113.743 310919.600, -2352113.74...\n",
       "4         POLYGON ((-2352113.743 310919.600, -2351113.74...\n",
       "...                                                     ...\n",
       "13175820  POLYGON ((2253886.257 3164919.600, 2254886.257...\n",
       "13175821  POLYGON ((2254886.257 3164919.600, 2255886.257...\n",
       "13175822  POLYGON ((2255886.257 3164919.600, 2256886.257...\n",
       "13175823  POLYGON ((2256886.257 3164919.600, 2257886.257...\n",
       "13175824  POLYGON ((2257886.257 3164919.600, 2258886.257...\n",
       "\n",
       "[13175825 rows x 1 columns]"
      ],
      "text/html": [
       "<div>\n",
       "<style scoped>\n",
       "    .dataframe tbody tr th:only-of-type {\n",
       "        vertical-align: middle;\n",
       "    }\n",
       "\n",
       "    .dataframe tbody tr th {\n",
       "        vertical-align: top;\n",
       "    }\n",
       "\n",
       "    .dataframe thead th {\n",
       "        text-align: right;\n",
       "    }\n",
       "</style>\n",
       "<table border=\"1\" class=\"dataframe\">\n",
       "  <thead>\n",
       "    <tr style=\"text-align: right;\">\n",
       "      <th></th>\n",
       "      <th>geometry</th>\n",
       "    </tr>\n",
       "  </thead>\n",
       "  <tbody>\n",
       "    <tr>\n",
       "      <th>0</th>\n",
       "      <td>POLYGON ((-2356113.743 310919.600, -2355113.74...</td>\n",
       "    </tr>\n",
       "    <tr>\n",
       "      <th>1</th>\n",
       "      <td>POLYGON ((-2355113.743 310919.600, -2354113.74...</td>\n",
       "    </tr>\n",
       "    <tr>\n",
       "      <th>2</th>\n",
       "      <td>POLYGON ((-2354113.743 310919.600, -2353113.74...</td>\n",
       "    </tr>\n",
       "    <tr>\n",
       "      <th>3</th>\n",
       "      <td>POLYGON ((-2353113.743 310919.600, -2352113.74...</td>\n",
       "    </tr>\n",
       "    <tr>\n",
       "      <th>4</th>\n",
       "      <td>POLYGON ((-2352113.743 310919.600, -2351113.74...</td>\n",
       "    </tr>\n",
       "    <tr>\n",
       "      <th>...</th>\n",
       "      <td>...</td>\n",
       "    </tr>\n",
       "    <tr>\n",
       "      <th>13175820</th>\n",
       "      <td>POLYGON ((2253886.257 3164919.600, 2254886.257...</td>\n",
       "    </tr>\n",
       "    <tr>\n",
       "      <th>13175821</th>\n",
       "      <td>POLYGON ((2254886.257 3164919.600, 2255886.257...</td>\n",
       "    </tr>\n",
       "    <tr>\n",
       "      <th>13175822</th>\n",
       "      <td>POLYGON ((2255886.257 3164919.600, 2256886.257...</td>\n",
       "    </tr>\n",
       "    <tr>\n",
       "      <th>13175823</th>\n",
       "      <td>POLYGON ((2256886.257 3164919.600, 2257886.257...</td>\n",
       "    </tr>\n",
       "    <tr>\n",
       "      <th>13175824</th>\n",
       "      <td>POLYGON ((2257886.257 3164919.600, 2258886.257...</td>\n",
       "    </tr>\n",
       "  </tbody>\n",
       "</table>\n",
       "<p>13175825 rows × 1 columns</p>\n",
       "</div>"
      ]
     },
     "execution_count": 13,
     "metadata": {},
     "output_type": "execute_result"
    }
   ],
   "execution_count": 13
  },
  {
   "metadata": {
    "ExecuteTime": {
     "end_time": "2024-05-23T22:07:23.733312Z",
     "start_time": "2024-05-23T21:43:02.376033Z"
    }
   },
   "cell_type": "code",
   "source": [
    "start = time.time()\n",
    "print(\"Starting write for [create_vector_grid_parallel]\")\n",
    "grid_parallel.to_file(filename=\"test_write_grid_parallel\", driver=\"GPKG\")\n",
    "stop = time.time()\n",
    "print(f\"Time taken to write parallel grid to file: {stop - start}\")"
   ],
   "id": "2007a0eab810ce78",
   "outputs": [],
   "execution_count": 15
  },
  {
   "metadata": {
    "ExecuteTime": {
     "end_time": "2024-05-23T22:23:42.367921Z",
     "start_time": "2024-05-23T22:23:42.365333Z"
    }
   },
   "cell_type": "code",
   "source": [
    "from concurrent.futures import ProcessPoolExecutor\n",
    "import fiona\n",
    "import shutil"
   ],
   "id": "73ed6c00cef276a5",
   "outputs": [],
   "execution_count": 19
  },
  {
   "metadata": {
    "ExecuteTime": {
     "end_time": "2024-05-23T22:26:26.970012Z",
     "start_time": "2024-05-23T22:26:26.965542Z"
    }
   },
   "cell_type": "code",
   "source": [
    "def write_chunk(chunk, filename, mode='w'):\n",
    "    \"\"\"\n",
    "    Write a single chunk to the GeoPackage.\n",
    "\n",
    "    Parameters:\n",
    "    chunk (GeoDataFrame): The chunk to write.\n",
    "    filename (str): The filename to write to.\n",
    "    mode (str): The mode to open the file with ('w' for write, 'a' for append).\n",
    "\n",
    "    Returns:\n",
    "    None\n",
    "    \"\"\"\n",
    "    with fiona.open(filename, mode=mode, driver='GPKG', schema=chunk.schema, crs=chunk.crs) as layer:\n",
    "        layer.writerecords(chunk.iterfeatures())\n",
    "\n",
    "def to_file_parallel(gdf, filename, chunk_size=10000):\n",
    "    \"\"\"\n",
    "    Save GeoDataFrame to a file in parallel.\n",
    "\n",
    "    Parameters:\n",
    "    gdf (GeoDataFrame): The GeoDataFrame to save.\n",
    "    filename (str): The filename to save to.\n",
    "    chunk_size (int): The number of rows per chunk.\n",
    "    num_workers (int): The number of parallel workers.\n",
    "\n",
    "    Returns:\n",
    "    None\n",
    "    \"\"\"\n",
    "    if os.path.exists(filename):\n",
    "        os.remove(filename)\n",
    "\n",
    "    chunks = [gdf.iloc[i:i + chunk_size] for i in range(0, len(gdf), chunk_size)]\n",
    "    \n",
    "    with ProcessPoolExecutor() as executor:\n",
    "        # First chunk in write mode\n",
    "        executor.submit(write_chunk, chunks[0], filename, 'w')\n",
    "        \n",
    "        # Remaining chunks in append mode\n",
    "        for chunk in chunks[1:]:\n",
    "            executor.submit(write_chunk, chunk, filename, 'a')"
   ],
   "id": "b6d3f52516e47692",
   "outputs": [],
   "execution_count": 24
  },
  {
   "metadata": {
    "ExecuteTime": {
     "end_time": "2024-05-23T22:24:58.019203Z",
     "start_time": "2024-05-23T22:24:45.484200Z"
    }
   },
   "cell_type": "code",
   "source": "to_file_parallel(grid_parallel, \"grid_parallel3.gpkg\")",
   "id": "a00b8f74320f3fb3",
   "outputs": [],
   "execution_count": 23
  },
  {
   "metadata": {},
   "cell_type": "code",
   "outputs": [],
   "execution_count": null,
   "source": "",
   "id": "857f1ba352cad873"
  }
 ],
 "metadata": {
  "kernelspec": {
   "display_name": "Python 3 (ipykernel)",
   "language": "python",
   "name": "python3"
  },
  "language_info": {
   "codemirror_mode": {
    "name": "ipython",
    "version": 3
   },
   "file_extension": ".py",
   "mimetype": "text/x-python",
   "name": "python",
   "nbconvert_exporter": "python",
   "pygments_lexer": "ipython3",
   "version": "3.10.14"
  }
 },
 "nbformat": 4,
 "nbformat_minor": 5
}

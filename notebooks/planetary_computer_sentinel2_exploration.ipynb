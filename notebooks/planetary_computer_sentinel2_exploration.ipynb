{
 "cells": [
  {
   "cell_type": "code",
   "id": "initial_id",
   "metadata": {},
   "source": [
    "import leafmap\n",
    "import geopandas as gpd\n",
    "from geospatial_tools import DATA_DIR\n",
    "from geospatial_tools.planetary_computer.sentinel_2 import BestProductsForFeatures, download_and_process_sentinel2_asset\n",
    "from geospatial_tools.raster import clip_raster_with_polygon\n",
    "from geospatial_tools.stac import Asset\n",
    "from geospatial_tools.utils import get_yaml_config, download_url, unzip_file\n",
    "from geospatial_tools.vector import create_vector_grid_parallel, to_geopackage, select_polygons_by_location"
   ],
   "outputs": [],
   "execution_count": null
  },
  {
   "cell_type": "markdown",
   "id": "f2c6690384600863",
   "metadata": {},
   "source": [
    "## Base data\n",
    "\n",
    "The USA polygon is base off 2018's `cb_2018_us_nation_20m` shapefile, taken from here: \n",
    "https://www.census.gov/geographies/mapping-files/time-series/geo/carto-boundary-file.html\n",
    "\n",
    "It was then processed using QGIS to keep only the contiguous states, without any islands.\n",
    "\n",
    "The Sentinel 2 grid was taken from the kml file found here: \n",
    "https://sentiwiki.copernicus.eu/web/s2-products\n",
    "\n",
    "Below is some code to help with the download part."
   ]
  },
  {
   "cell_type": "markdown",
   "id": "a838c6981d825ac5",
   "metadata": {},
   "source": [
    "### Downloading data\n",
    "Let's download our source data"
   ]
  },
  {
   "metadata": {},
   "cell_type": "code",
   "outputs": [],
   "execution_count": null,
   "source": [
    "file_configs = get_yaml_config(\"data_file_links\")\n",
    "raw_usa_polygon_path = file_configs[\"united_states_polygon\"][\"url\"]\n",
    "raw_s2_tiling_grid_path = file_configs[\"sentinel_2_tiling_grid\"][\"url\"]\n",
    "download_list = {\"raw_usa_polygon\": raw_usa_polygon_path, \"raw_s2_tiling_grid\": raw_s2_tiling_grid_path}\n",
    "file_list = [download_url(url=url, filename=f\"{DATA_DIR}/{key}.zip\") for key, url in download_list.items()]\n",
    "\n",
    "file_list\n",
    "\n"
   ],
   "id": "687ac922509bf0e4"
  },
  {
   "metadata": {},
   "cell_type": "code",
   "outputs": [],
   "execution_count": null,
   "source": "[unzip_file(zip_path=f, extract_to=DATA_DIR) for f in file_list]",
   "id": "26a5535d1d05fbbe"
  },
  {
   "metadata": {},
   "cell_type": "markdown",
   "source": [
    "### Initial pre-processing\n",
    "\n",
    "The above layers were processed using QGIS.\n",
    "\n",
    "For the purpose of this analysis, only the contiguous lower 48 states have been conserved; smaller islands/land masses \n",
    "have also been striped.\n",
    "\n",
    "The S2 tiling grid has been trimmed to keep only the grid cells that overlap with the \n",
    "contiguous states.\n",
    "\n",
    "Since our area of study is quite large, the `EPSG:5070` projection was chosen, as it\n",
    "covers the whole area, introduces minimal distortion while preserving area.\n",
    "\n",
    "The files below have also been saved in this repository."
   ],
   "id": "d74399dad8f63e6f"
  },
  {
   "metadata": {},
   "cell_type": "code",
   "outputs": [],
   "execution_count": null,
   "source": [
    "USA_POLYGON_FILE = DATA_DIR / \"usa_polygon_5070.gpkg\"\n",
    "S2_USA_GRID_FILE = DATA_DIR / \"s2_grid_usa_polygon_5070.gpkg\"\n",
    "usa_polygon = gpd.read_file(USA_POLYGON_FILE)\n",
    "s2_grid = gpd.read_file(S2_USA_GRID_FILE)"
   ],
   "id": "ff487d19985d9368"
  },
  {
   "metadata": {},
   "cell_type": "code",
   "outputs": [],
   "execution_count": null,
   "source": "usa_polygon",
   "id": "2767e8432a15bb65"
  },
  {
   "metadata": {},
   "cell_type": "code",
   "outputs": [],
   "execution_count": null,
   "source": "s2_grid",
   "id": "a267092e24a179c7"
  },
  {
   "metadata": {},
   "cell_type": "code",
   "outputs": [],
   "execution_count": null,
   "source": [
    "m = leafmap.Map(center=[40, -98], zoom=4)\n",
    "\n",
    "# In blue, the USA polygon\n",
    "m.add_gdf(usa_polygon, layer_name='usa')\n",
    "# In red, the Sentinel 2 grid\n",
    "m.add_gdf(s2_grid, layer_name='s2_grid', style={\"color\": \"red\"})\n",
    "\n",
    "m"
   ],
   "id": "8bb6ee92232d84c9"
  },
  {
   "metadata": {},
   "cell_type": "markdown",
   "source": [
    "## Creating our grid\n",
    "\n",
    "From this, we want to create a grid of square polygons with which we will later on\n",
    "query the [Planetary Computer](https://planetarycomputer.microsoft.com/dataset/sentinel-2-l2a)\n",
    "Sentinel 2 dataset and clip the selected Sentinel 2 images.\n",
    "\n",
    "For the purpose of this notebook, the grid that will be created will use 10km by 10km squares to speed up \n",
    "processing."
   ],
   "id": "e0ecd3f9222ed8d4"
  },
  {
   "metadata": {},
   "cell_type": "code",
   "outputs": [],
   "execution_count": null,
   "source": [
    "grid_size = 5000\n",
    "bbox = usa_polygon.total_bounds\n",
    "grid_5km_filename = DATA_DIR / \"polygon_grid_5km.gpkg\""
   ],
   "id": "7421bd3db699e931"
  },
  {
   "metadata": {},
   "cell_type": "code",
   "outputs": [],
   "execution_count": null,
   "source": [
    "print(\"Starting processing for [create_vector_grid_parallel]\")\n",
    "grid_5km = create_vector_grid_parallel(bounding_box=bbox, grid_size=grid_size, crs=\"EPSG:5070\")\n",
    "print(f\"Printing len(grid_parallel) to check if grid contains same amount of polygons : {len(grid_5km)}\")\n",
    "to_geopackage(gdf=grid_5km, filename=grid_5km_filename)"
   ],
   "id": "22a58aa5480b7579"
  },
  {
   "metadata": {},
   "cell_type": "code",
   "outputs": [],
   "execution_count": null,
   "source": "grid_5km",
   "id": "684ba7ab957db26b"
  },
  {
   "metadata": {},
   "cell_type": "markdown",
   "source": [
    "### Selecting the useful polygons\n",
    "\n",
    "Now, since our grid was created using the extent of our input polygon (continental USA), we need to filter out the polygons that do not intersect with it.\n",
    "\n",
    "Doing this in Python is not the most efficient way to do things, but since it's a step that shouldn't be done over and over, it's not that critical.\n",
    "\n",
    "If ever you need to do this step in an efficient way because the data is just too big or too complex, it would be better off going through QGIS, PyGQIS, GDAL or \n",
    "some other more efficient way to do this operation. "
   ],
   "id": "d7c2678b0c4c2be3"
  },
  {
   "metadata": {},
   "cell_type": "code",
   "outputs": [],
   "execution_count": null,
   "source": [
    "intersecting_polygons_filename = DATA_DIR / \"intersecting_polygon_grid_5km.gpkg\"\n",
    "print(\"Starting intersect selection\")\n",
    "intersecting_polygons = select_polygons_by_location(grid_5km, usa_polygon, num_of_workers=4)\n",
    "\n",
    "# Optionally save to a new file\n",
    "to_geopackage(intersecting_polygons, intersecting_polygons_filename)"
   ],
   "id": "1e60a89eaeda85d5"
  },
  {
   "metadata": {},
   "cell_type": "code",
   "outputs": [],
   "execution_count": null,
   "source": "intersecting_polygons",
   "id": "2f1db61027a3a573"
  },
  {
   "metadata": {},
   "cell_type": "markdown",
   "source": [
    "### Visualizing the selected polygons\n",
    "\n",
    "This will take more or less time, depending on the number on polygons.\n",
    "\n",
    "(Do not try this with a grid size smaller than 10000m)"
   ],
   "id": "9348966015244d76"
  },
  {
   "metadata": {},
   "cell_type": "code",
   "outputs": [],
   "execution_count": null,
   "source": [
    "### This takes a few minutes and navigation will be slow.\n",
    "# Map is zoomed in to help with processing\n",
    "\n",
    "m_intersecting_polygons = leafmap.Map(center=[39.7, -123], zoom=10)\n",
    "m_intersecting_polygons.add_gdf(intersecting_polygons, layer_name='intersecting_polygons', style={\"color\": \"blue\"})\n",
    "m_intersecting_polygons"
   ],
   "id": "ca8861d72d7dd35c"
  },
  {
   "metadata": {},
   "cell_type": "markdown",
   "source": "## Data processing pipeline prototype",
   "id": "1c6c13a3fd6ded6d"
  },
  {
   "metadata": {},
   "cell_type": "markdown",
   "source": "### Finding the best image for each S2 tiling grid",
   "id": "e657b27a8c69e720"
  },
  {
   "metadata": {},
   "cell_type": "code",
   "outputs": [],
   "execution_count": null,
   "source": [
    "# This is the full list of S2 grids\n",
    "s2_tile_grid_list = s2_grid[\"name\"].to_list()\n",
    "s2_tile_grid_list"
   ],
   "id": "49279cceac5d4212"
  },
  {
   "metadata": {},
   "cell_type": "code",
   "outputs": [],
   "execution_count": null,
   "source": [
    "# The list is a bit long, so we'll be continuing this notebook with the following subset\n",
    "s2_tile_grid_subset_list = [\"10TDK\", \"10TEK\", \"10SEJ\", \"10SDJ\"]"
   ],
   "id": "2657b5db0641f88e"
  },
  {
   "metadata": {},
   "cell_type": "markdown",
   "source": [
    "### Building our processing list\n",
    "\n",
    "First, let's make create a subselection of our dataset"
   ],
   "id": "c6d501ad6f4cc8d6"
  },
  {
   "metadata": {},
   "cell_type": "code",
   "outputs": [],
   "execution_count": null,
   "source": [
    "S2_USA_GRID_FILE = DATA_DIR / \"s2_grid_usa_polygon_5070.gpkg\"\n",
    "s2_grid = gpd.read_file(S2_USA_GRID_FILE)\n",
    "s2_grid"
   ],
   "id": "329abff318d6992f"
  },
  {
   "metadata": {},
   "cell_type": "code",
   "outputs": [],
   "execution_count": null,
   "source": [
    "# Creating our S2 grid tile subset\n",
    "\n",
    "S2_USA_GRID_SUBSET_FILE = DATA_DIR / \"s2_grid_usa_polygon_5070_subset.gpkg\"\n",
    "s2_grid_subset = s2_grid[s2_grid[\"name\"].isin(s2_tile_grid_subset_list)]\n",
    "\n",
    "# Optionally save to geopackage\n",
    "to_geopackage(gdf=s2_grid_subset, filename=S2_USA_GRID_SUBSET_FILE)"
   ],
   "id": "62d6f1106eb19f6"
  },
  {
   "metadata": {},
   "cell_type": "code",
   "outputs": [],
   "execution_count": null,
   "source": "s2_grid_subset",
   "id": "717d092d63dabf67"
  },
  {
   "metadata": {},
   "cell_type": "code",
   "outputs": [],
   "execution_count": null,
   "source": [
    "# Creating our polygon grid subset\n",
    "\n",
    "intersect_polygons_subset_filename = DATA_DIR / \"intersecting_polygon_grid_5km_subset.gpkg\"\n",
    "print(\"Starting intersect selection\")\n",
    "intersect_polygons_subset = select_polygons_by_location(intersecting_polygons, s2_grid_subset, predicate=\"within\", num_of_workers=4)\n",
    "# intersect_polygons_subset = gpd.read_file(intersect_polygons_subset_filename)\n",
    "\n",
    "# Optionally save to a new file\n",
    "to_geopackage(intersect_polygons_subset, intersect_polygons_subset_filename)"
   ],
   "id": "6f371292cdba7279"
  },
  {
   "metadata": {},
   "cell_type": "code",
   "outputs": [],
   "execution_count": null,
   "source": "intersect_polygons_subset",
   "id": "2149e624bbe0168d"
  },
  {
   "metadata": {},
   "cell_type": "markdown",
   "source": "### Finding the best products for our subset use case",
   "id": "c56f382ff3a691ac"
  },
  {
   "metadata": {},
   "cell_type": "code",
   "outputs": [],
   "execution_count": null,
   "source": [
    "# `s2_feature_name_columns` is the name of the column in `s2_grid_subset` where the id of\n",
    "# the different tiles is found.\n",
    "#\n",
    "# `vector_column_name` is the name of the column in which the best results will be stored\n",
    "\n",
    "s2_feature_name_columns = \"name\"\n",
    "vector_column_name = \"s2_tiles\"\n",
    "\n",
    "# Initiating our client\n",
    "best_products_client = BestProductsForFeatures(sentinel2_tiling_grid=s2_grid_subset,\n",
    "                                               sentinel2_tiling_grid_column=s2_feature_name_columns,\n",
    "                                               vector_features=intersect_polygons_subset,\n",
    "                                               vector_features_column=vector_column_name,\n",
    "                                               max_cloud_cover=15)"
   ],
   "id": "9a3ebad91e364f16"
  },
  {
   "metadata": {},
   "cell_type": "code",
   "outputs": [],
   "execution_count": null,
   "source": [
    "# Executing the search\n",
    "#\n",
    "# This search look only for complete products, meaning products with less than\n",
    "# 5 percent of nodata.\n",
    "\n",
    "start_year = 2023\n",
    "end_year = 2024\n",
    "start_month = 6\n",
    "end_month = 7\n",
    "\n",
    "best_products_client.create_date_ranges(start_year, end_year, start_month, end_month)\n",
    "products = best_products_client.find_best_complete_products()\n",
    "products"
   ],
   "id": "b780e1f41cb57607"
  },
  {
   "cell_type": "code",
   "id": "6a0a1885db3cd559",
   "metadata": {
    "ExecuteTime": {
     "end_time": "2024-09-18T15:11:54.131814Z",
     "start_time": "2024-09-18T15:11:54.059194Z"
    }
   },
   "source": [
    "# Selecting the best products for each vector tile\n",
    "# This step is necessary as some of our vector polygons can be withing multiple S2 tiles.\n",
    "# The best available S2 tile is therefore selected for each vector polygon.\n",
    "\n",
    "best_results_path = DATA_DIR / \"vector_tiles_with_s2tiles_subset.gpkg\"\n",
    "best_results = best_products_client.select_best_products_per_feature()\n",
    "to_geopackage(best_results, best_results_path)"
   ],
   "outputs": [
    {
     "name": "stdout",
     "output_type": "stream",
     "text": [
      "[2024-09-18 11:11:54] INFO       [MainThread][geospatial_tools.vector] Creating temporary UUID field for join operations\n",
      "[2024-09-18 11:11:54] INFO       [MainThread][geospatial_tools.vector] Starting process to find and identify contained features using spatial 'within' join operation\n",
      "[2024-09-18 11:11:54] INFO       [MainThread][geospatial_tools.vector] Grouping results\n",
      "[2024-09-18 11:11:54] INFO       [MainThread][geospatial_tools.vector] Cleaning and merging results\n",
      "[2024-09-18 11:11:54] INFO       [MainThread][geospatial_tools.vector] Spatial join operation is completed\n",
      "[2024-09-18 11:11:54] INFO       [MainThread][geospatial_tools.planetary_computer.sentinel_2] Writing best product IDs to dataframe\n",
      "[2024-09-18 11:11:54] INFO       [MainThread][geospatial_tools.vector] Starting writing process\n",
      "[2024-09-18 11:11:54] INFO       [MainThread][geospatial_tools.vector] File [/home/francispelletier/projects/geospatial_tools/data/vector_tiles_with_s2tiles_subset.gpkg] took 0.0313265323638916 seconds to write.\n"
     ]
    },
    {
     "data": {
      "text/plain": [
       "                                               geometry  \\\n",
       "0     POLYGON ((-2206113.743 2051469.316, -2201113.7...   \n",
       "1     POLYGON ((-2201113.743 2051469.316, -2196113.7...   \n",
       "2     POLYGON ((-2196113.743 2051469.316, -2191113.7...   \n",
       "3     POLYGON ((-2221113.743 2056469.316, -2216113.7...   \n",
       "4     POLYGON ((-2216113.743 2056469.316, -2211113.7...   \n",
       "...                                                 ...   \n",
       "1515  POLYGON ((-2306113.743 2291469.316, -2301113.7...   \n",
       "1516  POLYGON ((-2301113.743 2291469.316, -2296113.7...   \n",
       "1517  POLYGON ((-2326113.743 2296469.316, -2321113.7...   \n",
       "1518  POLYGON ((-2321113.743 2296469.316, -2316113.7...   \n",
       "1519  POLYGON ((-2316113.743 2296469.316, -2311113.7...   \n",
       "\n",
       "                                feature_id s2_tiles  \\\n",
       "0     5050b648-9b80-4d80-bd14-0b97a7e85e62  [10SEJ]   \n",
       "1     a6f061b9-d63d-42fb-bc6a-b369aa7d6b84  [10SEJ]   \n",
       "2     ee539417-f1f7-477c-917d-5d368956d0dc  [10SEJ]   \n",
       "3     9cba3c1c-b226-422f-a771-2f9652cd2533  [10SEJ]   \n",
       "4     aace4287-54da-48e5-84b2-b0d50aaae94d  [10SEJ]   \n",
       "...                                    ...      ...   \n",
       "1515  4625b360-b817-41f2-89c4-adc2ccfdfb05  [10TDK]   \n",
       "1516  bbfcc13a-09af-4f70-bf2a-d47329c9ebdc  [10TDK]   \n",
       "1517  0d2b91c0-65a6-476c-88b5-9f5ebbcda181  [10TDK]   \n",
       "1518  5dd0b974-b735-4986-9c35-f52429eb8037  [10TDK]   \n",
       "1519  fc81b712-a2ce-49ad-8fd4-cc6e436cf993  [10TDK]   \n",
       "\n",
       "                                     best_s2_product_id  \n",
       "0     S2B_MSIL2A_20230703T184919_R113_T10SEJ_2023070...  \n",
       "1     S2B_MSIL2A_20230703T184919_R113_T10SEJ_2023070...  \n",
       "2     S2B_MSIL2A_20230703T184919_R113_T10SEJ_2023070...  \n",
       "3     S2B_MSIL2A_20230703T184919_R113_T10SEJ_2023070...  \n",
       "4     S2B_MSIL2A_20230703T184919_R113_T10SEJ_2023070...  \n",
       "...                                                 ...  \n",
       "1515  S2A_MSIL2A_20240705T185921_R013_T10TDK_2024070...  \n",
       "1516  S2A_MSIL2A_20240705T185921_R013_T10TDK_2024070...  \n",
       "1517  S2A_MSIL2A_20240705T185921_R013_T10TDK_2024070...  \n",
       "1518  S2A_MSIL2A_20240705T185921_R013_T10TDK_2024070...  \n",
       "1519  S2A_MSIL2A_20240705T185921_R013_T10TDK_2024070...  \n",
       "\n",
       "[1520 rows x 4 columns]"
      ],
      "text/html": [
       "<div>\n",
       "<style scoped>\n",
       "    .dataframe tbody tr th:only-of-type {\n",
       "        vertical-align: middle;\n",
       "    }\n",
       "\n",
       "    .dataframe tbody tr th {\n",
       "        vertical-align: top;\n",
       "    }\n",
       "\n",
       "    .dataframe thead th {\n",
       "        text-align: right;\n",
       "    }\n",
       "</style>\n",
       "<table border=\"1\" class=\"dataframe\">\n",
       "  <thead>\n",
       "    <tr style=\"text-align: right;\">\n",
       "      <th></th>\n",
       "      <th>geometry</th>\n",
       "      <th>feature_id</th>\n",
       "      <th>s2_tiles</th>\n",
       "      <th>best_s2_product_id</th>\n",
       "    </tr>\n",
       "  </thead>\n",
       "  <tbody>\n",
       "    <tr>\n",
       "      <th>0</th>\n",
       "      <td>POLYGON ((-2206113.743 2051469.316, -2201113.7...</td>\n",
       "      <td>5050b648-9b80-4d80-bd14-0b97a7e85e62</td>\n",
       "      <td>[10SEJ]</td>\n",
       "      <td>S2B_MSIL2A_20230703T184919_R113_T10SEJ_2023070...</td>\n",
       "    </tr>\n",
       "    <tr>\n",
       "      <th>1</th>\n",
       "      <td>POLYGON ((-2201113.743 2051469.316, -2196113.7...</td>\n",
       "      <td>a6f061b9-d63d-42fb-bc6a-b369aa7d6b84</td>\n",
       "      <td>[10SEJ]</td>\n",
       "      <td>S2B_MSIL2A_20230703T184919_R113_T10SEJ_2023070...</td>\n",
       "    </tr>\n",
       "    <tr>\n",
       "      <th>2</th>\n",
       "      <td>POLYGON ((-2196113.743 2051469.316, -2191113.7...</td>\n",
       "      <td>ee539417-f1f7-477c-917d-5d368956d0dc</td>\n",
       "      <td>[10SEJ]</td>\n",
       "      <td>S2B_MSIL2A_20230703T184919_R113_T10SEJ_2023070...</td>\n",
       "    </tr>\n",
       "    <tr>\n",
       "      <th>3</th>\n",
       "      <td>POLYGON ((-2221113.743 2056469.316, -2216113.7...</td>\n",
       "      <td>9cba3c1c-b226-422f-a771-2f9652cd2533</td>\n",
       "      <td>[10SEJ]</td>\n",
       "      <td>S2B_MSIL2A_20230703T184919_R113_T10SEJ_2023070...</td>\n",
       "    </tr>\n",
       "    <tr>\n",
       "      <th>4</th>\n",
       "      <td>POLYGON ((-2216113.743 2056469.316, -2211113.7...</td>\n",
       "      <td>aace4287-54da-48e5-84b2-b0d50aaae94d</td>\n",
       "      <td>[10SEJ]</td>\n",
       "      <td>S2B_MSIL2A_20230703T184919_R113_T10SEJ_2023070...</td>\n",
       "    </tr>\n",
       "    <tr>\n",
       "      <th>...</th>\n",
       "      <td>...</td>\n",
       "      <td>...</td>\n",
       "      <td>...</td>\n",
       "      <td>...</td>\n",
       "    </tr>\n",
       "    <tr>\n",
       "      <th>1515</th>\n",
       "      <td>POLYGON ((-2306113.743 2291469.316, -2301113.7...</td>\n",
       "      <td>4625b360-b817-41f2-89c4-adc2ccfdfb05</td>\n",
       "      <td>[10TDK]</td>\n",
       "      <td>S2A_MSIL2A_20240705T185921_R013_T10TDK_2024070...</td>\n",
       "    </tr>\n",
       "    <tr>\n",
       "      <th>1516</th>\n",
       "      <td>POLYGON ((-2301113.743 2291469.316, -2296113.7...</td>\n",
       "      <td>bbfcc13a-09af-4f70-bf2a-d47329c9ebdc</td>\n",
       "      <td>[10TDK]</td>\n",
       "      <td>S2A_MSIL2A_20240705T185921_R013_T10TDK_2024070...</td>\n",
       "    </tr>\n",
       "    <tr>\n",
       "      <th>1517</th>\n",
       "      <td>POLYGON ((-2326113.743 2296469.316, -2321113.7...</td>\n",
       "      <td>0d2b91c0-65a6-476c-88b5-9f5ebbcda181</td>\n",
       "      <td>[10TDK]</td>\n",
       "      <td>S2A_MSIL2A_20240705T185921_R013_T10TDK_2024070...</td>\n",
       "    </tr>\n",
       "    <tr>\n",
       "      <th>1518</th>\n",
       "      <td>POLYGON ((-2321113.743 2296469.316, -2316113.7...</td>\n",
       "      <td>5dd0b974-b735-4986-9c35-f52429eb8037</td>\n",
       "      <td>[10TDK]</td>\n",
       "      <td>S2A_MSIL2A_20240705T185921_R013_T10TDK_2024070...</td>\n",
       "    </tr>\n",
       "    <tr>\n",
       "      <th>1519</th>\n",
       "      <td>POLYGON ((-2316113.743 2296469.316, -2311113.7...</td>\n",
       "      <td>fc81b712-a2ce-49ad-8fd4-cc6e436cf993</td>\n",
       "      <td>[10TDK]</td>\n",
       "      <td>S2A_MSIL2A_20240705T185921_R013_T10TDK_2024070...</td>\n",
       "    </tr>\n",
       "  </tbody>\n",
       "</table>\n",
       "<p>1520 rows × 4 columns</p>\n",
       "</div>"
      ]
     },
     "execution_count": 23,
     "metadata": {},
     "output_type": "execute_result"
    }
   ],
   "execution_count": 23
  },
  {
   "metadata": {},
   "cell_type": "code",
   "outputs": [],
   "execution_count": null,
   "source": "best_results",
   "id": "4fcb10135e87c1a6"
  },
  {
   "cell_type": "markdown",
   "id": "38368b1a0e064948",
   "metadata": {},
   "source": [
    "### Visualizing the results\n"
   ]
  },
  {
   "cell_type": "code",
   "id": "48d5dd0759bc2a51",
   "metadata": {
    "ExecuteTime": {
     "end_time": "2024-09-18T15:11:54.177822Z",
     "start_time": "2024-09-18T15:11:54.174591Z"
    }
   },
   "source": [
    "best_products_client.successful_results"
   ],
   "outputs": [
    {
     "data": {
      "text/plain": [
       "{'10SEJ': {'id': 'S2B_MSIL2A_20230703T184919_R113_T10SEJ_20230704T010337',\n",
       "  'cloud_cover': 0.000209,\n",
       "  'no_data': 0.221346},\n",
       " '10SDJ': {'id': 'S2A_MSIL2A_20240705T185921_R013_T10SDJ_20240706T050346',\n",
       "  'cloud_cover': 0.006778,\n",
       "  'no_data': 1.7e-05},\n",
       " '10TDK': {'id': 'S2A_MSIL2A_20240705T185921_R013_T10TDK_20240706T050412',\n",
       "  'cloud_cover': 0.000707,\n",
       "  'no_data': 1e-05}}"
      ]
     },
     "execution_count": 24,
     "metadata": {},
     "output_type": "execute_result"
    }
   ],
   "execution_count": 24
  },
  {
   "cell_type": "code",
   "id": "289caace-c963-4fe5-9a9e-b61a3f25473b",
   "metadata": {
    "ExecuteTime": {
     "end_time": "2024-09-18T15:11:54.225760Z",
     "start_time": "2024-09-18T15:11:54.222689Z"
    }
   },
   "source": [
    "# We do, however, have one S2 grid missing\n",
    "# No complete products where found for that tile.\n",
    "# Therefore, it will have to be processed separately later, \n",
    "# by mosaicing different products together\n",
    "#\n",
    "# The consequence of this is that all vector polygons that are\n",
    "# within this tile will not be processed at this time.\n",
    "\n",
    "best_products_client.incomplete_results"
   ],
   "outputs": [
    {
     "data": {
      "text/plain": [
       "['10TEK']"
      ]
     },
     "execution_count": 25,
     "metadata": {},
     "output_type": "execute_result"
    }
   ],
   "execution_count": 25
  },
  {
   "cell_type": "code",
   "id": "37ee4600ae353b9c",
   "metadata": {
    "ExecuteTime": {
     "end_time": "2024-09-18T15:11:54.535885Z",
     "start_time": "2024-09-18T15:11:54.259019Z"
    }
   },
   "source": [
    "m_best_results = leafmap.Map(center=[39.7, -123], zoom=8)\n",
    "m_best_results.add_gdf(s2_grid_subset, layer_name='s2_tiles', style={\"color\": \"red\"})\n",
    "m_best_results.add_gdf(best_results, layer_name='vector_tiles_s2_grid', style={\"color\": \"green\"})\n",
    "m_best_results"
   ],
   "outputs": [
    {
     "data": {
      "text/plain": [
       "Map(center=[39.7, -123], controls=(ZoomControl(options=['position', 'zoom_in_text', 'zoom_in_title', 'zoom_out…"
      ],
      "application/vnd.jupyter.widget-view+json": {
       "version_major": 2,
       "version_minor": 0,
       "model_id": "a6b0c1a592e5479f96632c36108d5e42"
      }
     },
     "execution_count": 26,
     "metadata": {},
     "output_type": "execute_result"
    }
   ],
   "execution_count": 26
  },
  {
   "cell_type": "code",
   "id": "4483f48422d09481",
   "metadata": {
    "ExecuteTime": {
     "end_time": "2024-09-18T15:11:54.639503Z",
     "start_time": "2024-09-18T15:11:54.630543Z"
    }
   },
   "source": [
    "group_by_product = best_results.groupby(\"best_s2_product_id\")[\"feature_id\"].agg(list).reset_index()\n",
    "group_by_product"
   ],
   "outputs": [
    {
     "data": {
      "text/plain": [
       "                                  best_s2_product_id  \\\n",
       "0  S2A_MSIL2A_20240705T185921_R013_T10SDJ_2024070...   \n",
       "1  S2A_MSIL2A_20240705T185921_R013_T10TDK_2024070...   \n",
       "2  S2B_MSIL2A_20230703T184919_R113_T10SEJ_2023070...   \n",
       "\n",
       "                                          feature_id  \n",
       "0  [6ee9ef65-f3ef-482a-89bd-04d4831adacb, 6b07adf...  \n",
       "1  [30285c16-5a1c-4441-a969-5bf1ea75af6b, 0d8d105...  \n",
       "2  [5050b648-9b80-4d80-bd14-0b97a7e85e62, a6f061b...  "
      ],
      "text/html": [
       "<div>\n",
       "<style scoped>\n",
       "    .dataframe tbody tr th:only-of-type {\n",
       "        vertical-align: middle;\n",
       "    }\n",
       "\n",
       "    .dataframe tbody tr th {\n",
       "        vertical-align: top;\n",
       "    }\n",
       "\n",
       "    .dataframe thead th {\n",
       "        text-align: right;\n",
       "    }\n",
       "</style>\n",
       "<table border=\"1\" class=\"dataframe\">\n",
       "  <thead>\n",
       "    <tr style=\"text-align: right;\">\n",
       "      <th></th>\n",
       "      <th>best_s2_product_id</th>\n",
       "      <th>feature_id</th>\n",
       "    </tr>\n",
       "  </thead>\n",
       "  <tbody>\n",
       "    <tr>\n",
       "      <th>0</th>\n",
       "      <td>S2A_MSIL2A_20240705T185921_R013_T10SDJ_2024070...</td>\n",
       "      <td>[6ee9ef65-f3ef-482a-89bd-04d4831adacb, 6b07adf...</td>\n",
       "    </tr>\n",
       "    <tr>\n",
       "      <th>1</th>\n",
       "      <td>S2A_MSIL2A_20240705T185921_R013_T10TDK_2024070...</td>\n",
       "      <td>[30285c16-5a1c-4441-a969-5bf1ea75af6b, 0d8d105...</td>\n",
       "    </tr>\n",
       "    <tr>\n",
       "      <th>2</th>\n",
       "      <td>S2B_MSIL2A_20230703T184919_R113_T10SEJ_2023070...</td>\n",
       "      <td>[5050b648-9b80-4d80-bd14-0b97a7e85e62, a6f061b...</td>\n",
       "    </tr>\n",
       "  </tbody>\n",
       "</table>\n",
       "</div>"
      ]
     },
     "execution_count": 27,
     "metadata": {},
     "output_type": "execute_result"
    }
   ],
   "execution_count": 27
  },
  {
   "cell_type": "code",
   "id": "33797d5a6fdc1e59",
   "metadata": {
    "ExecuteTime": {
     "end_time": "2024-09-18T15:11:58.459775Z",
     "start_time": "2024-09-18T15:11:58.456937Z"
    }
   },
   "source": [
    "product_list = group_by_product[\"best_s2_product_id\"].tolist()\n",
    "product_list"
   ],
   "outputs": [
    {
     "data": {
      "text/plain": [
       "['S2A_MSIL2A_20240705T185921_R013_T10SDJ_20240706T050346',\n",
       " 'S2A_MSIL2A_20240705T185921_R013_T10TDK_20240706T050412',\n",
       " 'S2B_MSIL2A_20230703T184919_R113_T10SEJ_20230704T010337']"
      ]
     },
     "execution_count": 28,
     "metadata": {},
     "output_type": "execute_result"
    }
   ],
   "execution_count": 28
  },
  {
   "cell_type": "markdown",
   "id": "9dc74a8f85ba1057",
   "metadata": {},
   "source": [
    "### Downloading and processing Sentinel 2 products"
   ]
  },
  {
   "cell_type": "markdown",
   "id": "e0cd4f92-f1f2-4e3e-8a5f-43b5cba9e412",
   "metadata": {},
   "source": [
    "#### Downloading and preparing Sentinel 2 products"
   ]
  },
  {
   "cell_type": "code",
   "id": "da281a638f42c0dc",
   "metadata": {
    "ExecuteTime": {
     "end_time": "2024-09-18T15:11:58.495458Z",
     "start_time": "2024-09-18T15:11:58.490990Z"
    }
   },
   "source": [
    "product_asset_list = []\n",
    "bands = [\"B02\", \"B03\", \"B04\", \"B08\", \"visual\"]\n",
    "download_directory = DATA_DIR / \"example_s2_download_and_processing\"\n",
    "\n",
    "for p in product_list:\n",
    "    processed_product = download_and_process_sentinel2_asset(product_id=p, \n",
    "                                                             product_bands=bands,\n",
    "                                                             base_directory=download_directory,\n",
    "                                                             target_projection=5070)\n",
    "                                                    \n",
    "    product_asset_list.append(processed_product)"
   ],
   "outputs": [
    {
     "name": "stdout",
     "output_type": "stream",
     "text": [
      "[2024-09-18 11:11:58] INFO       [MainThread][geospatial_tools.planetary_computer.sentinel_2] Reprojected file [/home/francispelletier/projects/geospatial_tools/data/example_s2_download_and_processing/S2A_MSIL2A_20240705T185921_R013_T10SDJ_20240706T050346_reprojected.tif] already exists\n",
      "[2024-09-18 11:11:58] INFO       [MainThread][geospatial_tools.planetary_computer.sentinel_2] Reprojected file [/home/francispelletier/projects/geospatial_tools/data/example_s2_download_and_processing/S2A_MSIL2A_20240705T185921_R013_T10TDK_20240706T050412_reprojected.tif] already exists\n",
      "[2024-09-18 11:11:58] INFO       [MainThread][geospatial_tools.planetary_computer.sentinel_2] Reprojected file [/home/francispelletier/projects/geospatial_tools/data/example_s2_download_and_processing/S2B_MSIL2A_20230703T184919_R113_T10SEJ_20230704T010337_reprojected.tif] already exists\n"
     ]
    }
   ],
   "execution_count": 29
  },
  {
   "cell_type": "code",
   "id": "99d6fe45792cd970",
   "metadata": {
    "ExecuteTime": {
     "end_time": "2024-09-18T15:12:02.427795Z",
     "start_time": "2024-09-18T15:12:02.425314Z"
    }
   },
   "source": [
    "for p in product_asset_list:\n",
    "    print(f\"Asset ID : [{p.asset_id}]\")\n",
    "    print(f\"Reprojected ID path : \\n[{p.reprojected_asset_path}]\\n\")\n"
   ],
   "outputs": [
    {
     "name": "stdout",
     "output_type": "stream",
     "text": [
      "Asset ID : [S2A_MSIL2A_20240705T185921_R013_T10SDJ_20240706T050346]\n",
      "Reprojected ID path : \n",
      "[/home/francispelletier/projects/geospatial_tools/data/example_s2_download_and_processing/S2A_MSIL2A_20240705T185921_R013_T10SDJ_20240706T050346_reprojected.tif]\n",
      "\n",
      "Asset ID : [S2A_MSIL2A_20240705T185921_R013_T10TDK_20240706T050412]\n",
      "Reprojected ID path : \n",
      "[/home/francispelletier/projects/geospatial_tools/data/example_s2_download_and_processing/S2A_MSIL2A_20240705T185921_R013_T10TDK_20240706T050412_reprojected.tif]\n",
      "\n",
      "Asset ID : [S2B_MSIL2A_20230703T184919_R113_T10SEJ_20230704T010337]\n",
      "Reprojected ID path : \n",
      "[/home/francispelletier/projects/geospatial_tools/data/example_s2_download_and_processing/S2B_MSIL2A_20230703T184919_R113_T10SEJ_20230704T010337_reprojected.tif]\n",
      "\n"
     ]
    }
   ],
   "execution_count": 31
  },
  {
   "cell_type": "code",
   "id": "715945b328c8ef71",
   "metadata": {
    "ExecuteTime": {
     "end_time": "2024-09-18T15:12:06.072925Z",
     "start_time": "2024-09-18T15:12:06.070725Z"
    }
   },
   "source": [
    "# Here, we are creating a new Asset object simply for convenience, from the printed outputs above\n",
    "\n",
    "product = Asset(asset_id=\"S2A_MSIL2A_20240705T185921_R013_T10SDJ_20240706T050346\",\n",
    "                reprojected_asset=download_directory / \"S2A_MSIL2A_20240705T185921_R013_T10SDJ_20240706T050346_reprojected.tif\", )"
   ],
   "outputs": [],
   "execution_count": 32
  },
  {
   "cell_type": "markdown",
   "id": "c4de83bb-3815-4daa-85a6-bc06134646c0",
   "metadata": {},
   "source": [
    "#### Creating a new geodataframe of all the vector polygons that are within our selected product"
   ]
  },
  {
   "cell_type": "code",
   "id": "77a04eaa79969a9c",
   "metadata": {
    "ExecuteTime": {
     "end_time": "2024-09-18T15:12:09.742815Z",
     "start_time": "2024-09-18T15:12:09.713237Z"
    }
   },
   "source": [
    "s2_product_id = product.asset_id\n",
    "product_path = product.reprojected_asset_path\n",
    "product_id_series = group_by_product[group_by_product[\"best_s2_product_id\"] == s2_product_id]\n",
    "# Since it's grouped by product id, there should always be only one row in the series\n",
    "feature_ids = product_id_series[\"feature_id\"].iloc[0]\n",
    "vector_features = best_results[best_results[\"feature_id\"].isin(feature_ids)]\n",
    "vector_features_path = DATA_DIR / \"vector_features.gpkg\"\n",
    "to_geopackage(vector_features, DATA_DIR / \"vector_features.gpkg\")\n",
    "\n",
    "print(vector_features)"
   ],
   "outputs": [
    {
     "name": "stdout",
     "output_type": "stream",
     "text": [
      "[2024-09-18 11:12:09] INFO       [MainThread][geospatial_tools.vector] Starting writing process\n",
      "[2024-09-18 11:12:09] INFO       [MainThread][geospatial_tools.vector] File [/home/francispelletier/projects/geospatial_tools/data/vector_features.gpkg] took 0.023821353912353516 seconds to write.\n",
      "                                              geometry  \\\n",
      "75   POLYGON ((-2311113.743 2081469.316, -2306113.7...   \n",
      "76   POLYGON ((-2306113.743 2081469.316, -2301113.7...   \n",
      "77   POLYGON ((-2301113.743 2081469.316, -2296113.7...   \n",
      "78   POLYGON ((-2296113.743 2081469.316, -2291113.7...   \n",
      "79   POLYGON ((-2291113.743 2081469.316, -2286113.7...   \n",
      "..                                                 ...   \n",
      "814  POLYGON ((-2331113.743 2186469.316, -2326113.7...   \n",
      "815  POLYGON ((-2326113.743 2186469.316, -2321113.7...   \n",
      "816  POLYGON ((-2321113.743 2186469.316, -2316113.7...   \n",
      "817  POLYGON ((-2316113.743 2186469.316, -2311113.7...   \n",
      "850  POLYGON ((-2331113.743 2191469.316, -2326113.7...   \n",
      "\n",
      "                               feature_id s2_tiles  \\\n",
      "75   6ee9ef65-f3ef-482a-89bd-04d4831adacb  [10SDJ]   \n",
      "76   6b07adf4-8597-4493-964e-3017f2c5d842  [10SDJ]   \n",
      "77   6f3271f7-4417-4589-8d30-1ac7c8bf727e  [10SDJ]   \n",
      "78   3b9a1b12-4ed0-4f3e-9baa-1c823ce05f09  [10SDJ]   \n",
      "79   f0794b32-e1ee-466d-8762-8635d6755660  [10SDJ]   \n",
      "..                                    ...      ...   \n",
      "814  2ddf4747-6b53-4e00-b149-2e6da61bd176  [10SDJ]   \n",
      "815  84b3b119-105b-4994-8554-85b1979632ac  [10SDJ]   \n",
      "816  de6584ce-ae51-4666-95a4-e2c5ba5b446c  [10SDJ]   \n",
      "817  aad032d8-8055-47e1-864c-45c4bf1f557b  [10SDJ]   \n",
      "850  118dc3e5-13a2-49ad-b624-b3cead0f5c69  [10SDJ]   \n",
      "\n",
      "                                    best_s2_product_id  \n",
      "75   S2A_MSIL2A_20240705T185921_R013_T10SDJ_2024070...  \n",
      "76   S2A_MSIL2A_20240705T185921_R013_T10SDJ_2024070...  \n",
      "77   S2A_MSIL2A_20240705T185921_R013_T10SDJ_2024070...  \n",
      "78   S2A_MSIL2A_20240705T185921_R013_T10SDJ_2024070...  \n",
      "79   S2A_MSIL2A_20240705T185921_R013_T10SDJ_2024070...  \n",
      "..                                                 ...  \n",
      "814  S2A_MSIL2A_20240705T185921_R013_T10SDJ_2024070...  \n",
      "815  S2A_MSIL2A_20240705T185921_R013_T10SDJ_2024070...  \n",
      "816  S2A_MSIL2A_20240705T185921_R013_T10SDJ_2024070...  \n",
      "817  S2A_MSIL2A_20240705T185921_R013_T10SDJ_2024070...  \n",
      "850  S2A_MSIL2A_20240705T185921_R013_T10SDJ_2024070...  \n",
      "\n",
      "[285 rows x 4 columns]\n"
     ]
    }
   ],
   "execution_count": 33
  },
  {
   "cell_type": "markdown",
   "id": "99e4004e-4719-4677-b53b-53c0e0efd823",
   "metadata": {},
   "source": [
    "#### Creating our Sentinel 2 \"chips\" by clipping main products with our vector polygon grid"
   ]
  },
  {
   "cell_type": "code",
   "id": "398c4fe713929a94",
   "metadata": {
    "ExecuteTime": {
     "end_time": "2024-09-18T15:12:19.793977Z",
     "start_time": "2024-09-18T15:12:13.674655Z"
    }
   },
   "source": [
    "clip_raster_with_polygon(raster_image=product_path,\n",
    "                         polygon_layer=vector_features_path,\n",
    "                         base_output_filename=s2_product_id,\n",
    "                         output_dir=download_directory / \"test_sentinel2_clip\")"
   ],
   "outputs": [
    {
     "name": "stdout",
     "output_type": "stream",
     "text": [
      "[2024-09-18 11:12:13] INFO       [MainThread][geospatial_tools.raster] Number of workers used: 16\n",
      "[2024-09-18 11:12:13] INFO       [MainThread][geospatial_tools.raster] Output path : [/home/francispelletier/projects/geospatial_tools/data/example_s2_download_and_processing/test_sentinel2_clip]\n",
      "[2024-09-18 11:12:13] INFO       [MainThread][geospatial_tools.raster] Clipping raster image with 285 polygons\n",
      "[2024-09-18 11:12:19] INFO       [MainThread][geospatial_tools.raster] Clipping process finished\n"
     ]
    },
    {
     "data": {
      "text/plain": [
       "[PosixPath('/home/francispelletier/projects/geospatial_tools/data/example_s2_download_and_processing/test_sentinel2_clip/S2A_MSIL2A_20240705T185921_R013_T10SDJ_20240706T050346_clipped_3.tif'),\n",
       " PosixPath('/home/francispelletier/projects/geospatial_tools/data/example_s2_download_and_processing/test_sentinel2_clip/S2A_MSIL2A_20240705T185921_R013_T10SDJ_20240706T050346_clipped_1.tif'),\n",
       " PosixPath('/home/francispelletier/projects/geospatial_tools/data/example_s2_download_and_processing/test_sentinel2_clip/S2A_MSIL2A_20240705T185921_R013_T10SDJ_20240706T050346_clipped_0.tif'),\n",
       " PosixPath('/home/francispelletier/projects/geospatial_tools/data/example_s2_download_and_processing/test_sentinel2_clip/S2A_MSIL2A_20240705T185921_R013_T10SDJ_20240706T050346_clipped_10.tif'),\n",
       " PosixPath('/home/francispelletier/projects/geospatial_tools/data/example_s2_download_and_processing/test_sentinel2_clip/S2A_MSIL2A_20240705T185921_R013_T10SDJ_20240706T050346_clipped_11.tif'),\n",
       " PosixPath('/home/francispelletier/projects/geospatial_tools/data/example_s2_download_and_processing/test_sentinel2_clip/S2A_MSIL2A_20240705T185921_R013_T10SDJ_20240706T050346_clipped_8.tif'),\n",
       " PosixPath('/home/francispelletier/projects/geospatial_tools/data/example_s2_download_and_processing/test_sentinel2_clip/S2A_MSIL2A_20240705T185921_R013_T10SDJ_20240706T050346_clipped_5.tif'),\n",
       " PosixPath('/home/francispelletier/projects/geospatial_tools/data/example_s2_download_and_processing/test_sentinel2_clip/S2A_MSIL2A_20240705T185921_R013_T10SDJ_20240706T050346_clipped_7.tif'),\n",
       " PosixPath('/home/francispelletier/projects/geospatial_tools/data/example_s2_download_and_processing/test_sentinel2_clip/S2A_MSIL2A_20240705T185921_R013_T10SDJ_20240706T050346_clipped_12.tif'),\n",
       " PosixPath('/home/francispelletier/projects/geospatial_tools/data/example_s2_download_and_processing/test_sentinel2_clip/S2A_MSIL2A_20240705T185921_R013_T10SDJ_20240706T050346_clipped_2.tif'),\n",
       " PosixPath('/home/francispelletier/projects/geospatial_tools/data/example_s2_download_and_processing/test_sentinel2_clip/S2A_MSIL2A_20240705T185921_R013_T10SDJ_20240706T050346_clipped_9.tif'),\n",
       " PosixPath('/home/francispelletier/projects/geospatial_tools/data/example_s2_download_and_processing/test_sentinel2_clip/S2A_MSIL2A_20240705T185921_R013_T10SDJ_20240706T050346_clipped_6.tif'),\n",
       " PosixPath('/home/francispelletier/projects/geospatial_tools/data/example_s2_download_and_processing/test_sentinel2_clip/S2A_MSIL2A_20240705T185921_R013_T10SDJ_20240706T050346_clipped_4.tif'),\n",
       " PosixPath('/home/francispelletier/projects/geospatial_tools/data/example_s2_download_and_processing/test_sentinel2_clip/S2A_MSIL2A_20240705T185921_R013_T10SDJ_20240706T050346_clipped_15.tif'),\n",
       " PosixPath('/home/francispelletier/projects/geospatial_tools/data/example_s2_download_and_processing/test_sentinel2_clip/S2A_MSIL2A_20240705T185921_R013_T10SDJ_20240706T050346_clipped_13.tif'),\n",
       " PosixPath('/home/francispelletier/projects/geospatial_tools/data/example_s2_download_and_processing/test_sentinel2_clip/S2A_MSIL2A_20240705T185921_R013_T10SDJ_20240706T050346_clipped_14.tif'),\n",
       " PosixPath('/home/francispelletier/projects/geospatial_tools/data/example_s2_download_and_processing/test_sentinel2_clip/S2A_MSIL2A_20240705T185921_R013_T10SDJ_20240706T050346_clipped_17.tif'),\n",
       " PosixPath('/home/francispelletier/projects/geospatial_tools/data/example_s2_download_and_processing/test_sentinel2_clip/S2A_MSIL2A_20240705T185921_R013_T10SDJ_20240706T050346_clipped_20.tif'),\n",
       " PosixPath('/home/francispelletier/projects/geospatial_tools/data/example_s2_download_and_processing/test_sentinel2_clip/S2A_MSIL2A_20240705T185921_R013_T10SDJ_20240706T050346_clipped_22.tif'),\n",
       " PosixPath('/home/francispelletier/projects/geospatial_tools/data/example_s2_download_and_processing/test_sentinel2_clip/S2A_MSIL2A_20240705T185921_R013_T10SDJ_20240706T050346_clipped_19.tif'),\n",
       " PosixPath('/home/francispelletier/projects/geospatial_tools/data/example_s2_download_and_processing/test_sentinel2_clip/S2A_MSIL2A_20240705T185921_R013_T10SDJ_20240706T050346_clipped_16.tif'),\n",
       " PosixPath('/home/francispelletier/projects/geospatial_tools/data/example_s2_download_and_processing/test_sentinel2_clip/S2A_MSIL2A_20240705T185921_R013_T10SDJ_20240706T050346_clipped_18.tif'),\n",
       " PosixPath('/home/francispelletier/projects/geospatial_tools/data/example_s2_download_and_processing/test_sentinel2_clip/S2A_MSIL2A_20240705T185921_R013_T10SDJ_20240706T050346_clipped_23.tif'),\n",
       " PosixPath('/home/francispelletier/projects/geospatial_tools/data/example_s2_download_and_processing/test_sentinel2_clip/S2A_MSIL2A_20240705T185921_R013_T10SDJ_20240706T050346_clipped_21.tif'),\n",
       " PosixPath('/home/francispelletier/projects/geospatial_tools/data/example_s2_download_and_processing/test_sentinel2_clip/S2A_MSIL2A_20240705T185921_R013_T10SDJ_20240706T050346_clipped_34.tif'),\n",
       " PosixPath('/home/francispelletier/projects/geospatial_tools/data/example_s2_download_and_processing/test_sentinel2_clip/S2A_MSIL2A_20240705T185921_R013_T10SDJ_20240706T050346_clipped_26.tif'),\n",
       " PosixPath('/home/francispelletier/projects/geospatial_tools/data/example_s2_download_and_processing/test_sentinel2_clip/S2A_MSIL2A_20240705T185921_R013_T10SDJ_20240706T050346_clipped_30.tif'),\n",
       " PosixPath('/home/francispelletier/projects/geospatial_tools/data/example_s2_download_and_processing/test_sentinel2_clip/S2A_MSIL2A_20240705T185921_R013_T10SDJ_20240706T050346_clipped_29.tif'),\n",
       " PosixPath('/home/francispelletier/projects/geospatial_tools/data/example_s2_download_and_processing/test_sentinel2_clip/S2A_MSIL2A_20240705T185921_R013_T10SDJ_20240706T050346_clipped_33.tif'),\n",
       " PosixPath('/home/francispelletier/projects/geospatial_tools/data/example_s2_download_and_processing/test_sentinel2_clip/S2A_MSIL2A_20240705T185921_R013_T10SDJ_20240706T050346_clipped_32.tif'),\n",
       " PosixPath('/home/francispelletier/projects/geospatial_tools/data/example_s2_download_and_processing/test_sentinel2_clip/S2A_MSIL2A_20240705T185921_R013_T10SDJ_20240706T050346_clipped_25.tif'),\n",
       " PosixPath('/home/francispelletier/projects/geospatial_tools/data/example_s2_download_and_processing/test_sentinel2_clip/S2A_MSIL2A_20240705T185921_R013_T10SDJ_20240706T050346_clipped_31.tif'),\n",
       " PosixPath('/home/francispelletier/projects/geospatial_tools/data/example_s2_download_and_processing/test_sentinel2_clip/S2A_MSIL2A_20240705T185921_R013_T10SDJ_20240706T050346_clipped_24.tif'),\n",
       " PosixPath('/home/francispelletier/projects/geospatial_tools/data/example_s2_download_and_processing/test_sentinel2_clip/S2A_MSIL2A_20240705T185921_R013_T10SDJ_20240706T050346_clipped_28.tif'),\n",
       " PosixPath('/home/francispelletier/projects/geospatial_tools/data/example_s2_download_and_processing/test_sentinel2_clip/S2A_MSIL2A_20240705T185921_R013_T10SDJ_20240706T050346_clipped_36.tif'),\n",
       " PosixPath('/home/francispelletier/projects/geospatial_tools/data/example_s2_download_and_processing/test_sentinel2_clip/S2A_MSIL2A_20240705T185921_R013_T10SDJ_20240706T050346_clipped_35.tif'),\n",
       " PosixPath('/home/francispelletier/projects/geospatial_tools/data/example_s2_download_and_processing/test_sentinel2_clip/S2A_MSIL2A_20240705T185921_R013_T10SDJ_20240706T050346_clipped_27.tif'),\n",
       " PosixPath('/home/francispelletier/projects/geospatial_tools/data/example_s2_download_and_processing/test_sentinel2_clip/S2A_MSIL2A_20240705T185921_R013_T10SDJ_20240706T050346_clipped_43.tif'),\n",
       " PosixPath('/home/francispelletier/projects/geospatial_tools/data/example_s2_download_and_processing/test_sentinel2_clip/S2A_MSIL2A_20240705T185921_R013_T10SDJ_20240706T050346_clipped_41.tif'),\n",
       " PosixPath('/home/francispelletier/projects/geospatial_tools/data/example_s2_download_and_processing/test_sentinel2_clip/S2A_MSIL2A_20240705T185921_R013_T10SDJ_20240706T050346_clipped_48.tif'),\n",
       " PosixPath('/home/francispelletier/projects/geospatial_tools/data/example_s2_download_and_processing/test_sentinel2_clip/S2A_MSIL2A_20240705T185921_R013_T10SDJ_20240706T050346_clipped_44.tif'),\n",
       " PosixPath('/home/francispelletier/projects/geospatial_tools/data/example_s2_download_and_processing/test_sentinel2_clip/S2A_MSIL2A_20240705T185921_R013_T10SDJ_20240706T050346_clipped_45.tif'),\n",
       " PosixPath('/home/francispelletier/projects/geospatial_tools/data/example_s2_download_and_processing/test_sentinel2_clip/S2A_MSIL2A_20240705T185921_R013_T10SDJ_20240706T050346_clipped_39.tif'),\n",
       " PosixPath('/home/francispelletier/projects/geospatial_tools/data/example_s2_download_and_processing/test_sentinel2_clip/S2A_MSIL2A_20240705T185921_R013_T10SDJ_20240706T050346_clipped_46.tif'),\n",
       " PosixPath('/home/francispelletier/projects/geospatial_tools/data/example_s2_download_and_processing/test_sentinel2_clip/S2A_MSIL2A_20240705T185921_R013_T10SDJ_20240706T050346_clipped_42.tif'),\n",
       " PosixPath('/home/francispelletier/projects/geospatial_tools/data/example_s2_download_and_processing/test_sentinel2_clip/S2A_MSIL2A_20240705T185921_R013_T10SDJ_20240706T050346_clipped_38.tif'),\n",
       " PosixPath('/home/francispelletier/projects/geospatial_tools/data/example_s2_download_and_processing/test_sentinel2_clip/S2A_MSIL2A_20240705T185921_R013_T10SDJ_20240706T050346_clipped_49.tif'),\n",
       " PosixPath('/home/francispelletier/projects/geospatial_tools/data/example_s2_download_and_processing/test_sentinel2_clip/S2A_MSIL2A_20240705T185921_R013_T10SDJ_20240706T050346_clipped_37.tif'),\n",
       " PosixPath('/home/francispelletier/projects/geospatial_tools/data/example_s2_download_and_processing/test_sentinel2_clip/S2A_MSIL2A_20240705T185921_R013_T10SDJ_20240706T050346_clipped_40.tif'),\n",
       " PosixPath('/home/francispelletier/projects/geospatial_tools/data/example_s2_download_and_processing/test_sentinel2_clip/S2A_MSIL2A_20240705T185921_R013_T10SDJ_20240706T050346_clipped_47.tif'),\n",
       " PosixPath('/home/francispelletier/projects/geospatial_tools/data/example_s2_download_and_processing/test_sentinel2_clip/S2A_MSIL2A_20240705T185921_R013_T10SDJ_20240706T050346_clipped_52.tif'),\n",
       " PosixPath('/home/francispelletier/projects/geospatial_tools/data/example_s2_download_and_processing/test_sentinel2_clip/S2A_MSIL2A_20240705T185921_R013_T10SDJ_20240706T050346_clipped_56.tif'),\n",
       " PosixPath('/home/francispelletier/projects/geospatial_tools/data/example_s2_download_and_processing/test_sentinel2_clip/S2A_MSIL2A_20240705T185921_R013_T10SDJ_20240706T050346_clipped_58.tif'),\n",
       " PosixPath('/home/francispelletier/projects/geospatial_tools/data/example_s2_download_and_processing/test_sentinel2_clip/S2A_MSIL2A_20240705T185921_R013_T10SDJ_20240706T050346_clipped_55.tif'),\n",
       " PosixPath('/home/francispelletier/projects/geospatial_tools/data/example_s2_download_and_processing/test_sentinel2_clip/S2A_MSIL2A_20240705T185921_R013_T10SDJ_20240706T050346_clipped_63.tif'),\n",
       " PosixPath('/home/francispelletier/projects/geospatial_tools/data/example_s2_download_and_processing/test_sentinel2_clip/S2A_MSIL2A_20240705T185921_R013_T10SDJ_20240706T050346_clipped_53.tif'),\n",
       " PosixPath('/home/francispelletier/projects/geospatial_tools/data/example_s2_download_and_processing/test_sentinel2_clip/S2A_MSIL2A_20240705T185921_R013_T10SDJ_20240706T050346_clipped_54.tif'),\n",
       " PosixPath('/home/francispelletier/projects/geospatial_tools/data/example_s2_download_and_processing/test_sentinel2_clip/S2A_MSIL2A_20240705T185921_R013_T10SDJ_20240706T050346_clipped_57.tif'),\n",
       " PosixPath('/home/francispelletier/projects/geospatial_tools/data/example_s2_download_and_processing/test_sentinel2_clip/S2A_MSIL2A_20240705T185921_R013_T10SDJ_20240706T050346_clipped_60.tif'),\n",
       " PosixPath('/home/francispelletier/projects/geospatial_tools/data/example_s2_download_and_processing/test_sentinel2_clip/S2A_MSIL2A_20240705T185921_R013_T10SDJ_20240706T050346_clipped_59.tif'),\n",
       " PosixPath('/home/francispelletier/projects/geospatial_tools/data/example_s2_download_and_processing/test_sentinel2_clip/S2A_MSIL2A_20240705T185921_R013_T10SDJ_20240706T050346_clipped_62.tif'),\n",
       " PosixPath('/home/francispelletier/projects/geospatial_tools/data/example_s2_download_and_processing/test_sentinel2_clip/S2A_MSIL2A_20240705T185921_R013_T10SDJ_20240706T050346_clipped_61.tif'),\n",
       " PosixPath('/home/francispelletier/projects/geospatial_tools/data/example_s2_download_and_processing/test_sentinel2_clip/S2A_MSIL2A_20240705T185921_R013_T10SDJ_20240706T050346_clipped_51.tif'),\n",
       " PosixPath('/home/francispelletier/projects/geospatial_tools/data/example_s2_download_and_processing/test_sentinel2_clip/S2A_MSIL2A_20240705T185921_R013_T10SDJ_20240706T050346_clipped_50.tif'),\n",
       " PosixPath('/home/francispelletier/projects/geospatial_tools/data/example_s2_download_and_processing/test_sentinel2_clip/S2A_MSIL2A_20240705T185921_R013_T10SDJ_20240706T050346_clipped_76.tif'),\n",
       " PosixPath('/home/francispelletier/projects/geospatial_tools/data/example_s2_download_and_processing/test_sentinel2_clip/S2A_MSIL2A_20240705T185921_R013_T10SDJ_20240706T050346_clipped_75.tif'),\n",
       " PosixPath('/home/francispelletier/projects/geospatial_tools/data/example_s2_download_and_processing/test_sentinel2_clip/S2A_MSIL2A_20240705T185921_R013_T10SDJ_20240706T050346_clipped_64.tif'),\n",
       " PosixPath('/home/francispelletier/projects/geospatial_tools/data/example_s2_download_and_processing/test_sentinel2_clip/S2A_MSIL2A_20240705T185921_R013_T10SDJ_20240706T050346_clipped_69.tif'),\n",
       " PosixPath('/home/francispelletier/projects/geospatial_tools/data/example_s2_download_and_processing/test_sentinel2_clip/S2A_MSIL2A_20240705T185921_R013_T10SDJ_20240706T050346_clipped_68.tif'),\n",
       " PosixPath('/home/francispelletier/projects/geospatial_tools/data/example_s2_download_and_processing/test_sentinel2_clip/S2A_MSIL2A_20240705T185921_R013_T10SDJ_20240706T050346_clipped_66.tif'),\n",
       " PosixPath('/home/francispelletier/projects/geospatial_tools/data/example_s2_download_and_processing/test_sentinel2_clip/S2A_MSIL2A_20240705T185921_R013_T10SDJ_20240706T050346_clipped_70.tif'),\n",
       " PosixPath('/home/francispelletier/projects/geospatial_tools/data/example_s2_download_and_processing/test_sentinel2_clip/S2A_MSIL2A_20240705T185921_R013_T10SDJ_20240706T050346_clipped_72.tif'),\n",
       " PosixPath('/home/francispelletier/projects/geospatial_tools/data/example_s2_download_and_processing/test_sentinel2_clip/S2A_MSIL2A_20240705T185921_R013_T10SDJ_20240706T050346_clipped_74.tif'),\n",
       " PosixPath('/home/francispelletier/projects/geospatial_tools/data/example_s2_download_and_processing/test_sentinel2_clip/S2A_MSIL2A_20240705T185921_R013_T10SDJ_20240706T050346_clipped_65.tif'),\n",
       " PosixPath('/home/francispelletier/projects/geospatial_tools/data/example_s2_download_and_processing/test_sentinel2_clip/S2A_MSIL2A_20240705T185921_R013_T10SDJ_20240706T050346_clipped_67.tif'),\n",
       " PosixPath('/home/francispelletier/projects/geospatial_tools/data/example_s2_download_and_processing/test_sentinel2_clip/S2A_MSIL2A_20240705T185921_R013_T10SDJ_20240706T050346_clipped_71.tif'),\n",
       " PosixPath('/home/francispelletier/projects/geospatial_tools/data/example_s2_download_and_processing/test_sentinel2_clip/S2A_MSIL2A_20240705T185921_R013_T10SDJ_20240706T050346_clipped_73.tif'),\n",
       " PosixPath('/home/francispelletier/projects/geospatial_tools/data/example_s2_download_and_processing/test_sentinel2_clip/S2A_MSIL2A_20240705T185921_R013_T10SDJ_20240706T050346_clipped_77.tif'),\n",
       " PosixPath('/home/francispelletier/projects/geospatial_tools/data/example_s2_download_and_processing/test_sentinel2_clip/S2A_MSIL2A_20240705T185921_R013_T10SDJ_20240706T050346_clipped_81.tif'),\n",
       " PosixPath('/home/francispelletier/projects/geospatial_tools/data/example_s2_download_and_processing/test_sentinel2_clip/S2A_MSIL2A_20240705T185921_R013_T10SDJ_20240706T050346_clipped_80.tif'),\n",
       " PosixPath('/home/francispelletier/projects/geospatial_tools/data/example_s2_download_and_processing/test_sentinel2_clip/S2A_MSIL2A_20240705T185921_R013_T10SDJ_20240706T050346_clipped_88.tif'),\n",
       " PosixPath('/home/francispelletier/projects/geospatial_tools/data/example_s2_download_and_processing/test_sentinel2_clip/S2A_MSIL2A_20240705T185921_R013_T10SDJ_20240706T050346_clipped_83.tif'),\n",
       " PosixPath('/home/francispelletier/projects/geospatial_tools/data/example_s2_download_and_processing/test_sentinel2_clip/S2A_MSIL2A_20240705T185921_R013_T10SDJ_20240706T050346_clipped_89.tif'),\n",
       " PosixPath('/home/francispelletier/projects/geospatial_tools/data/example_s2_download_and_processing/test_sentinel2_clip/S2A_MSIL2A_20240705T185921_R013_T10SDJ_20240706T050346_clipped_91.tif'),\n",
       " PosixPath('/home/francispelletier/projects/geospatial_tools/data/example_s2_download_and_processing/test_sentinel2_clip/S2A_MSIL2A_20240705T185921_R013_T10SDJ_20240706T050346_clipped_78.tif'),\n",
       " PosixPath('/home/francispelletier/projects/geospatial_tools/data/example_s2_download_and_processing/test_sentinel2_clip/S2A_MSIL2A_20240705T185921_R013_T10SDJ_20240706T050346_clipped_82.tif'),\n",
       " PosixPath('/home/francispelletier/projects/geospatial_tools/data/example_s2_download_and_processing/test_sentinel2_clip/S2A_MSIL2A_20240705T185921_R013_T10SDJ_20240706T050346_clipped_86.tif'),\n",
       " PosixPath('/home/francispelletier/projects/geospatial_tools/data/example_s2_download_and_processing/test_sentinel2_clip/S2A_MSIL2A_20240705T185921_R013_T10SDJ_20240706T050346_clipped_90.tif'),\n",
       " PosixPath('/home/francispelletier/projects/geospatial_tools/data/example_s2_download_and_processing/test_sentinel2_clip/S2A_MSIL2A_20240705T185921_R013_T10SDJ_20240706T050346_clipped_85.tif'),\n",
       " PosixPath('/home/francispelletier/projects/geospatial_tools/data/example_s2_download_and_processing/test_sentinel2_clip/S2A_MSIL2A_20240705T185921_R013_T10SDJ_20240706T050346_clipped_84.tif'),\n",
       " PosixPath('/home/francispelletier/projects/geospatial_tools/data/example_s2_download_and_processing/test_sentinel2_clip/S2A_MSIL2A_20240705T185921_R013_T10SDJ_20240706T050346_clipped_79.tif'),\n",
       " PosixPath('/home/francispelletier/projects/geospatial_tools/data/example_s2_download_and_processing/test_sentinel2_clip/S2A_MSIL2A_20240705T185921_R013_T10SDJ_20240706T050346_clipped_87.tif'),\n",
       " PosixPath('/home/francispelletier/projects/geospatial_tools/data/example_s2_download_and_processing/test_sentinel2_clip/S2A_MSIL2A_20240705T185921_R013_T10SDJ_20240706T050346_clipped_94.tif'),\n",
       " PosixPath('/home/francispelletier/projects/geospatial_tools/data/example_s2_download_and_processing/test_sentinel2_clip/S2A_MSIL2A_20240705T185921_R013_T10SDJ_20240706T050346_clipped_93.tif'),\n",
       " PosixPath('/home/francispelletier/projects/geospatial_tools/data/example_s2_download_and_processing/test_sentinel2_clip/S2A_MSIL2A_20240705T185921_R013_T10SDJ_20240706T050346_clipped_101.tif'),\n",
       " PosixPath('/home/francispelletier/projects/geospatial_tools/data/example_s2_download_and_processing/test_sentinel2_clip/S2A_MSIL2A_20240705T185921_R013_T10SDJ_20240706T050346_clipped_97.tif'),\n",
       " PosixPath('/home/francispelletier/projects/geospatial_tools/data/example_s2_download_and_processing/test_sentinel2_clip/S2A_MSIL2A_20240705T185921_R013_T10SDJ_20240706T050346_clipped_95.tif'),\n",
       " PosixPath('/home/francispelletier/projects/geospatial_tools/data/example_s2_download_and_processing/test_sentinel2_clip/S2A_MSIL2A_20240705T185921_R013_T10SDJ_20240706T050346_clipped_105.tif'),\n",
       " PosixPath('/home/francispelletier/projects/geospatial_tools/data/example_s2_download_and_processing/test_sentinel2_clip/S2A_MSIL2A_20240705T185921_R013_T10SDJ_20240706T050346_clipped_92.tif'),\n",
       " PosixPath('/home/francispelletier/projects/geospatial_tools/data/example_s2_download_and_processing/test_sentinel2_clip/S2A_MSIL2A_20240705T185921_R013_T10SDJ_20240706T050346_clipped_102.tif'),\n",
       " PosixPath('/home/francispelletier/projects/geospatial_tools/data/example_s2_download_and_processing/test_sentinel2_clip/S2A_MSIL2A_20240705T185921_R013_T10SDJ_20240706T050346_clipped_96.tif'),\n",
       " PosixPath('/home/francispelletier/projects/geospatial_tools/data/example_s2_download_and_processing/test_sentinel2_clip/S2A_MSIL2A_20240705T185921_R013_T10SDJ_20240706T050346_clipped_99.tif'),\n",
       " PosixPath('/home/francispelletier/projects/geospatial_tools/data/example_s2_download_and_processing/test_sentinel2_clip/S2A_MSIL2A_20240705T185921_R013_T10SDJ_20240706T050346_clipped_98.tif'),\n",
       " PosixPath('/home/francispelletier/projects/geospatial_tools/data/example_s2_download_and_processing/test_sentinel2_clip/S2A_MSIL2A_20240705T185921_R013_T10SDJ_20240706T050346_clipped_100.tif'),\n",
       " PosixPath('/home/francispelletier/projects/geospatial_tools/data/example_s2_download_and_processing/test_sentinel2_clip/S2A_MSIL2A_20240705T185921_R013_T10SDJ_20240706T050346_clipped_103.tif'),\n",
       " PosixPath('/home/francispelletier/projects/geospatial_tools/data/example_s2_download_and_processing/test_sentinel2_clip/S2A_MSIL2A_20240705T185921_R013_T10SDJ_20240706T050346_clipped_104.tif'),\n",
       " PosixPath('/home/francispelletier/projects/geospatial_tools/data/example_s2_download_and_processing/test_sentinel2_clip/S2A_MSIL2A_20240705T185921_R013_T10SDJ_20240706T050346_clipped_109.tif'),\n",
       " PosixPath('/home/francispelletier/projects/geospatial_tools/data/example_s2_download_and_processing/test_sentinel2_clip/S2A_MSIL2A_20240705T185921_R013_T10SDJ_20240706T050346_clipped_112.tif'),\n",
       " PosixPath('/home/francispelletier/projects/geospatial_tools/data/example_s2_download_and_processing/test_sentinel2_clip/S2A_MSIL2A_20240705T185921_R013_T10SDJ_20240706T050346_clipped_116.tif'),\n",
       " PosixPath('/home/francispelletier/projects/geospatial_tools/data/example_s2_download_and_processing/test_sentinel2_clip/S2A_MSIL2A_20240705T185921_R013_T10SDJ_20240706T050346_clipped_118.tif'),\n",
       " PosixPath('/home/francispelletier/projects/geospatial_tools/data/example_s2_download_and_processing/test_sentinel2_clip/S2A_MSIL2A_20240705T185921_R013_T10SDJ_20240706T050346_clipped_107.tif'),\n",
       " PosixPath('/home/francispelletier/projects/geospatial_tools/data/example_s2_download_and_processing/test_sentinel2_clip/S2A_MSIL2A_20240705T185921_R013_T10SDJ_20240706T050346_clipped_111.tif'),\n",
       " PosixPath('/home/francispelletier/projects/geospatial_tools/data/example_s2_download_and_processing/test_sentinel2_clip/S2A_MSIL2A_20240705T185921_R013_T10SDJ_20240706T050346_clipped_106.tif'),\n",
       " PosixPath('/home/francispelletier/projects/geospatial_tools/data/example_s2_download_and_processing/test_sentinel2_clip/S2A_MSIL2A_20240705T185921_R013_T10SDJ_20240706T050346_clipped_113.tif'),\n",
       " PosixPath('/home/francispelletier/projects/geospatial_tools/data/example_s2_download_and_processing/test_sentinel2_clip/S2A_MSIL2A_20240705T185921_R013_T10SDJ_20240706T050346_clipped_110.tif'),\n",
       " PosixPath('/home/francispelletier/projects/geospatial_tools/data/example_s2_download_and_processing/test_sentinel2_clip/S2A_MSIL2A_20240705T185921_R013_T10SDJ_20240706T050346_clipped_119.tif'),\n",
       " PosixPath('/home/francispelletier/projects/geospatial_tools/data/example_s2_download_and_processing/test_sentinel2_clip/S2A_MSIL2A_20240705T185921_R013_T10SDJ_20240706T050346_clipped_115.tif'),\n",
       " PosixPath('/home/francispelletier/projects/geospatial_tools/data/example_s2_download_and_processing/test_sentinel2_clip/S2A_MSIL2A_20240705T185921_R013_T10SDJ_20240706T050346_clipped_108.tif'),\n",
       " PosixPath('/home/francispelletier/projects/geospatial_tools/data/example_s2_download_and_processing/test_sentinel2_clip/S2A_MSIL2A_20240705T185921_R013_T10SDJ_20240706T050346_clipped_114.tif'),\n",
       " PosixPath('/home/francispelletier/projects/geospatial_tools/data/example_s2_download_and_processing/test_sentinel2_clip/S2A_MSIL2A_20240705T185921_R013_T10SDJ_20240706T050346_clipped_117.tif'),\n",
       " PosixPath('/home/francispelletier/projects/geospatial_tools/data/example_s2_download_and_processing/test_sentinel2_clip/S2A_MSIL2A_20240705T185921_R013_T10SDJ_20240706T050346_clipped_123.tif'),\n",
       " PosixPath('/home/francispelletier/projects/geospatial_tools/data/example_s2_download_and_processing/test_sentinel2_clip/S2A_MSIL2A_20240705T185921_R013_T10SDJ_20240706T050346_clipped_126.tif'),\n",
       " PosixPath('/home/francispelletier/projects/geospatial_tools/data/example_s2_download_and_processing/test_sentinel2_clip/S2A_MSIL2A_20240705T185921_R013_T10SDJ_20240706T050346_clipped_125.tif'),\n",
       " PosixPath('/home/francispelletier/projects/geospatial_tools/data/example_s2_download_and_processing/test_sentinel2_clip/S2A_MSIL2A_20240705T185921_R013_T10SDJ_20240706T050346_clipped_133.tif'),\n",
       " PosixPath('/home/francispelletier/projects/geospatial_tools/data/example_s2_download_and_processing/test_sentinel2_clip/S2A_MSIL2A_20240705T185921_R013_T10SDJ_20240706T050346_clipped_128.tif'),\n",
       " PosixPath('/home/francispelletier/projects/geospatial_tools/data/example_s2_download_and_processing/test_sentinel2_clip/S2A_MSIL2A_20240705T185921_R013_T10SDJ_20240706T050346_clipped_127.tif'),\n",
       " PosixPath('/home/francispelletier/projects/geospatial_tools/data/example_s2_download_and_processing/test_sentinel2_clip/S2A_MSIL2A_20240705T185921_R013_T10SDJ_20240706T050346_clipped_130.tif'),\n",
       " PosixPath('/home/francispelletier/projects/geospatial_tools/data/example_s2_download_and_processing/test_sentinel2_clip/S2A_MSIL2A_20240705T185921_R013_T10SDJ_20240706T050346_clipped_122.tif'),\n",
       " PosixPath('/home/francispelletier/projects/geospatial_tools/data/example_s2_download_and_processing/test_sentinel2_clip/S2A_MSIL2A_20240705T185921_R013_T10SDJ_20240706T050346_clipped_129.tif'),\n",
       " PosixPath('/home/francispelletier/projects/geospatial_tools/data/example_s2_download_and_processing/test_sentinel2_clip/S2A_MSIL2A_20240705T185921_R013_T10SDJ_20240706T050346_clipped_131.tif'),\n",
       " PosixPath('/home/francispelletier/projects/geospatial_tools/data/example_s2_download_and_processing/test_sentinel2_clip/S2A_MSIL2A_20240705T185921_R013_T10SDJ_20240706T050346_clipped_121.tif'),\n",
       " PosixPath('/home/francispelletier/projects/geospatial_tools/data/example_s2_download_and_processing/test_sentinel2_clip/S2A_MSIL2A_20240705T185921_R013_T10SDJ_20240706T050346_clipped_134.tif'),\n",
       " PosixPath('/home/francispelletier/projects/geospatial_tools/data/example_s2_download_and_processing/test_sentinel2_clip/S2A_MSIL2A_20240705T185921_R013_T10SDJ_20240706T050346_clipped_124.tif'),\n",
       " PosixPath('/home/francispelletier/projects/geospatial_tools/data/example_s2_download_and_processing/test_sentinel2_clip/S2A_MSIL2A_20240705T185921_R013_T10SDJ_20240706T050346_clipped_120.tif'),\n",
       " PosixPath('/home/francispelletier/projects/geospatial_tools/data/example_s2_download_and_processing/test_sentinel2_clip/S2A_MSIL2A_20240705T185921_R013_T10SDJ_20240706T050346_clipped_132.tif'),\n",
       " PosixPath('/home/francispelletier/projects/geospatial_tools/data/example_s2_download_and_processing/test_sentinel2_clip/S2A_MSIL2A_20240705T185921_R013_T10SDJ_20240706T050346_clipped_139.tif'),\n",
       " PosixPath('/home/francispelletier/projects/geospatial_tools/data/example_s2_download_and_processing/test_sentinel2_clip/S2A_MSIL2A_20240705T185921_R013_T10SDJ_20240706T050346_clipped_146.tif'),\n",
       " PosixPath('/home/francispelletier/projects/geospatial_tools/data/example_s2_download_and_processing/test_sentinel2_clip/S2A_MSIL2A_20240705T185921_R013_T10SDJ_20240706T050346_clipped_141.tif'),\n",
       " PosixPath('/home/francispelletier/projects/geospatial_tools/data/example_s2_download_and_processing/test_sentinel2_clip/S2A_MSIL2A_20240705T185921_R013_T10SDJ_20240706T050346_clipped_145.tif'),\n",
       " PosixPath('/home/francispelletier/projects/geospatial_tools/data/example_s2_download_and_processing/test_sentinel2_clip/S2A_MSIL2A_20240705T185921_R013_T10SDJ_20240706T050346_clipped_144.tif'),\n",
       " PosixPath('/home/francispelletier/projects/geospatial_tools/data/example_s2_download_and_processing/test_sentinel2_clip/S2A_MSIL2A_20240705T185921_R013_T10SDJ_20240706T050346_clipped_142.tif'),\n",
       " PosixPath('/home/francispelletier/projects/geospatial_tools/data/example_s2_download_and_processing/test_sentinel2_clip/S2A_MSIL2A_20240705T185921_R013_T10SDJ_20240706T050346_clipped_149.tif'),\n",
       " PosixPath('/home/francispelletier/projects/geospatial_tools/data/example_s2_download_and_processing/test_sentinel2_clip/S2A_MSIL2A_20240705T185921_R013_T10SDJ_20240706T050346_clipped_138.tif'),\n",
       " PosixPath('/home/francispelletier/projects/geospatial_tools/data/example_s2_download_and_processing/test_sentinel2_clip/S2A_MSIL2A_20240705T185921_R013_T10SDJ_20240706T050346_clipped_140.tif'),\n",
       " PosixPath('/home/francispelletier/projects/geospatial_tools/data/example_s2_download_and_processing/test_sentinel2_clip/S2A_MSIL2A_20240705T185921_R013_T10SDJ_20240706T050346_clipped_137.tif'),\n",
       " PosixPath('/home/francispelletier/projects/geospatial_tools/data/example_s2_download_and_processing/test_sentinel2_clip/S2A_MSIL2A_20240705T185921_R013_T10SDJ_20240706T050346_clipped_148.tif'),\n",
       " PosixPath('/home/francispelletier/projects/geospatial_tools/data/example_s2_download_and_processing/test_sentinel2_clip/S2A_MSIL2A_20240705T185921_R013_T10SDJ_20240706T050346_clipped_147.tif'),\n",
       " PosixPath('/home/francispelletier/projects/geospatial_tools/data/example_s2_download_and_processing/test_sentinel2_clip/S2A_MSIL2A_20240705T185921_R013_T10SDJ_20240706T050346_clipped_135.tif'),\n",
       " PosixPath('/home/francispelletier/projects/geospatial_tools/data/example_s2_download_and_processing/test_sentinel2_clip/S2A_MSIL2A_20240705T185921_R013_T10SDJ_20240706T050346_clipped_136.tif'),\n",
       " PosixPath('/home/francispelletier/projects/geospatial_tools/data/example_s2_download_and_processing/test_sentinel2_clip/S2A_MSIL2A_20240705T185921_R013_T10SDJ_20240706T050346_clipped_143.tif'),\n",
       " PosixPath('/home/francispelletier/projects/geospatial_tools/data/example_s2_download_and_processing/test_sentinel2_clip/S2A_MSIL2A_20240705T185921_R013_T10SDJ_20240706T050346_clipped_157.tif'),\n",
       " PosixPath('/home/francispelletier/projects/geospatial_tools/data/example_s2_download_and_processing/test_sentinel2_clip/S2A_MSIL2A_20240705T185921_R013_T10SDJ_20240706T050346_clipped_151.tif'),\n",
       " PosixPath('/home/francispelletier/projects/geospatial_tools/data/example_s2_download_and_processing/test_sentinel2_clip/S2A_MSIL2A_20240705T185921_R013_T10SDJ_20240706T050346_clipped_163.tif'),\n",
       " PosixPath('/home/francispelletier/projects/geospatial_tools/data/example_s2_download_and_processing/test_sentinel2_clip/S2A_MSIL2A_20240705T185921_R013_T10SDJ_20240706T050346_clipped_161.tif'),\n",
       " PosixPath('/home/francispelletier/projects/geospatial_tools/data/example_s2_download_and_processing/test_sentinel2_clip/S2A_MSIL2A_20240705T185921_R013_T10SDJ_20240706T050346_clipped_153.tif'),\n",
       " PosixPath('/home/francispelletier/projects/geospatial_tools/data/example_s2_download_and_processing/test_sentinel2_clip/S2A_MSIL2A_20240705T185921_R013_T10SDJ_20240706T050346_clipped_160.tif'),\n",
       " PosixPath('/home/francispelletier/projects/geospatial_tools/data/example_s2_download_and_processing/test_sentinel2_clip/S2A_MSIL2A_20240705T185921_R013_T10SDJ_20240706T050346_clipped_152.tif'),\n",
       " PosixPath('/home/francispelletier/projects/geospatial_tools/data/example_s2_download_and_processing/test_sentinel2_clip/S2A_MSIL2A_20240705T185921_R013_T10SDJ_20240706T050346_clipped_164.tif'),\n",
       " PosixPath('/home/francispelletier/projects/geospatial_tools/data/example_s2_download_and_processing/test_sentinel2_clip/S2A_MSIL2A_20240705T185921_R013_T10SDJ_20240706T050346_clipped_158.tif'),\n",
       " PosixPath('/home/francispelletier/projects/geospatial_tools/data/example_s2_download_and_processing/test_sentinel2_clip/S2A_MSIL2A_20240705T185921_R013_T10SDJ_20240706T050346_clipped_155.tif'),\n",
       " PosixPath('/home/francispelletier/projects/geospatial_tools/data/example_s2_download_and_processing/test_sentinel2_clip/S2A_MSIL2A_20240705T185921_R013_T10SDJ_20240706T050346_clipped_154.tif'),\n",
       " PosixPath('/home/francispelletier/projects/geospatial_tools/data/example_s2_download_and_processing/test_sentinel2_clip/S2A_MSIL2A_20240705T185921_R013_T10SDJ_20240706T050346_clipped_150.tif'),\n",
       " PosixPath('/home/francispelletier/projects/geospatial_tools/data/example_s2_download_and_processing/test_sentinel2_clip/S2A_MSIL2A_20240705T185921_R013_T10SDJ_20240706T050346_clipped_159.tif'),\n",
       " PosixPath('/home/francispelletier/projects/geospatial_tools/data/example_s2_download_and_processing/test_sentinel2_clip/S2A_MSIL2A_20240705T185921_R013_T10SDJ_20240706T050346_clipped_156.tif'),\n",
       " PosixPath('/home/francispelletier/projects/geospatial_tools/data/example_s2_download_and_processing/test_sentinel2_clip/S2A_MSIL2A_20240705T185921_R013_T10SDJ_20240706T050346_clipped_162.tif'),\n",
       " PosixPath('/home/francispelletier/projects/geospatial_tools/data/example_s2_download_and_processing/test_sentinel2_clip/S2A_MSIL2A_20240705T185921_R013_T10SDJ_20240706T050346_clipped_166.tif'),\n",
       " PosixPath('/home/francispelletier/projects/geospatial_tools/data/example_s2_download_and_processing/test_sentinel2_clip/S2A_MSIL2A_20240705T185921_R013_T10SDJ_20240706T050346_clipped_179.tif'),\n",
       " PosixPath('/home/francispelletier/projects/geospatial_tools/data/example_s2_download_and_processing/test_sentinel2_clip/S2A_MSIL2A_20240705T185921_R013_T10SDJ_20240706T050346_clipped_177.tif'),\n",
       " PosixPath('/home/francispelletier/projects/geospatial_tools/data/example_s2_download_and_processing/test_sentinel2_clip/S2A_MSIL2A_20240705T185921_R013_T10SDJ_20240706T050346_clipped_169.tif'),\n",
       " PosixPath('/home/francispelletier/projects/geospatial_tools/data/example_s2_download_and_processing/test_sentinel2_clip/S2A_MSIL2A_20240705T185921_R013_T10SDJ_20240706T050346_clipped_173.tif'),\n",
       " PosixPath('/home/francispelletier/projects/geospatial_tools/data/example_s2_download_and_processing/test_sentinel2_clip/S2A_MSIL2A_20240705T185921_R013_T10SDJ_20240706T050346_clipped_174.tif'),\n",
       " PosixPath('/home/francispelletier/projects/geospatial_tools/data/example_s2_download_and_processing/test_sentinel2_clip/S2A_MSIL2A_20240705T185921_R013_T10SDJ_20240706T050346_clipped_178.tif'),\n",
       " PosixPath('/home/francispelletier/projects/geospatial_tools/data/example_s2_download_and_processing/test_sentinel2_clip/S2A_MSIL2A_20240705T185921_R013_T10SDJ_20240706T050346_clipped_171.tif'),\n",
       " PosixPath('/home/francispelletier/projects/geospatial_tools/data/example_s2_download_and_processing/test_sentinel2_clip/S2A_MSIL2A_20240705T185921_R013_T10SDJ_20240706T050346_clipped_170.tif'),\n",
       " PosixPath('/home/francispelletier/projects/geospatial_tools/data/example_s2_download_and_processing/test_sentinel2_clip/S2A_MSIL2A_20240705T185921_R013_T10SDJ_20240706T050346_clipped_172.tif'),\n",
       " PosixPath('/home/francispelletier/projects/geospatial_tools/data/example_s2_download_and_processing/test_sentinel2_clip/S2A_MSIL2A_20240705T185921_R013_T10SDJ_20240706T050346_clipped_176.tif'),\n",
       " PosixPath('/home/francispelletier/projects/geospatial_tools/data/example_s2_download_and_processing/test_sentinel2_clip/S2A_MSIL2A_20240705T185921_R013_T10SDJ_20240706T050346_clipped_165.tif'),\n",
       " PosixPath('/home/francispelletier/projects/geospatial_tools/data/example_s2_download_and_processing/test_sentinel2_clip/S2A_MSIL2A_20240705T185921_R013_T10SDJ_20240706T050346_clipped_167.tif'),\n",
       " PosixPath('/home/francispelletier/projects/geospatial_tools/data/example_s2_download_and_processing/test_sentinel2_clip/S2A_MSIL2A_20240705T185921_R013_T10SDJ_20240706T050346_clipped_168.tif'),\n",
       " PosixPath('/home/francispelletier/projects/geospatial_tools/data/example_s2_download_and_processing/test_sentinel2_clip/S2A_MSIL2A_20240705T185921_R013_T10SDJ_20240706T050346_clipped_175.tif'),\n",
       " PosixPath('/home/francispelletier/projects/geospatial_tools/data/example_s2_download_and_processing/test_sentinel2_clip/S2A_MSIL2A_20240705T185921_R013_T10SDJ_20240706T050346_clipped_191.tif'),\n",
       " PosixPath('/home/francispelletier/projects/geospatial_tools/data/example_s2_download_and_processing/test_sentinel2_clip/S2A_MSIL2A_20240705T185921_R013_T10SDJ_20240706T050346_clipped_180.tif'),\n",
       " PosixPath('/home/francispelletier/projects/geospatial_tools/data/example_s2_download_and_processing/test_sentinel2_clip/S2A_MSIL2A_20240705T185921_R013_T10SDJ_20240706T050346_clipped_194.tif'),\n",
       " PosixPath('/home/francispelletier/projects/geospatial_tools/data/example_s2_download_and_processing/test_sentinel2_clip/S2A_MSIL2A_20240705T185921_R013_T10SDJ_20240706T050346_clipped_184.tif'),\n",
       " PosixPath('/home/francispelletier/projects/geospatial_tools/data/example_s2_download_and_processing/test_sentinel2_clip/S2A_MSIL2A_20240705T185921_R013_T10SDJ_20240706T050346_clipped_182.tif'),\n",
       " PosixPath('/home/francispelletier/projects/geospatial_tools/data/example_s2_download_and_processing/test_sentinel2_clip/S2A_MSIL2A_20240705T185921_R013_T10SDJ_20240706T050346_clipped_186.tif'),\n",
       " PosixPath('/home/francispelletier/projects/geospatial_tools/data/example_s2_download_and_processing/test_sentinel2_clip/S2A_MSIL2A_20240705T185921_R013_T10SDJ_20240706T050346_clipped_183.tif'),\n",
       " PosixPath('/home/francispelletier/projects/geospatial_tools/data/example_s2_download_and_processing/test_sentinel2_clip/S2A_MSIL2A_20240705T185921_R013_T10SDJ_20240706T050346_clipped_185.tif'),\n",
       " PosixPath('/home/francispelletier/projects/geospatial_tools/data/example_s2_download_and_processing/test_sentinel2_clip/S2A_MSIL2A_20240705T185921_R013_T10SDJ_20240706T050346_clipped_188.tif'),\n",
       " PosixPath('/home/francispelletier/projects/geospatial_tools/data/example_s2_download_and_processing/test_sentinel2_clip/S2A_MSIL2A_20240705T185921_R013_T10SDJ_20240706T050346_clipped_181.tif'),\n",
       " PosixPath('/home/francispelletier/projects/geospatial_tools/data/example_s2_download_and_processing/test_sentinel2_clip/S2A_MSIL2A_20240705T185921_R013_T10SDJ_20240706T050346_clipped_190.tif'),\n",
       " PosixPath('/home/francispelletier/projects/geospatial_tools/data/example_s2_download_and_processing/test_sentinel2_clip/S2A_MSIL2A_20240705T185921_R013_T10SDJ_20240706T050346_clipped_187.tif'),\n",
       " PosixPath('/home/francispelletier/projects/geospatial_tools/data/example_s2_download_and_processing/test_sentinel2_clip/S2A_MSIL2A_20240705T185921_R013_T10SDJ_20240706T050346_clipped_189.tif'),\n",
       " PosixPath('/home/francispelletier/projects/geospatial_tools/data/example_s2_download_and_processing/test_sentinel2_clip/S2A_MSIL2A_20240705T185921_R013_T10SDJ_20240706T050346_clipped_195.tif'),\n",
       " PosixPath('/home/francispelletier/projects/geospatial_tools/data/example_s2_download_and_processing/test_sentinel2_clip/S2A_MSIL2A_20240705T185921_R013_T10SDJ_20240706T050346_clipped_192.tif'),\n",
       " PosixPath('/home/francispelletier/projects/geospatial_tools/data/example_s2_download_and_processing/test_sentinel2_clip/S2A_MSIL2A_20240705T185921_R013_T10SDJ_20240706T050346_clipped_193.tif'),\n",
       " PosixPath('/home/francispelletier/projects/geospatial_tools/data/example_s2_download_and_processing/test_sentinel2_clip/S2A_MSIL2A_20240705T185921_R013_T10SDJ_20240706T050346_clipped_208.tif'),\n",
       " PosixPath('/home/francispelletier/projects/geospatial_tools/data/example_s2_download_and_processing/test_sentinel2_clip/S2A_MSIL2A_20240705T185921_R013_T10SDJ_20240706T050346_clipped_200.tif'),\n",
       " PosixPath('/home/francispelletier/projects/geospatial_tools/data/example_s2_download_and_processing/test_sentinel2_clip/S2A_MSIL2A_20240705T185921_R013_T10SDJ_20240706T050346_clipped_209.tif'),\n",
       " PosixPath('/home/francispelletier/projects/geospatial_tools/data/example_s2_download_and_processing/test_sentinel2_clip/S2A_MSIL2A_20240705T185921_R013_T10SDJ_20240706T050346_clipped_207.tif'),\n",
       " PosixPath('/home/francispelletier/projects/geospatial_tools/data/example_s2_download_and_processing/test_sentinel2_clip/S2A_MSIL2A_20240705T185921_R013_T10SDJ_20240706T050346_clipped_203.tif'),\n",
       " PosixPath('/home/francispelletier/projects/geospatial_tools/data/example_s2_download_and_processing/test_sentinel2_clip/S2A_MSIL2A_20240705T185921_R013_T10SDJ_20240706T050346_clipped_204.tif'),\n",
       " PosixPath('/home/francispelletier/projects/geospatial_tools/data/example_s2_download_and_processing/test_sentinel2_clip/S2A_MSIL2A_20240705T185921_R013_T10SDJ_20240706T050346_clipped_205.tif'),\n",
       " PosixPath('/home/francispelletier/projects/geospatial_tools/data/example_s2_download_and_processing/test_sentinel2_clip/S2A_MSIL2A_20240705T185921_R013_T10SDJ_20240706T050346_clipped_199.tif'),\n",
       " PosixPath('/home/francispelletier/projects/geospatial_tools/data/example_s2_download_and_processing/test_sentinel2_clip/S2A_MSIL2A_20240705T185921_R013_T10SDJ_20240706T050346_clipped_198.tif'),\n",
       " PosixPath('/home/francispelletier/projects/geospatial_tools/data/example_s2_download_and_processing/test_sentinel2_clip/S2A_MSIL2A_20240705T185921_R013_T10SDJ_20240706T050346_clipped_196.tif'),\n",
       " PosixPath('/home/francispelletier/projects/geospatial_tools/data/example_s2_download_and_processing/test_sentinel2_clip/S2A_MSIL2A_20240705T185921_R013_T10SDJ_20240706T050346_clipped_197.tif'),\n",
       " PosixPath('/home/francispelletier/projects/geospatial_tools/data/example_s2_download_and_processing/test_sentinel2_clip/S2A_MSIL2A_20240705T185921_R013_T10SDJ_20240706T050346_clipped_211.tif'),\n",
       " PosixPath('/home/francispelletier/projects/geospatial_tools/data/example_s2_download_and_processing/test_sentinel2_clip/S2A_MSIL2A_20240705T185921_R013_T10SDJ_20240706T050346_clipped_210.tif'),\n",
       " PosixPath('/home/francispelletier/projects/geospatial_tools/data/example_s2_download_and_processing/test_sentinel2_clip/S2A_MSIL2A_20240705T185921_R013_T10SDJ_20240706T050346_clipped_206.tif'),\n",
       " PosixPath('/home/francispelletier/projects/geospatial_tools/data/example_s2_download_and_processing/test_sentinel2_clip/S2A_MSIL2A_20240705T185921_R013_T10SDJ_20240706T050346_clipped_202.tif'),\n",
       " PosixPath('/home/francispelletier/projects/geospatial_tools/data/example_s2_download_and_processing/test_sentinel2_clip/S2A_MSIL2A_20240705T185921_R013_T10SDJ_20240706T050346_clipped_201.tif'),\n",
       " PosixPath('/home/francispelletier/projects/geospatial_tools/data/example_s2_download_and_processing/test_sentinel2_clip/S2A_MSIL2A_20240705T185921_R013_T10SDJ_20240706T050346_clipped_218.tif'),\n",
       " PosixPath('/home/francispelletier/projects/geospatial_tools/data/example_s2_download_and_processing/test_sentinel2_clip/S2A_MSIL2A_20240705T185921_R013_T10SDJ_20240706T050346_clipped_227.tif'),\n",
       " PosixPath('/home/francispelletier/projects/geospatial_tools/data/example_s2_download_and_processing/test_sentinel2_clip/S2A_MSIL2A_20240705T185921_R013_T10SDJ_20240706T050346_clipped_219.tif'),\n",
       " PosixPath('/home/francispelletier/projects/geospatial_tools/data/example_s2_download_and_processing/test_sentinel2_clip/S2A_MSIL2A_20240705T185921_R013_T10SDJ_20240706T050346_clipped_223.tif'),\n",
       " PosixPath('/home/francispelletier/projects/geospatial_tools/data/example_s2_download_and_processing/test_sentinel2_clip/S2A_MSIL2A_20240705T185921_R013_T10SDJ_20240706T050346_clipped_212.tif'),\n",
       " PosixPath('/home/francispelletier/projects/geospatial_tools/data/example_s2_download_and_processing/test_sentinel2_clip/S2A_MSIL2A_20240705T185921_R013_T10SDJ_20240706T050346_clipped_214.tif'),\n",
       " PosixPath('/home/francispelletier/projects/geospatial_tools/data/example_s2_download_and_processing/test_sentinel2_clip/S2A_MSIL2A_20240705T185921_R013_T10SDJ_20240706T050346_clipped_221.tif'),\n",
       " PosixPath('/home/francispelletier/projects/geospatial_tools/data/example_s2_download_and_processing/test_sentinel2_clip/S2A_MSIL2A_20240705T185921_R013_T10SDJ_20240706T050346_clipped_220.tif'),\n",
       " PosixPath('/home/francispelletier/projects/geospatial_tools/data/example_s2_download_and_processing/test_sentinel2_clip/S2A_MSIL2A_20240705T185921_R013_T10SDJ_20240706T050346_clipped_226.tif'),\n",
       " PosixPath('/home/francispelletier/projects/geospatial_tools/data/example_s2_download_and_processing/test_sentinel2_clip/S2A_MSIL2A_20240705T185921_R013_T10SDJ_20240706T050346_clipped_225.tif'),\n",
       " PosixPath('/home/francispelletier/projects/geospatial_tools/data/example_s2_download_and_processing/test_sentinel2_clip/S2A_MSIL2A_20240705T185921_R013_T10SDJ_20240706T050346_clipped_216.tif'),\n",
       " PosixPath('/home/francispelletier/projects/geospatial_tools/data/example_s2_download_and_processing/test_sentinel2_clip/S2A_MSIL2A_20240705T185921_R013_T10SDJ_20240706T050346_clipped_222.tif'),\n",
       " PosixPath('/home/francispelletier/projects/geospatial_tools/data/example_s2_download_and_processing/test_sentinel2_clip/S2A_MSIL2A_20240705T185921_R013_T10SDJ_20240706T050346_clipped_217.tif'),\n",
       " PosixPath('/home/francispelletier/projects/geospatial_tools/data/example_s2_download_and_processing/test_sentinel2_clip/S2A_MSIL2A_20240705T185921_R013_T10SDJ_20240706T050346_clipped_213.tif'),\n",
       " PosixPath('/home/francispelletier/projects/geospatial_tools/data/example_s2_download_and_processing/test_sentinel2_clip/S2A_MSIL2A_20240705T185921_R013_T10SDJ_20240706T050346_clipped_224.tif'),\n",
       " PosixPath('/home/francispelletier/projects/geospatial_tools/data/example_s2_download_and_processing/test_sentinel2_clip/S2A_MSIL2A_20240705T185921_R013_T10SDJ_20240706T050346_clipped_215.tif'),\n",
       " PosixPath('/home/francispelletier/projects/geospatial_tools/data/example_s2_download_and_processing/test_sentinel2_clip/S2A_MSIL2A_20240705T185921_R013_T10SDJ_20240706T050346_clipped_237.tif'),\n",
       " PosixPath('/home/francispelletier/projects/geospatial_tools/data/example_s2_download_and_processing/test_sentinel2_clip/S2A_MSIL2A_20240705T185921_R013_T10SDJ_20240706T050346_clipped_241.tif'),\n",
       " PosixPath('/home/francispelletier/projects/geospatial_tools/data/example_s2_download_and_processing/test_sentinel2_clip/S2A_MSIL2A_20240705T185921_R013_T10SDJ_20240706T050346_clipped_232.tif'),\n",
       " PosixPath('/home/francispelletier/projects/geospatial_tools/data/example_s2_download_and_processing/test_sentinel2_clip/S2A_MSIL2A_20240705T185921_R013_T10SDJ_20240706T050346_clipped_229.tif'),\n",
       " PosixPath('/home/francispelletier/projects/geospatial_tools/data/example_s2_download_and_processing/test_sentinel2_clip/S2A_MSIL2A_20240705T185921_R013_T10SDJ_20240706T050346_clipped_243.tif'),\n",
       " PosixPath('/home/francispelletier/projects/geospatial_tools/data/example_s2_download_and_processing/test_sentinel2_clip/S2A_MSIL2A_20240705T185921_R013_T10SDJ_20240706T050346_clipped_238.tif'),\n",
       " PosixPath('/home/francispelletier/projects/geospatial_tools/data/example_s2_download_and_processing/test_sentinel2_clip/S2A_MSIL2A_20240705T185921_R013_T10SDJ_20240706T050346_clipped_231.tif'),\n",
       " PosixPath('/home/francispelletier/projects/geospatial_tools/data/example_s2_download_and_processing/test_sentinel2_clip/S2A_MSIL2A_20240705T185921_R013_T10SDJ_20240706T050346_clipped_235.tif'),\n",
       " PosixPath('/home/francispelletier/projects/geospatial_tools/data/example_s2_download_and_processing/test_sentinel2_clip/S2A_MSIL2A_20240705T185921_R013_T10SDJ_20240706T050346_clipped_234.tif'),\n",
       " PosixPath('/home/francispelletier/projects/geospatial_tools/data/example_s2_download_and_processing/test_sentinel2_clip/S2A_MSIL2A_20240705T185921_R013_T10SDJ_20240706T050346_clipped_236.tif'),\n",
       " PosixPath('/home/francispelletier/projects/geospatial_tools/data/example_s2_download_and_processing/test_sentinel2_clip/S2A_MSIL2A_20240705T185921_R013_T10SDJ_20240706T050346_clipped_233.tif'),\n",
       " PosixPath('/home/francispelletier/projects/geospatial_tools/data/example_s2_download_and_processing/test_sentinel2_clip/S2A_MSIL2A_20240705T185921_R013_T10SDJ_20240706T050346_clipped_230.tif'),\n",
       " PosixPath('/home/francispelletier/projects/geospatial_tools/data/example_s2_download_and_processing/test_sentinel2_clip/S2A_MSIL2A_20240705T185921_R013_T10SDJ_20240706T050346_clipped_228.tif'),\n",
       " PosixPath('/home/francispelletier/projects/geospatial_tools/data/example_s2_download_and_processing/test_sentinel2_clip/S2A_MSIL2A_20240705T185921_R013_T10SDJ_20240706T050346_clipped_242.tif'),\n",
       " PosixPath('/home/francispelletier/projects/geospatial_tools/data/example_s2_download_and_processing/test_sentinel2_clip/S2A_MSIL2A_20240705T185921_R013_T10SDJ_20240706T050346_clipped_240.tif'),\n",
       " PosixPath('/home/francispelletier/projects/geospatial_tools/data/example_s2_download_and_processing/test_sentinel2_clip/S2A_MSIL2A_20240705T185921_R013_T10SDJ_20240706T050346_clipped_239.tif'),\n",
       " PosixPath('/home/francispelletier/projects/geospatial_tools/data/example_s2_download_and_processing/test_sentinel2_clip/S2A_MSIL2A_20240705T185921_R013_T10SDJ_20240706T050346_clipped_247.tif'),\n",
       " PosixPath('/home/francispelletier/projects/geospatial_tools/data/example_s2_download_and_processing/test_sentinel2_clip/S2A_MSIL2A_20240705T185921_R013_T10SDJ_20240706T050346_clipped_244.tif'),\n",
       " PosixPath('/home/francispelletier/projects/geospatial_tools/data/example_s2_download_and_processing/test_sentinel2_clip/S2A_MSIL2A_20240705T185921_R013_T10SDJ_20240706T050346_clipped_257.tif'),\n",
       " PosixPath('/home/francispelletier/projects/geospatial_tools/data/example_s2_download_and_processing/test_sentinel2_clip/S2A_MSIL2A_20240705T185921_R013_T10SDJ_20240706T050346_clipped_250.tif'),\n",
       " PosixPath('/home/francispelletier/projects/geospatial_tools/data/example_s2_download_and_processing/test_sentinel2_clip/S2A_MSIL2A_20240705T185921_R013_T10SDJ_20240706T050346_clipped_258.tif'),\n",
       " PosixPath('/home/francispelletier/projects/geospatial_tools/data/example_s2_download_and_processing/test_sentinel2_clip/S2A_MSIL2A_20240705T185921_R013_T10SDJ_20240706T050346_clipped_248.tif'),\n",
       " PosixPath('/home/francispelletier/projects/geospatial_tools/data/example_s2_download_and_processing/test_sentinel2_clip/S2A_MSIL2A_20240705T185921_R013_T10SDJ_20240706T050346_clipped_245.tif'),\n",
       " PosixPath('/home/francispelletier/projects/geospatial_tools/data/example_s2_download_and_processing/test_sentinel2_clip/S2A_MSIL2A_20240705T185921_R013_T10SDJ_20240706T050346_clipped_253.tif'),\n",
       " PosixPath('/home/francispelletier/projects/geospatial_tools/data/example_s2_download_and_processing/test_sentinel2_clip/S2A_MSIL2A_20240705T185921_R013_T10SDJ_20240706T050346_clipped_251.tif'),\n",
       " PosixPath('/home/francispelletier/projects/geospatial_tools/data/example_s2_download_and_processing/test_sentinel2_clip/S2A_MSIL2A_20240705T185921_R013_T10SDJ_20240706T050346_clipped_246.tif'),\n",
       " PosixPath('/home/francispelletier/projects/geospatial_tools/data/example_s2_download_and_processing/test_sentinel2_clip/S2A_MSIL2A_20240705T185921_R013_T10SDJ_20240706T050346_clipped_255.tif'),\n",
       " PosixPath('/home/francispelletier/projects/geospatial_tools/data/example_s2_download_and_processing/test_sentinel2_clip/S2A_MSIL2A_20240705T185921_R013_T10SDJ_20240706T050346_clipped_254.tif'),\n",
       " PosixPath('/home/francispelletier/projects/geospatial_tools/data/example_s2_download_and_processing/test_sentinel2_clip/S2A_MSIL2A_20240705T185921_R013_T10SDJ_20240706T050346_clipped_249.tif'),\n",
       " PosixPath('/home/francispelletier/projects/geospatial_tools/data/example_s2_download_and_processing/test_sentinel2_clip/S2A_MSIL2A_20240705T185921_R013_T10SDJ_20240706T050346_clipped_256.tif'),\n",
       " PosixPath('/home/francispelletier/projects/geospatial_tools/data/example_s2_download_and_processing/test_sentinel2_clip/S2A_MSIL2A_20240705T185921_R013_T10SDJ_20240706T050346_clipped_259.tif'),\n",
       " PosixPath('/home/francispelletier/projects/geospatial_tools/data/example_s2_download_and_processing/test_sentinel2_clip/S2A_MSIL2A_20240705T185921_R013_T10SDJ_20240706T050346_clipped_252.tif'),\n",
       " PosixPath('/home/francispelletier/projects/geospatial_tools/data/example_s2_download_and_processing/test_sentinel2_clip/S2A_MSIL2A_20240705T185921_R013_T10SDJ_20240706T050346_clipped_270.tif'),\n",
       " PosixPath('/home/francispelletier/projects/geospatial_tools/data/example_s2_download_and_processing/test_sentinel2_clip/S2A_MSIL2A_20240705T185921_R013_T10SDJ_20240706T050346_clipped_267.tif'),\n",
       " PosixPath('/home/francispelletier/projects/geospatial_tools/data/example_s2_download_and_processing/test_sentinel2_clip/S2A_MSIL2A_20240705T185921_R013_T10SDJ_20240706T050346_clipped_269.tif'),\n",
       " PosixPath('/home/francispelletier/projects/geospatial_tools/data/example_s2_download_and_processing/test_sentinel2_clip/S2A_MSIL2A_20240705T185921_R013_T10SDJ_20240706T050346_clipped_271.tif'),\n",
       " PosixPath('/home/francispelletier/projects/geospatial_tools/data/example_s2_download_and_processing/test_sentinel2_clip/S2A_MSIL2A_20240705T185921_R013_T10SDJ_20240706T050346_clipped_261.tif'),\n",
       " PosixPath('/home/francispelletier/projects/geospatial_tools/data/example_s2_download_and_processing/test_sentinel2_clip/S2A_MSIL2A_20240705T185921_R013_T10SDJ_20240706T050346_clipped_263.tif'),\n",
       " PosixPath('/home/francispelletier/projects/geospatial_tools/data/example_s2_download_and_processing/test_sentinel2_clip/S2A_MSIL2A_20240705T185921_R013_T10SDJ_20240706T050346_clipped_265.tif'),\n",
       " PosixPath('/home/francispelletier/projects/geospatial_tools/data/example_s2_download_and_processing/test_sentinel2_clip/S2A_MSIL2A_20240705T185921_R013_T10SDJ_20240706T050346_clipped_264.tif'),\n",
       " PosixPath('/home/francispelletier/projects/geospatial_tools/data/example_s2_download_and_processing/test_sentinel2_clip/S2A_MSIL2A_20240705T185921_R013_T10SDJ_20240706T050346_clipped_266.tif'),\n",
       " PosixPath('/home/francispelletier/projects/geospatial_tools/data/example_s2_download_and_processing/test_sentinel2_clip/S2A_MSIL2A_20240705T185921_R013_T10SDJ_20240706T050346_clipped_260.tif'),\n",
       " PosixPath('/home/francispelletier/projects/geospatial_tools/data/example_s2_download_and_processing/test_sentinel2_clip/S2A_MSIL2A_20240705T185921_R013_T10SDJ_20240706T050346_clipped_262.tif'),\n",
       " PosixPath('/home/francispelletier/projects/geospatial_tools/data/example_s2_download_and_processing/test_sentinel2_clip/S2A_MSIL2A_20240705T185921_R013_T10SDJ_20240706T050346_clipped_274.tif'),\n",
       " PosixPath('/home/francispelletier/projects/geospatial_tools/data/example_s2_download_and_processing/test_sentinel2_clip/S2A_MSIL2A_20240705T185921_R013_T10SDJ_20240706T050346_clipped_268.tif'),\n",
       " PosixPath('/home/francispelletier/projects/geospatial_tools/data/example_s2_download_and_processing/test_sentinel2_clip/S2A_MSIL2A_20240705T185921_R013_T10SDJ_20240706T050346_clipped_275.tif'),\n",
       " PosixPath('/home/francispelletier/projects/geospatial_tools/data/example_s2_download_and_processing/test_sentinel2_clip/S2A_MSIL2A_20240705T185921_R013_T10SDJ_20240706T050346_clipped_272.tif'),\n",
       " PosixPath('/home/francispelletier/projects/geospatial_tools/data/example_s2_download_and_processing/test_sentinel2_clip/S2A_MSIL2A_20240705T185921_R013_T10SDJ_20240706T050346_clipped_273.tif'),\n",
       " PosixPath('/home/francispelletier/projects/geospatial_tools/data/example_s2_download_and_processing/test_sentinel2_clip/S2A_MSIL2A_20240705T185921_R013_T10SDJ_20240706T050346_clipped_276.tif'),\n",
       " PosixPath('/home/francispelletier/projects/geospatial_tools/data/example_s2_download_and_processing/test_sentinel2_clip/S2A_MSIL2A_20240705T185921_R013_T10SDJ_20240706T050346_clipped_278.tif'),\n",
       " PosixPath('/home/francispelletier/projects/geospatial_tools/data/example_s2_download_and_processing/test_sentinel2_clip/S2A_MSIL2A_20240705T185921_R013_T10SDJ_20240706T050346_clipped_277.tif'),\n",
       " PosixPath('/home/francispelletier/projects/geospatial_tools/data/example_s2_download_and_processing/test_sentinel2_clip/S2A_MSIL2A_20240705T185921_R013_T10SDJ_20240706T050346_clipped_279.tif'),\n",
       " PosixPath('/home/francispelletier/projects/geospatial_tools/data/example_s2_download_and_processing/test_sentinel2_clip/S2A_MSIL2A_20240705T185921_R013_T10SDJ_20240706T050346_clipped_281.tif'),\n",
       " PosixPath('/home/francispelletier/projects/geospatial_tools/data/example_s2_download_and_processing/test_sentinel2_clip/S2A_MSIL2A_20240705T185921_R013_T10SDJ_20240706T050346_clipped_283.tif'),\n",
       " PosixPath('/home/francispelletier/projects/geospatial_tools/data/example_s2_download_and_processing/test_sentinel2_clip/S2A_MSIL2A_20240705T185921_R013_T10SDJ_20240706T050346_clipped_282.tif'),\n",
       " PosixPath('/home/francispelletier/projects/geospatial_tools/data/example_s2_download_and_processing/test_sentinel2_clip/S2A_MSIL2A_20240705T185921_R013_T10SDJ_20240706T050346_clipped_280.tif'),\n",
       " PosixPath('/home/francispelletier/projects/geospatial_tools/data/example_s2_download_and_processing/test_sentinel2_clip/S2A_MSIL2A_20240705T185921_R013_T10SDJ_20240706T050346_clipped_284.tif')]"
      ]
     },
     "execution_count": 34,
     "metadata": {},
     "output_type": "execute_result"
    }
   ],
   "execution_count": 34
  }
 ],
 "metadata": {
  "kernelspec": {
   "display_name": "Python 3 (ipykernel)",
   "language": "python",
   "name": "python3"
  },
  "language_info": {
   "codemirror_mode": {
    "name": "ipython",
    "version": 3
   },
   "file_extension": ".py",
   "mimetype": "text/x-python",
   "name": "python",
   "nbconvert_exporter": "python",
   "pygments_lexer": "ipython3",
   "version": "3.11.9"
  }
 },
 "nbformat": 4,
 "nbformat_minor": 5
}

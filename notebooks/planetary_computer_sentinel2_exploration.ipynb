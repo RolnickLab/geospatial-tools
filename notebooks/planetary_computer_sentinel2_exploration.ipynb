{
 "cells": [
  {
   "cell_type": "code",
   "execution_count": 5,
   "id": "initial_id",
   "metadata": {
    "ExecuteTime": {
     "end_time": "2024-07-30T14:46:04.782758Z",
     "start_time": "2024-07-30T14:46:04.316070Z"
    }
   },
   "outputs": [],
   "source": [
    "import leafmap\n",
    "import geopandas as gpd\n",
    "from geospatial_tools import DATA_DIR"
   ]
  },
  {
   "cell_type": "markdown",
   "id": "f2c6690384600863",
   "metadata": {},
   "source": [
    "## Base data\n",
    "\n",
    "The USA polygon is base off 2018's `cb_2018_us_nation_5m` shapefile, taken from here: \n",
    "https://www.census.gov/geographies/mapping-files/time-series/geo/carto-boundary-file.html\n",
    "\n",
    "It was then processed using QGIS to keep only the contiguous states, without any islands.\n",
    "\n",
    "The Sentinel 2 grid was taken from the kml file found here: \n",
    "https://sentinels.copernicus.eu/web/sentinel/missions/sentinel-2/data-products\n",
    "\n",
    "It was then processed using QGIS to keep only the grid cells that overlap with the \n",
    "contiguous states, meaning the polygon layer which is described just above.\n",
    "\n",
    "Since our area of study is quite large, the `EPSG:5070` projection was chosen, as it\n",
    "covers the whole area, introduces minimal distortion while preserving area."
   ]
  },
  {
   "cell_type": "code",
   "execution_count": 3,
   "id": "fcb67d1eb21aafc1",
   "metadata": {
    "ExecuteTime": {
     "end_time": "2024-06-03T20:00:28.768511Z",
     "start_time": "2024-06-03T20:00:28.766415Z"
    }
   },
   "outputs": [],
   "source": [
    "USA_POLYGON_FILE = DATA_DIR / \"usa/usa_polygon_5070.gpkg\"\n",
    "S2_USA_GRID_FILE = DATA_DIR / \"usa/s2_grid_usa_polygon_5070.gpkg\""
   ]
  },
  {
   "cell_type": "code",
   "execution_count": 27,
   "id": "1f3b83d1d0e55f60",
   "metadata": {
    "ExecuteTime": {
     "end_time": "2024-06-03T20:00:28.804395Z",
     "start_time": "2024-06-03T20:00:28.773969Z"
    }
   },
   "outputs": [],
   "source": [
    "usa_polygon = gpd.read_file(USA_POLYGON_FILE)\n",
    "s2_grid = gpd.read_file(S2_USA_GRID_FILE)"
   ]
  },
  {
   "cell_type": "code",
   "execution_count": 28,
   "id": "314e7c068786ad4d",
   "metadata": {
    "ExecuteTime": {
     "end_time": "2024-06-03T20:00:28.866078Z",
     "start_time": "2024-06-03T20:00:28.805666Z"
    }
   },
   "outputs": [
    {
     "data": {
      "text/html": [
       "<div>\n",
       "<style scoped>\n",
       "    .dataframe tbody tr th:only-of-type {\n",
       "        vertical-align: middle;\n",
       "    }\n",
       "\n",
       "    .dataframe tbody tr th {\n",
       "        vertical-align: top;\n",
       "    }\n",
       "\n",
       "    .dataframe thead th {\n",
       "        text-align: right;\n",
       "    }\n",
       "</style>\n",
       "<table border=\"1\" class=\"dataframe\">\n",
       "  <thead>\n",
       "    <tr style=\"text-align: right;\">\n",
       "      <th></th>\n",
       "      <th>AFFGEOID</th>\n",
       "      <th>GEOID</th>\n",
       "      <th>NAME</th>\n",
       "      <th>geometry</th>\n",
       "    </tr>\n",
       "  </thead>\n",
       "  <tbody>\n",
       "    <tr>\n",
       "      <th>0</th>\n",
       "      <td>0100000US</td>\n",
       "      <td>US</td>\n",
       "      <td>United States</td>\n",
       "      <td>MULTIPOLYGON (((-2123555.702 3120381.564, -212...</td>\n",
       "    </tr>\n",
       "  </tbody>\n",
       "</table>\n",
       "</div>"
      ],
      "text/plain": [
       "    AFFGEOID GEOID           NAME  \\\n",
       "0  0100000US    US  United States   \n",
       "\n",
       "                                            geometry  \n",
       "0  MULTIPOLYGON (((-2123555.702 3120381.564, -212...  "
      ]
     },
     "execution_count": 28,
     "metadata": {},
     "output_type": "execute_result"
    }
   ],
   "source": [
    "usa_polygon"
   ]
  },
  {
   "cell_type": "code",
   "execution_count": 29,
   "id": "3e9461ed5b602319",
   "metadata": {
    "ExecuteTime": {
     "end_time": "2024-06-03T20:00:28.876620Z",
     "start_time": "2024-06-03T20:00:28.867078Z"
    }
   },
   "outputs": [
    {
     "data": {
      "text/html": [
       "<div>\n",
       "<style scoped>\n",
       "    .dataframe tbody tr th:only-of-type {\n",
       "        vertical-align: middle;\n",
       "    }\n",
       "\n",
       "    .dataframe tbody tr th {\n",
       "        vertical-align: top;\n",
       "    }\n",
       "\n",
       "    .dataframe thead th {\n",
       "        text-align: right;\n",
       "    }\n",
       "</style>\n",
       "<table border=\"1\" class=\"dataframe\">\n",
       "  <thead>\n",
       "    <tr style=\"text-align: right;\">\n",
       "      <th></th>\n",
       "      <th>name</th>\n",
       "      <th>folders</th>\n",
       "      <th>description</th>\n",
       "      <th>altitude</th>\n",
       "      <th>alt_mode</th>\n",
       "      <th>time_begin</th>\n",
       "      <th>time_end</th>\n",
       "      <th>time_when</th>\n",
       "      <th>geometry</th>\n",
       "    </tr>\n",
       "  </thead>\n",
       "  <tbody>\n",
       "    <tr>\n",
       "      <th>0</th>\n",
       "      <td>12TUP</td>\n",
       "      <td>Features</td>\n",
       "      <td>TILE PROPERTIES&lt;br&gt;&lt;table border=0 cellpadding...</td>\n",
       "      <td>0.0</td>\n",
       "      <td></td>\n",
       "      <td></td>\n",
       "      <td></td>\n",
       "      <td></td>\n",
       "      <td>MULTIPOLYGON Z (((-1386334.944 2487548.770 0.0...</td>\n",
       "    </tr>\n",
       "    <tr>\n",
       "      <th>1</th>\n",
       "      <td>12TYQ</td>\n",
       "      <td>Features</td>\n",
       "      <td>TILE PROPERTIES&lt;br&gt;&lt;table border=0 cellpadding...</td>\n",
       "      <td>0.0</td>\n",
       "      <td></td>\n",
       "      <td></td>\n",
       "      <td></td>\n",
       "      <td></td>\n",
       "      <td>MULTIPOLYGON Z (((-976300.478 2523767.452 0.00...</td>\n",
       "    </tr>\n",
       "    <tr>\n",
       "      <th>2</th>\n",
       "      <td>12TYR</td>\n",
       "      <td>Features</td>\n",
       "      <td>TILE PROPERTIES&lt;br&gt;&lt;table border=0 cellpadding...</td>\n",
       "      <td>0.0</td>\n",
       "      <td></td>\n",
       "      <td></td>\n",
       "      <td></td>\n",
       "      <td></td>\n",
       "      <td>MULTIPOLYGON Z (((-960099.705 2622374.255 0.00...</td>\n",
       "    </tr>\n",
       "    <tr>\n",
       "      <th>3</th>\n",
       "      <td>12TYN</td>\n",
       "      <td>Features</td>\n",
       "      <td>TILE PROPERTIES&lt;br&gt;&lt;table border=0 cellpadding...</td>\n",
       "      <td>0.0</td>\n",
       "      <td></td>\n",
       "      <td></td>\n",
       "      <td></td>\n",
       "      <td></td>\n",
       "      <td>MULTIPOLYGON Z (((-1008622.024 2325748.358 0.0...</td>\n",
       "    </tr>\n",
       "    <tr>\n",
       "      <th>4</th>\n",
       "      <td>12TYP</td>\n",
       "      <td>Features</td>\n",
       "      <td>TILE PROPERTIES&lt;br&gt;&lt;table border=0 cellpadding...</td>\n",
       "      <td>0.0</td>\n",
       "      <td></td>\n",
       "      <td></td>\n",
       "      <td></td>\n",
       "      <td></td>\n",
       "      <td>MULTIPOLYGON Z (((-992478.385 2424861.340 0.00...</td>\n",
       "    </tr>\n",
       "    <tr>\n",
       "      <th>...</th>\n",
       "      <td>...</td>\n",
       "      <td>...</td>\n",
       "      <td>...</td>\n",
       "      <td>...</td>\n",
       "      <td>...</td>\n",
       "      <td>...</td>\n",
       "      <td>...</td>\n",
       "      <td>...</td>\n",
       "      <td>...</td>\n",
       "    </tr>\n",
       "    <tr>\n",
       "      <th>977</th>\n",
       "      <td>12TTM</td>\n",
       "      <td>Features</td>\n",
       "      <td>TILE PROPERTIES&lt;br&gt;&lt;table border=0 cellpadding...</td>\n",
       "      <td>0.0</td>\n",
       "      <td></td>\n",
       "      <td></td>\n",
       "      <td></td>\n",
       "      <td></td>\n",
       "      <td>MULTIPOLYGON Z (((-1515431.586 2304192.826 0.0...</td>\n",
       "    </tr>\n",
       "    <tr>\n",
       "      <th>978</th>\n",
       "      <td>12TUK</td>\n",
       "      <td>Features</td>\n",
       "      <td>TILE PROPERTIES&lt;br&gt;&lt;table border=0 cellpadding...</td>\n",
       "      <td>0.0</td>\n",
       "      <td></td>\n",
       "      <td></td>\n",
       "      <td></td>\n",
       "      <td></td>\n",
       "      <td>MULTIPOLYGON Z (((-1448525.813 2089886.667 0.0...</td>\n",
       "    </tr>\n",
       "    <tr>\n",
       "      <th>979</th>\n",
       "      <td>12TUQ</td>\n",
       "      <td>Features</td>\n",
       "      <td>TILE PROPERTIES&lt;br&gt;&lt;table border=0 cellpadding...</td>\n",
       "      <td>0.0</td>\n",
       "      <td></td>\n",
       "      <td></td>\n",
       "      <td></td>\n",
       "      <td></td>\n",
       "      <td>MULTIPOLYGON Z (((-1371006.917 2586590.133 0.0...</td>\n",
       "    </tr>\n",
       "    <tr>\n",
       "      <th>980</th>\n",
       "      <td>12TUR</td>\n",
       "      <td>Features</td>\n",
       "      <td>TILE PROPERTIES&lt;br&gt;&lt;table border=0 cellpadding...</td>\n",
       "      <td>0.0</td>\n",
       "      <td></td>\n",
       "      <td></td>\n",
       "      <td></td>\n",
       "      <td></td>\n",
       "      <td>MULTIPOLYGON Z (((-1355793.563 2685354.080 0.0...</td>\n",
       "    </tr>\n",
       "    <tr>\n",
       "      <th>981</th>\n",
       "      <td>12TUN</td>\n",
       "      <td>Features</td>\n",
       "      <td>TILE PROPERTIES&lt;br&gt;&lt;table border=0 cellpadding...</td>\n",
       "      <td>0.0</td>\n",
       "      <td></td>\n",
       "      <td></td>\n",
       "      <td></td>\n",
       "      <td></td>\n",
       "      <td>MULTIPOLYGON Z (((-1401759.785 2388321.400 0.0...</td>\n",
       "    </tr>\n",
       "  </tbody>\n",
       "</table>\n",
       "<p>982 rows × 9 columns</p>\n",
       "</div>"
      ],
      "text/plain": [
       "      name   folders                                        description  \\\n",
       "0    12TUP  Features  TILE PROPERTIES<br><table border=0 cellpadding...   \n",
       "1    12TYQ  Features  TILE PROPERTIES<br><table border=0 cellpadding...   \n",
       "2    12TYR  Features  TILE PROPERTIES<br><table border=0 cellpadding...   \n",
       "3    12TYN  Features  TILE PROPERTIES<br><table border=0 cellpadding...   \n",
       "4    12TYP  Features  TILE PROPERTIES<br><table border=0 cellpadding...   \n",
       "..     ...       ...                                                ...   \n",
       "977  12TTM  Features  TILE PROPERTIES<br><table border=0 cellpadding...   \n",
       "978  12TUK  Features  TILE PROPERTIES<br><table border=0 cellpadding...   \n",
       "979  12TUQ  Features  TILE PROPERTIES<br><table border=0 cellpadding...   \n",
       "980  12TUR  Features  TILE PROPERTIES<br><table border=0 cellpadding...   \n",
       "981  12TUN  Features  TILE PROPERTIES<br><table border=0 cellpadding...   \n",
       "\n",
       "     altitude alt_mode time_begin time_end time_when  \\\n",
       "0         0.0                                          \n",
       "1         0.0                                          \n",
       "2         0.0                                          \n",
       "3         0.0                                          \n",
       "4         0.0                                          \n",
       "..        ...      ...        ...      ...       ...   \n",
       "977       0.0                                          \n",
       "978       0.0                                          \n",
       "979       0.0                                          \n",
       "980       0.0                                          \n",
       "981       0.0                                          \n",
       "\n",
       "                                              geometry  \n",
       "0    MULTIPOLYGON Z (((-1386334.944 2487548.770 0.0...  \n",
       "1    MULTIPOLYGON Z (((-976300.478 2523767.452 0.00...  \n",
       "2    MULTIPOLYGON Z (((-960099.705 2622374.255 0.00...  \n",
       "3    MULTIPOLYGON Z (((-1008622.024 2325748.358 0.0...  \n",
       "4    MULTIPOLYGON Z (((-992478.385 2424861.340 0.00...  \n",
       "..                                                 ...  \n",
       "977  MULTIPOLYGON Z (((-1515431.586 2304192.826 0.0...  \n",
       "978  MULTIPOLYGON Z (((-1448525.813 2089886.667 0.0...  \n",
       "979  MULTIPOLYGON Z (((-1371006.917 2586590.133 0.0...  \n",
       "980  MULTIPOLYGON Z (((-1355793.563 2685354.080 0.0...  \n",
       "981  MULTIPOLYGON Z (((-1401759.785 2388321.400 0.0...  \n",
       "\n",
       "[982 rows x 9 columns]"
      ]
     },
     "execution_count": 29,
     "metadata": {},
     "output_type": "execute_result"
    }
   ],
   "source": [
    "s2_grid"
   ]
  },
  {
   "cell_type": "code",
   "execution_count": 30,
   "id": "a06e0387c33e38d0",
   "metadata": {
    "ExecuteTime": {
     "end_time": "2024-06-03T20:00:29.193020Z",
     "start_time": "2024-06-03T20:00:28.877855Z"
    }
   },
   "outputs": [
    {
     "data": {
      "application/vnd.jupyter.widget-view+json": {
       "model_id": "e6fa12d89612421aa42c249ac8bdebb1",
       "version_major": 2,
       "version_minor": 0
      },
      "text/plain": [
       "Map(center=[40, -98], controls=(ZoomControl(options=['position', 'zoom_in_text', 'zoom_in_title', 'zoom_out_te…"
      ]
     },
     "execution_count": 30,
     "metadata": {},
     "output_type": "execute_result"
    }
   ],
   "source": [
    "m = leafmap.Map(center=[40, -98], zoom=4)\n",
    "\n",
    "# In blue, the USA polygon\n",
    "m.add_gdf(usa_polygon, layer='usa')\n",
    "# In red, the Sentinel 2 grid\n",
    "m.add_gdf(s2_grid, layer='s2_grid', style={\"color\": \"red\"})\n",
    "\n",
    "m"
   ]
  },
  {
   "cell_type": "markdown",
   "id": "2af55ae4bef9b74b",
   "metadata": {},
   "source": [
    "## Creating our inference grid\n",
    "\n",
    "From this, we want to create a grid of square polygons with which we will later on\n",
    "query the [Planetary Computer](https://planetarycomputer.microsoft.com/dataset/sentinel-2-l2a)\n",
    "Sentinel 2 dataset and clip the selected Sentinel 2 images."
   ]
  },
  {
   "cell_type": "code",
   "execution_count": 4,
   "id": "3e4e25697ae88500",
   "metadata": {},
   "outputs": [],
   "source": [
    "import time\n",
    "from geospatial_tools.vector import create_vector_grid_parallel, to_geopackage, select_polygons_by_location\n",
    "import pandas as pd\n",
    "import numpy as np\n",
    "from concurrent.futures import ProcessPoolExecutor"
   ]
  },
  {
   "cell_type": "code",
   "execution_count": 32,
   "id": "540e7e9465b0dd28",
   "metadata": {},
   "outputs": [],
   "source": [
    "grid_size = 5000\n",
    "bbox = usa_polygon.total_bounds"
   ]
  },
  {
   "cell_type": "code",
   "execution_count": null,
   "id": "d4546352d604eaf",
   "metadata": {
    "ExecuteTime": {
     "start_time": "2024-06-03T20:00:29.200804Z"
    },
    "jupyter": {
     "is_executing": true
    }
   },
   "outputs": [
    {
     "name": "stdout",
     "output_type": "stream",
     "text": [
      "Starting processing for [create_vector_grid_parallel]\n",
      "[2024-06-03 16:00:29] INFO       [MainThread][geospatial_tools.vector] Creating grid coordinates for bounding box [[-2356113.74289801   310919.59963659  2258200.17691555  3165721.6501298 ]]\n",
      "[2024-06-03 16:00:29] INFO       [MainThread][geospatial_tools.vector] Creating flattened grid coordinates\n",
      "[2024-06-03 16:00:29] INFO       [MainThread][geospatial_tools.vector] Number of workers used: 16\n",
      "[2024-06-03 16:00:29] INFO       [MainThread][geospatial_tools.vector] Allocating polygon array for [13175825] polygons\n",
      "[2024-06-03 16:00:29] INFO       [MainThread][geospatial_tools.vector] Creating polygons from chunk\n"
     ]
    }
   ],
   "source": [
    "start = time.time()\n",
    "print(\"Starting processing for [create_vector_grid_parallel]\")\n",
    "grid_parallel = create_vector_grid_parallel(bounding_box=bbox, grid_size=grid_size, crs=\"EPSG:5070\")\n",
    "stop = time.time()\n",
    "print(f\"Printing len(grid_parallel) to check if grid contains same amount of polygons : {len(grid_parallel)}\")\n",
    "print(f\"Time taken to create parallel grid: {stop - start}\")\n",
    "to_geopackage(gdf=grid_parallel, filename=\"polygon_grid.gpkg\")"
   ]
  },
  {
   "cell_type": "markdown",
   "id": "1b2e97160276c1d0",
   "metadata": {},
   "source": [
    "### Selecting the useful polygons\n",
    "\n",
    "Now, since our grid was created using the extent of our input polygon (continental USA), we need to filter out the polygons that do not intersect with it.\n",
    "\n",
    "Doing this in Python is not the most efficient way to do things, but since it's a step that shouldn't be done over and over, it's not that critical.\n",
    "\n",
    "If ever you need to do this step in an efficient way because the data is just too big or too complex, it would be better off going through QGIS, PyGQIS, GDAL or \n",
    "some other more efficient way to do this operation. "
   ]
  },
  {
   "cell_type": "code",
   "execution_count": null,
   "id": "7fb328be7527d9cb",
   "metadata": {
    "jupyter": {
     "is_executing": true
    }
   },
   "outputs": [],
   "source": [
    "start = time.time()\n",
    "print(\"Starting intersect selection using for loop\")\n",
    "intersecting_polygons = select_polygons_by_location(grid_parallel, usa_polygon)\n",
    "stop = time.time()\n",
    "print(f\"Time taken to intersect using for loop: {stop - start}\")\n",
    "# Optionally, save to a new file"
   ]
  },
  {
   "cell_type": "markdown",
   "id": "9608c485743c9f81",
   "metadata": {},
   "source": [
    "### Visualizing the selected polygons\n",
    "\n",
    "This will take more or less time, depending on the number on polygons. "
   ]
  },
  {
   "cell_type": "code",
   "execution_count": null,
   "id": "cb4ae8587439f3ff",
   "metadata": {
    "jupyter": {
     "is_executing": true
    }
   },
   "outputs": [],
   "source": [
    "m.add_gdf(intersecting_polygons, layer='intersecting_polygons', style={\"color\": \"blue\"})\n",
    "m"
   ]
  },
  {
   "cell_type": "code",
   "execution_count": 1,
   "id": "89c0d198-d672-4815-904b-7a7c4be6cb03",
   "metadata": {},
   "outputs": [
    {
     "name": "stdout",
     "output_type": "stream",
     "text": [
      "planetary-computer        1.0.0\n",
      "Note: you may need to restart the kernel to use updated packages.\n"
     ]
    }
   ],
   "source": [
    "%pip list | grep planetary"
   ]
  },
  {
   "cell_type": "markdown",
   "id": "3f87c15e-c755-4787-86e7-dda58fc002cf",
   "metadata": {
    "jupyter": {
     "is_executing": true
    }
   },
   "source": [
    "## Exploring S2 STAC catalog tools"
   ]
  },
  {
   "cell_type": "code",
   "execution_count": 1,
   "id": "0061399b-6338-40c3-b19f-3936bed606c5",
   "metadata": {
    "ExecuteTime": {
     "end_time": "2024-07-30T14:46:17.086432Z",
     "start_time": "2024-07-30T14:46:17.083504Z"
    }
   },
   "outputs": [],
   "source": [
    "from pathlib import Path\n",
    "from geospatial_tools import DATA_DIR\n",
    "from geospatial_tools.stac import StacSearch, PLANETARY_COMPUTER\n",
    "from geospatial_tools.utils import create_date_range_for_specific_period\n",
    "from geospatial_tools.raster import reproject_raster"
   ]
  },
  {
   "cell_type": "code",
   "execution_count": 2,
   "id": "e54bfe14-6b18-48d9-93ea-7adf2fedfaec",
   "metadata": {
    "ExecuteTime": {
     "end_time": "2024-07-30T14:46:20.640922Z",
     "start_time": "2024-07-30T14:46:19.269734Z"
    }
   },
   "outputs": [
    {
     "name": "stdout",
     "output_type": "stream",
     "text": [
      "2021-06-01T00:00:00Z/2021-07-31T23:59:59Z\n",
      "2022-06-01T00:00:00Z/2022-07-31T23:59:59Z\n",
      "[2024-07-31 18:07:33] INFO       [MainThread][geospatial_tools.stac] S2B_MSIL2A_20210720T183919_R070_T10SGE_20210721T052505, 2021-07-20 18:39:19.024000+00:00, 0.202279\n",
      "[2024-07-31 18:07:33] INFO       [MainThread][geospatial_tools.stac] S2B_MSIL2A_20210713T184919_R113_T10SGE_20210714T084909, 2021-07-13 18:49:19.024000+00:00, 0.002955\n",
      "[2024-07-31 18:07:33] INFO       [MainThread][geospatial_tools.stac] S2B_MSIL2A_20210710T183919_R070_T10SGE_20210711T034836, 2021-07-10 18:39:19.024000+00:00, 0.237209\n",
      "[2024-07-31 18:07:33] INFO       [MainThread][geospatial_tools.stac] S2B_MSIL2A_20210630T183919_R070_T10SGE_20210701T140951, 2021-06-30 18:39:19.024000+00:00, 0.228867\n",
      "[2024-07-31 18:07:33] INFO       [MainThread][geospatial_tools.stac] S2B_MSIL2A_20210623T184919_R113_T10SGE_20210626T013807, 2021-06-23 18:49:19.024000+00:00, 0.008795\n",
      "[2024-07-31 18:07:33] INFO       [MainThread][geospatial_tools.stac] S2B_MSIL2A_20210620T183919_R070_T10SGE_20210621T095614, 2021-06-20 18:39:19.024000+00:00, 0.564451\n",
      "[2024-07-31 18:07:33] INFO       [MainThread][geospatial_tools.stac] S2B_MSIL2A_20210613T184919_R113_T10SGE_20210615T052420, 2021-06-13 18:49:19.024000+00:00, 0.017032\n",
      "[2024-07-31 18:07:33] INFO       [MainThread][geospatial_tools.stac] S2B_MSIL2A_20210603T184919_R113_T10SGE_20210604T100449, 2021-06-03 18:49:19.024000+00:00, 0.006533\n",
      "[2024-07-31 18:07:33] INFO       [MainThread][geospatial_tools.stac] S2A_MSIL2A_20210715T183921_R070_T10SGE_20210716T124801, 2021-07-15 18:39:21.024000+00:00, 0.331475\n",
      "[2024-07-31 18:07:33] INFO       [MainThread][geospatial_tools.stac] S2A_MSIL2A_20210628T184921_R113_T10SGE_20210630T055810, 2021-06-28 18:49:21.024000+00:00, 0.035919\n",
      "[2024-07-31 18:07:33] INFO       [MainThread][geospatial_tools.stac] S2A_MSIL2A_20210625T183921_R070_T10SGE_20210626T090910, 2021-06-25 18:39:21.024000+00:00, 0.391751\n",
      "[2024-07-31 18:07:33] INFO       [MainThread][geospatial_tools.stac] S2A_MSIL2A_20210618T184921_R113_T10SGE_20210619T062009, 2021-06-18 18:49:21.024000+00:00, 0.025955\n",
      "[2024-07-31 18:07:33] INFO       [MainThread][geospatial_tools.stac] S2A_MSIL2A_20210615T183921_R070_T10SGE_20210616T043642, 2021-06-15 18:39:21.024000+00:00, 0.200948\n",
      "[2024-07-31 18:07:33] INFO       [MainThread][geospatial_tools.stac] S2A_MSIL2A_20210608T184921_R113_T10SGE_20210612T173637, 2021-06-08 18:49:21.024000+00:00, 0.080667\n",
      "2023-06-01T00:00:00Z/2023-07-31T23:59:59Z\n",
      "[2024-07-31 18:07:33] INFO       [MainThread][geospatial_tools.stac] S2B_MSIL2A_20210720T183919_R070_T10SGE_20210721T052505, 2021-07-20 18:39:19.024000+00:00, 0.202279\n",
      "[2024-07-31 18:07:33] INFO       [MainThread][geospatial_tools.stac] S2B_MSIL2A_20210713T184919_R113_T10SGE_20210714T084909, 2021-07-13 18:49:19.024000+00:00, 0.002955\n",
      "[2024-07-31 18:07:33] INFO       [MainThread][geospatial_tools.stac] S2B_MSIL2A_20210710T183919_R070_T10SGE_20210711T034836, 2021-07-10 18:39:19.024000+00:00, 0.237209\n",
      "[2024-07-31 18:07:33] INFO       [MainThread][geospatial_tools.stac] S2B_MSIL2A_20210630T183919_R070_T10SGE_20210701T140951, 2021-06-30 18:39:19.024000+00:00, 0.228867\n",
      "[2024-07-31 18:07:33] INFO       [MainThread][geospatial_tools.stac] S2B_MSIL2A_20210623T184919_R113_T10SGE_20210626T013807, 2021-06-23 18:49:19.024000+00:00, 0.008795\n",
      "[2024-07-31 18:07:33] INFO       [MainThread][geospatial_tools.stac] S2B_MSIL2A_20210620T183919_R070_T10SGE_20210621T095614, 2021-06-20 18:39:19.024000+00:00, 0.564451\n",
      "[2024-07-31 18:07:33] INFO       [MainThread][geospatial_tools.stac] S2B_MSIL2A_20210613T184919_R113_T10SGE_20210615T052420, 2021-06-13 18:49:19.024000+00:00, 0.017032\n",
      "[2024-07-31 18:07:33] INFO       [MainThread][geospatial_tools.stac] S2B_MSIL2A_20210603T184919_R113_T10SGE_20210604T100449, 2021-06-03 18:49:19.024000+00:00, 0.006533\n",
      "[2024-07-31 18:07:33] INFO       [MainThread][geospatial_tools.stac] S2A_MSIL2A_20210715T183921_R070_T10SGE_20210716T124801, 2021-07-15 18:39:21.024000+00:00, 0.331475\n",
      "[2024-07-31 18:07:33] INFO       [MainThread][geospatial_tools.stac] S2A_MSIL2A_20210628T184921_R113_T10SGE_20210630T055810, 2021-06-28 18:49:21.024000+00:00, 0.035919\n",
      "[2024-07-31 18:07:33] INFO       [MainThread][geospatial_tools.stac] S2A_MSIL2A_20210625T183921_R070_T10SGE_20210626T090910, 2021-06-25 18:39:21.024000+00:00, 0.391751\n",
      "[2024-07-31 18:07:33] INFO       [MainThread][geospatial_tools.stac] S2A_MSIL2A_20210618T184921_R113_T10SGE_20210619T062009, 2021-06-18 18:49:21.024000+00:00, 0.025955\n",
      "[2024-07-31 18:07:33] INFO       [MainThread][geospatial_tools.stac] S2A_MSIL2A_20210615T183921_R070_T10SGE_20210616T043642, 2021-06-15 18:39:21.024000+00:00, 0.200948\n",
      "[2024-07-31 18:07:33] INFO       [MainThread][geospatial_tools.stac] S2A_MSIL2A_20210608T184921_R113_T10SGE_20210612T173637, 2021-06-08 18:49:21.024000+00:00, 0.080667\n",
      "[2024-07-31 18:07:33] INFO       [MainThread][geospatial_tools.stac] S2B_MSIL2A_20220728T184919_R113_T10SGE_20220730T002559, 2022-07-28 18:49:19.024000+00:00, 0.007838\n",
      "[2024-07-31 18:07:33] INFO       [MainThread][geospatial_tools.stac] S2B_MSIL2A_20220725T183929_R070_T10SGE_20220727T110815, 2022-07-25 18:39:29.025000+00:00, 0.098619\n",
      "[2024-07-31 18:07:33] INFO       [MainThread][geospatial_tools.stac] S2B_MSIL2A_20220715T183919_R070_T10SGE_20220716T063653, 2022-07-15 18:39:19.024000+00:00, 0.003218\n",
      "[2024-07-31 18:07:33] INFO       [MainThread][geospatial_tools.stac] S2B_MSIL2A_20220628T184919_R113_T10SGE_20220629T121823, 2022-06-28 18:49:19.024000+00:00, 0.03108\n",
      "[2024-07-31 18:07:33] INFO       [MainThread][geospatial_tools.stac] S2B_MSIL2A_20220625T183929_R070_T10SGE_20220627T221059, 2022-06-25 18:39:29.024000+00:00, 0.253642\n",
      "[2024-07-31 18:07:33] INFO       [MainThread][geospatial_tools.stac] S2B_MSIL2A_20220618T184919_R113_T10SGE_20220620T180312, 2022-06-18 18:49:19.024000+00:00, 0.377162\n",
      "[2024-07-31 18:07:33] INFO       [MainThread][geospatial_tools.stac] S2B_MSIL2A_20220615T183919_R070_T10SGE_20220618T191736, 2022-06-15 18:39:19.024000+00:00, 0.018955\n",
      "[2024-07-31 18:07:33] INFO       [MainThread][geospatial_tools.stac] S2A_MSIL2A_20220723T184931_R113_T10SGE_20220725T180858, 2022-07-23 18:49:31.024000+00:00, 0.0\n",
      "[2024-07-31 18:07:33] INFO       [MainThread][geospatial_tools.stac] S2A_MSIL2A_20220720T183931_R070_T10SGE_20220721T084218, 2022-07-20 18:39:31.024000+00:00, 0.352922\n",
      "[2024-07-31 18:07:33] INFO       [MainThread][geospatial_tools.stac] S2A_MSIL2A_20220713T184931_R113_T10SGE_20220714T172718, 2022-07-13 18:49:31.024000+00:00, 0.0\n",
      "[2024-07-31 18:07:33] INFO       [MainThread][geospatial_tools.stac] S2A_MSIL2A_20220710T183931_R070_T10SGE_20220712T175915, 2022-07-10 18:39:31.024000+00:00, 0.040109\n",
      "[2024-07-31 18:07:33] INFO       [MainThread][geospatial_tools.stac] S2A_MSIL2A_20220703T184931_R113_T10SGE_20220704T065113, 2022-07-03 18:49:31.024000+00:00, 0.053954\n",
      "[2024-07-31 18:07:33] INFO       [MainThread][geospatial_tools.stac] S2A_MSIL2A_20220623T184931_R113_T10SGE_20220624T084811, 2022-06-23 18:49:31.024000+00:00, 0.261997\n",
      "[2024-07-31 18:07:33] INFO       [MainThread][geospatial_tools.stac] S2A_MSIL2A_20220620T183931_R070_T10SGE_20220621T203620, 2022-06-20 18:39:31.024000+00:00, 0.016188\n",
      "[2024-07-31 18:07:33] INFO       [MainThread][geospatial_tools.stac] S2A_MSIL2A_20220613T184931_R113_T10SGE_20220614T145426, 2022-06-13 18:49:31.024000+00:00, 0.0\n",
      "[2024-07-31 18:07:33] INFO       [MainThread][geospatial_tools.stac] S2A_MSIL2A_20220610T183931_R070_T10SGE_20220611T193940, 2022-06-10 18:39:31.024000+00:00, 0.013265\n",
      "[2024-07-31 18:07:33] INFO       [MainThread][geospatial_tools.stac] Sorting results by cloud cover (from least to most)\n",
      "Optimal result: S2A_MSIL2A_20220723T184931_R113_T10SGE_20220725T180858, 2022-07-23 18:49:31.024000+00:00, 0.0\n"
     ]
    }
   ],
   "source": [
    "\n",
    "start_year = 2021 \n",
    "end_year = 2023\n",
    "start_month = 6\n",
    "end_month = 7\n",
    "date_ranges = create_date_range_for_specific_period(start_year=start_year, end_year=end_year, start_month_range=start_month, end_month_range=end_month)\n",
    "\n",
    "search_client = StacSearch(PLANETARY_COMPUTER)\n",
    "\n",
    "collection = \"sentinel-2-l2a\"\n",
    "tile_ids = [\"10SGE\"]\n",
    "query = {\"eo:cloud_cover\": {\"lt\": 1}, \"s2:mgrs_tile\": {\"in\": tile_ids}}\n",
    "sortby = [{\"field\": \"properties.eo:cloud_cover\", \"direction\": \"asc\"}]\n",
    "\n",
    "results = search_client.stac_api_search_for_date_ranges(date_ranges=date_ranges, collections=collection, query=query, sortby=sortby, max_items=20)\n",
    "\n",
    "sorted_items = search_client.sort_results_by_cloud_coverage()\n",
    "optimal_result = sorted_items[0]\n",
    "\n",
    "print(f\"Optimal result: {optimal_result.id}, {optimal_result.datetime}, {optimal_result.properties['eo:cloud_cover']}\") "
   ]
  },
  {
   "cell_type": "code",
   "execution_count": 3,
   "id": "502059d4",
   "metadata": {},
   "outputs": [
    {
     "name": "stdout",
     "output_type": "stream",
     "text": [
      "[2024-07-31 18:07:35] INFO       [MainThread][geospatial_tools.stac] Downloading [S2A_MSIL2A_20220723T184931_R113_T10SGE_20220725T180858] ...\n",
      "Downloading B02 from https://sentinel2l2a01.blob.core.windows.net/sentinel2-l2/10/S/GE/2022/07/23/S2A_MSIL2A_20220723T184931_N0400_R113_T10SGE_20220725T180858.SAFE/GRANULE/L2A_T10SGE_A037004_20220723T190242/IMG_DATA/R10m/T10SGE_20220723T184931_B02_10m.tif?st=2024-07-30T22%3A07%3A33Z&se=2024-07-31T22%3A52%3A33Z&sp=rl&sv=2024-05-04&sr=c&skoid=9c8ff44a-6a2c-4dfb-b298-1c9212f64d9a&sktid=72f988bf-86f1-41af-91ab-2d7cd011db47&skt=2024-07-31T21%3A01%3A08Z&ske=2024-08-07T21%3A01%3A08Z&sks=b&skv=2024-05-04&sig=1UV4VnkYp/s2aVRrmwjo%2BLNfKQuW3IjZxyF9ukCIdqI%3D\n",
      "Downloaded /home/dev/projects/geospatial-tools/data/sentinel-2/test/S2A_MSIL2A_20220723T184931_R113_T10SGE_20220725T180858_B02.tif successfully.\n",
      "Downloading B03 from https://sentinel2l2a01.blob.core.windows.net/sentinel2-l2/10/S/GE/2022/07/23/S2A_MSIL2A_20220723T184931_N0400_R113_T10SGE_20220725T180858.SAFE/GRANULE/L2A_T10SGE_A037004_20220723T190242/IMG_DATA/R10m/T10SGE_20220723T184931_B03_10m.tif?st=2024-07-30T22%3A07%3A33Z&se=2024-07-31T22%3A52%3A33Z&sp=rl&sv=2024-05-04&sr=c&skoid=9c8ff44a-6a2c-4dfb-b298-1c9212f64d9a&sktid=72f988bf-86f1-41af-91ab-2d7cd011db47&skt=2024-07-31T21%3A01%3A08Z&ske=2024-08-07T21%3A01%3A08Z&sks=b&skv=2024-05-04&sig=1UV4VnkYp/s2aVRrmwjo%2BLNfKQuW3IjZxyF9ukCIdqI%3D\n",
      "Downloaded /home/dev/projects/geospatial-tools/data/sentinel-2/test/S2A_MSIL2A_20220723T184931_R113_T10SGE_20220725T180858_B03.tif successfully.\n",
      "Downloading B04 from https://sentinel2l2a01.blob.core.windows.net/sentinel2-l2/10/S/GE/2022/07/23/S2A_MSIL2A_20220723T184931_N0400_R113_T10SGE_20220725T180858.SAFE/GRANULE/L2A_T10SGE_A037004_20220723T190242/IMG_DATA/R10m/T10SGE_20220723T184931_B04_10m.tif?st=2024-07-30T22%3A07%3A33Z&se=2024-07-31T22%3A52%3A33Z&sp=rl&sv=2024-05-04&sr=c&skoid=9c8ff44a-6a2c-4dfb-b298-1c9212f64d9a&sktid=72f988bf-86f1-41af-91ab-2d7cd011db47&skt=2024-07-31T21%3A01%3A08Z&ske=2024-08-07T21%3A01%3A08Z&sks=b&skv=2024-05-04&sig=1UV4VnkYp/s2aVRrmwjo%2BLNfKQuW3IjZxyF9ukCIdqI%3D\n",
      "Downloaded /home/dev/projects/geospatial-tools/data/sentinel-2/test/S2A_MSIL2A_20220723T184931_R113_T10SGE_20220725T180858_B04.tif successfully.\n",
      "Downloading B08 from https://sentinel2l2a01.blob.core.windows.net/sentinel2-l2/10/S/GE/2022/07/23/S2A_MSIL2A_20220723T184931_N0400_R113_T10SGE_20220725T180858.SAFE/GRANULE/L2A_T10SGE_A037004_20220723T190242/IMG_DATA/R10m/T10SGE_20220723T184931_B08_10m.tif?st=2024-07-30T22%3A07%3A33Z&se=2024-07-31T22%3A52%3A33Z&sp=rl&sv=2024-05-04&sr=c&skoid=9c8ff44a-6a2c-4dfb-b298-1c9212f64d9a&sktid=72f988bf-86f1-41af-91ab-2d7cd011db47&skt=2024-07-31T21%3A01%3A08Z&ske=2024-08-07T21%3A01%3A08Z&sks=b&skv=2024-05-04&sig=1UV4VnkYp/s2aVRrmwjo%2BLNfKQuW3IjZxyF9ukCIdqI%3D\n",
      "Downloaded /home/dev/projects/geospatial-tools/data/sentinel-2/test/S2A_MSIL2A_20220723T184931_R113_T10SGE_20220725T180858_B08.tif successfully.\n",
      "Downloading visual from https://sentinel2l2a01.blob.core.windows.net/sentinel2-l2/10/S/GE/2022/07/23/S2A_MSIL2A_20220723T184931_N0400_R113_T10SGE_20220725T180858.SAFE/GRANULE/L2A_T10SGE_A037004_20220723T190242/IMG_DATA/R10m/T10SGE_20220723T184931_TCI_10m.tif?st=2024-07-30T22%3A07%3A33Z&se=2024-07-31T22%3A52%3A33Z&sp=rl&sv=2024-05-04&sr=c&skoid=9c8ff44a-6a2c-4dfb-b298-1c9212f64d9a&sktid=72f988bf-86f1-41af-91ab-2d7cd011db47&skt=2024-07-31T21%3A01%3A08Z&ske=2024-08-07T21%3A01%3A08Z&sks=b&skv=2024-05-04&sig=1UV4VnkYp/s2aVRrmwjo%2BLNfKQuW3IjZxyF9ukCIdqI%3D\n"
     ]
    }
   ],
   "source": [
    "bands = [\"B02\", \"B03\", \"B04\", \"B08\", \"visual\"]\n",
    "file_base_path = Path(f\"{DATA_DIR}/sentinel-2/test\")\n",
    "best_result = search_client.download_best_cloud_cover_results(bands=bands, base_directory=file_base_path)\n",
    "best_result"
   ]
  },
  {
   "cell_type": "code",
   "execution_count": 4,
   "id": "2833254a",
   "metadata": {},
   "outputs": [
    {
     "name": "stdout",
     "output_type": "stream",
     "text": [
      "[2024-07-31 18:05:14] INFO       [MainThread][geospatial_tools.stac] Asset list for asset [S2A_MSIL2A_20220723T184931_R113_T10SGE_20220725T180858] : \n",
      "['ID: [S2A_MSIL2A_20220723T184931_R113_T10SGE_20220725T180858], Band: [B02], filename: [/home/dev/projects/geospatial-tools/data/sentinel-2/test/S2A_MSIL2A_20220723T184931_R113_T10SGE_20220725T180858_B02.tif]', 'ID: [S2A_MSIL2A_20220723T184931_R113_T10SGE_20220725T180858], Band: [B03], filename: [/home/dev/projects/geospatial-tools/data/sentinel-2/test/S2A_MSIL2A_20220723T184931_R113_T10SGE_20220725T180858_B03.tif]', 'ID: [S2A_MSIL2A_20220723T184931_R113_T10SGE_20220725T180858], Band: [B04], filename: [/home/dev/projects/geospatial-tools/data/sentinel-2/test/S2A_MSIL2A_20220723T184931_R113_T10SGE_20220725T180858_B04.tif]', 'ID: [S2A_MSIL2A_20220723T184931_R113_T10SGE_20220725T180858], Band: [B08], filename: [/home/dev/projects/geospatial-tools/data/sentinel-2/test/S2A_MSIL2A_20220723T184931_R113_T10SGE_20220725T180858_B08.tif]', 'ID: [S2A_MSIL2A_20220723T184931_R113_T10SGE_20220725T180858], Band: [visual], filename: [/home/dev/projects/geospatial-tools/data/sentinel-2/test/S2A_MSIL2A_20220723T184931_R113_T10SGE_20220725T180858_visual.tif]']\n"
     ]
    }
   ],
   "source": [
    "best_result.show_asset_items()"
   ]
  },
  {
   "cell_type": "code",
   "execution_count": 25,
   "id": "0d525a95-2020-44ee-a2cd-a7a6b60dfe97",
   "metadata": {
    "ExecuteTime": {
     "end_time": "2024-07-30T14:56:08.537831Z",
     "start_time": "2024-07-30T14:56:08.532515Z"
    }
   },
   "outputs": [],
   "source": [
    "image_ids = [\"S2A_MSIL2A_20220723T184931_R113_T10SGE_20220725T180858\"]\n",
    "file_base_path = Path(f\"{DATA_DIR}/sentinel-2\")\n",
    "bands = [\"B02\", \"B03\", \"B04\", \"B08\", \"visual\"]"
   ]
  },
  {
   "cell_type": "code",
   "execution_count": null,
   "id": "285a4534",
   "metadata": {},
   "outputs": [],
   "source": []
  },
  {
   "cell_type": "code",
   "execution_count": 83,
   "id": "9f25d9ef-2796-4888-b0e0-84b211616e07",
   "metadata": {
    "ExecuteTime": {
     "end_time": "2024-07-30T15:04:28.183469Z",
     "start_time": "2024-07-30T14:56:09.660908Z"
    }
   },
   "outputs": [
    {
     "name": "stdout",
     "output_type": "stream",
     "text": [
      "Try reading downloaded_files\n",
      "Inside if\n",
      "/home/dev/projects/geospatial-tools/data/sentinel-2/S2B_MSIL2A_20220615T183919_R070_T10SGE_20220618T191736_B02.tif\n",
      "1\n",
      "/home/dev/projects/geospatial-tools/data/sentinel-2/S2B_MSIL2A_20220615T183919_R070_T10SGE_20220618T191736_B03.tif\n",
      "1\n",
      "/home/dev/projects/geospatial-tools/data/sentinel-2/S2B_MSIL2A_20220615T183919_R070_T10SGE_20220618T191736_B04.tif\n",
      "1\n",
      "/home/dev/projects/geospatial-tools/data/sentinel-2/S2B_MSIL2A_20220615T183919_R070_T10SGE_20220618T191736_B08.tif\n",
      "1\n",
      "/home/dev/projects/geospatial-tools/data/sentinel-2/S2B_MSIL2A_20220615T183919_R070_T10SGE_20220618T191736_visual.tif\n",
      "3\n",
      "7\n",
      "{'driver': 'GTiff', 'dtype': 'uint16', 'nodata': 0.0, 'width': 10980, 'height': 10980, 'count': 1, 'crs': CRS.from_epsg(32610), 'transform': Affine(10.0, 0.0, 699960.0,\n",
      "       0.0, -10.0, 4000020.0)}\n",
      "Writing band image: /home/dev/projects/geospatial-tools/data/sentinel-2/S2B_MSIL2A_20220615T183919_R070_T10SGE_20220618T191736_B02.tif\n",
      "writing band 1\n",
      "writing merged index 1\n",
      "B02\n",
      "Writing band image: /home/dev/projects/geospatial-tools/data/sentinel-2/S2B_MSIL2A_20220615T183919_R070_T10SGE_20220618T191736_B03.tif\n",
      "writing band 1\n",
      "writing merged index 2\n",
      "B03\n",
      "Writing band image: /home/dev/projects/geospatial-tools/data/sentinel-2/S2B_MSIL2A_20220615T183919_R070_T10SGE_20220618T191736_B04.tif\n",
      "writing band 1\n",
      "writing merged index 3\n",
      "B04\n",
      "Writing band image: /home/dev/projects/geospatial-tools/data/sentinel-2/S2B_MSIL2A_20220615T183919_R070_T10SGE_20220618T191736_B08.tif\n",
      "writing band 1\n",
      "writing merged index 4\n",
      "B08\n",
      "Writing band image: /home/dev/projects/geospatial-tools/data/sentinel-2/S2B_MSIL2A_20220615T183919_R070_T10SGE_20220618T191736_visual.tif\n",
      "writing band 1\n",
      "writing merged index 5\n",
      "visual\n",
      "writing band 2\n",
      "writing merged index 6\n",
      "visual\n",
      "writing band 3\n",
      "writing merged index 7\n",
      "visual\n",
      "Merged file created at /home/dev/projects/geospatial-tools/data/sentinel-2/S2B_MSIL2A_20220615T183919_R070_T10SGE_20220618T191736_merged.tif\n"
     ]
    }
   ],
   "source": [
    "# for item in results:\n",
    "#     image_id = item.id\n",
    "#     if image_id in image_ids:\n",
    "#         print(f\"Title: {image_id}\")\n",
    "#         print(f\"Date: {item.datetime}\")\n",
    "#         print(f\"Assets: {list(item.assets.keys())}\")\n",
    "\n",
    "downloaded_files = [\n",
    "    \"/home/dev/projects/geospatial-tools/data/sentinel-2/S2B_MSIL2A_20220615T183919_R070_T10SGE_20220618T191736_B02.tif\",\n",
    "    \"/home/dev/projects/geospatial-tools/data/sentinel-2/S2B_MSIL2A_20220615T183919_R070_T10SGE_20220618T191736_B03.tif\",\n",
    "    \"/home/dev/projects/geospatial-tools/data/sentinel-2/S2B_MSIL2A_20220615T183919_R070_T10SGE_20220618T191736_B04.tif\",\n",
    "    \"/home/dev/projects/geospatial-tools/data/sentinel-2/S2B_MSIL2A_20220615T183919_R070_T10SGE_20220618T191736_B08.tif\",\n",
    "    \"/home/dev/projects/geospatial-tools/data/sentinel-2/S2B_MSIL2A_20220615T183919_R070_T10SGE_20220618T191736_visual.tif\",\n",
    "]\n",
    "\n",
    "# for band in bands:\n",
    "#     if band in item.assets:\n",
    "#         asset = item.assets[band]\n",
    "#         asset_url = asset.href\n",
    "#         print(f\"Downloading {band} from {asset_url}\")\n",
    "\n",
    "#         file_name = file_base_path / f\"{image_id}_{band}.tif\"\n",
    "#         downloaded_file = download_asset(asset_url, file_name)\n",
    "#         if downloaded_file:\n",
    "#             downloaded_files.append(downloaded_file)\n",
    "#     else:\n",
    "#         print(f\"Band {band} not available for {image_id}.\")\n",
    "print(\"Try reading downloaded_files\")\n",
    "if downloaded_files:\n",
    "    print(\"Inside if\")\n",
    "    merged_file = file_base_path / \"S2B_MSIL2A_20220615T183919_R070_T10SGE_20220618T191736_merged.tif\"\n",
    "\n",
    "    total_band_count = 0\n",
    "    for download_file in downloaded_files:\n",
    "        print(download_file)\n",
    "        with rasterio.open(download_file, 'r') as downloaded_image:\n",
    "            print(downloaded_image.count)\n",
    "            total_band_count += downloaded_image.count\n",
    "\n",
    "    print(total_band_count)\n",
    "\n",
    "    with rasterio.open(downloaded_files[0]) as meta_source:\n",
    "        meta = meta_source.meta\n",
    "        print(meta)\n",
    "        meta.update(count=total_band_count)\n",
    "\n",
    "    # TODO Fix for case of tif containing multiple bands\n",
    "    merged_image_index = 1\n",
    "    band_index = 0\n",
    "    with rasterio.open(merged_file, 'w', **meta) as merged_sentinel_image:\n",
    "        for file in downloaded_files:\n",
    "            print(f\"Writing band image: {file}\")\n",
    "            with rasterio.open(file) as sentinel_band_image:\n",
    "                num_of_bands = sentinel_band_image.count\n",
    "                for sentinel_band_image_index in range(1, num_of_bands + 1):\n",
    "                    print(f\"writing band {sentinel_band_image_index}\")\n",
    "                    print(f\"writing merged index {merged_image_index}\")\n",
    "                    merged_sentinel_image.write_band(merged_image_index, sentinel_band_image.read(sentinel_band_image_index))\n",
    "                    description = bands[band_index]\n",
    "                    if num_of_bands > 1:\n",
    "                        description = f\"{description}-{sentinel_band_image_index}\"\n",
    "                    print(bands[band_index])\n",
    "                    merged_sentinel_image.set_band_description(merged_image_index, description)\n",
    "                    merged_sentinel_image.update_tags(merged_image_index, **sentinel_band_image.tags(sentinel_band_image_index))\n",
    "                    merged_image_index += 1\n",
    "                band_index += 1\n",
    "\n",
    "    print(f\"Merged file created at {merged_file}\")\n",
    "\n",
    "    # reprojected_file = file_base_path / f\"{image_id}_reprojected2.tif\"\n",
    "    # reproject_raster(merged_file, reprojected_file, 'EPSG:5070')\n",
    "\n",
    "    # for file in downloaded_files:\n",
    "    #     os.remove(file)\n",
    "    # os.remove(merged_file)"
   ]
  },
  {
   "cell_type": "code",
   "execution_count": 84,
   "id": "5e8789f2-1b21-4a48-946c-cddb9d367623",
   "metadata": {
    "ExecuteTime": {
     "end_time": "2024-07-30T15:08:18.580193Z",
     "start_time": "2024-07-30T15:08:18.574117Z"
    }
   },
   "outputs": [
    {
     "name": "stdout",
     "output_type": "stream",
     "text": [
      "{'driver': 'GTiff', 'dtype': 'uint16', 'nodata': 0.0, 'width': 10980, 'height': 10980, 'count': 7, 'crs': CRS.from_epsg(32610), 'transform': Affine(10.0, 0.0, 699960.0,\n",
      "       0.0, -10.0, 4000020.0)}\n",
      "7\n",
      "('B02', 'B03', 'B04', 'B08', 'visual-1', 'visual-2', 'visual-3')\n",
      "1\n",
      "2\n",
      "3\n",
      "4\n",
      "5\n",
      "6\n",
      "7\n"
     ]
    }
   ],
   "source": [
    "with rasterio.open(\"/home/dev/projects/geospatial-tools/data/sentinel-2/S2B_MSIL2A_20220615T183919_R070_T10SGE_20220618T191736_merged.tif\", 'r') as sentinel_image:\n",
    "    print(sentinel_image.meta)\n",
    "    num_of_bands = sentinel_image.count\n",
    "    print(num_of_bands)\n",
    "    print(sentinel_image.descriptions)\n",
    "    for band_index in range(1, num_of_bands+1):\n",
    "        print(band_index)\n",
    "    "
   ]
  },
  {
   "cell_type": "code",
   "execution_count": 85,
   "id": "abc510ee80746eef",
   "metadata": {},
   "outputs": [
    {
     "name": "stdout",
     "output_type": "stream",
     "text": [
      "{'driver': 'GTiff', 'dtype': 'uint16', 'nodata': 0.0, 'width': 10980, 'height': 10980, 'count': 1, 'crs': CRS.from_epsg(32610), 'transform': Affine(10.0, 0.0, 699960.0,\n",
      "       0.0, -10.0, 4000020.0)}\n",
      "1\n",
      "(None,)\n",
      "1\n"
     ]
    }
   ],
   "source": [
    "with rasterio.open(\"/home/dev/projects/geospatial-tools/data/sentinel-2/S2B_MSIL2A_20220615T183919_R070_T10SGE_20220618T191736_B02.tif\", 'r') as sentinel_image:\n",
    "    print(sentinel_image.meta)\n",
    "    num_of_bands = sentinel_image.count\n",
    "    print(num_of_bands)\n",
    "    print(sentinel_image.descriptions)\n",
    "    for band_index in range(1, num_of_bands+1):\n",
    "        print(band_index)"
   ]
  },
  {
   "cell_type": "code",
   "execution_count": null,
   "id": "26d23ed8-fb96-4a91-bef0-805aeaa8d559",
   "metadata": {},
   "outputs": [],
   "source": []
  }
 ],
 "metadata": {
  "kernelspec": {
   "display_name": "Python 3 (ipykernel)",
   "language": "python",
   "name": "python3"
  },
  "language_info": {
   "codemirror_mode": {
    "name": "ipython",
    "version": 3
   },
   "file_extension": ".py",
   "mimetype": "text/x-python",
   "name": "python",
   "nbconvert_exporter": "python",
   "pygments_lexer": "ipython3",
   "version": "3.11.9"
  }
 },
 "nbformat": 4,
 "nbformat_minor": 5
}

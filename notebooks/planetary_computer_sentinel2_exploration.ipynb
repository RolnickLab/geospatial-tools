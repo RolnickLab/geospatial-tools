{
 "cells": [
  {
   "cell_type": "code",
   "id": "initial_id",
   "metadata": {
    "ExecuteTime": {
     "end_time": "2024-06-03T15:30:52.208412Z",
     "start_time": "2024-06-03T15:30:52.206356Z"
    }
   },
   "source": [
    "import leafmap\n",
    "import geopandas as gpd\n",
    "from geospatial_tools import DATA_DIR"
   ],
   "outputs": [],
   "execution_count": 10
  },
  {
   "metadata": {},
   "cell_type": "markdown",
   "source": [
    "## Base data\n",
    "\n",
    "The USA polygon is base off 2018's `cb_2018_us_nation_5m` shapefile, taken from here: \n",
    "https://www.census.gov/geographies/mapping-files/time-series/geo/carto-boundary-file.html\n",
    "\n",
    "It was then processed using QGIS to keep only the contiguous states, without any islands.\n",
    "\n",
    "The Sentinel 2 grid was taken from the kml file found here: \n",
    "https://sentinels.copernicus.eu/web/sentinel/missions/sentinel-2/data-products\n",
    "\n",
    "It was then processed using QGIS to keep only the grid cells that overlap with the \n",
    "contiguous states, meaning the polygon layer which is described just above.\n",
    "\n",
    "Since our area of study is quite large, the `EPSG:5070` projection was chosen, as it\n",
    "covers the whole area, introduces minimal distortion while preserving area."
   ],
   "id": "f2c6690384600863"
  },
  {
   "cell_type": "code",
   "id": "fcb67d1eb21aafc1",
   "metadata": {
    "ExecuteTime": {
     "end_time": "2024-06-03T15:30:52.224153Z",
     "start_time": "2024-06-03T15:30:52.221951Z"
    }
   },
   "source": [
    "USA_POLYGON_FILE = DATA_DIR / \"usa/usa_polygon_5070.gpkg\"\n",
    "S2_USA_GRID_FILE = DATA_DIR / \"usa/s2_grid_usa_polygon_5070.gpkg\""
   ],
   "outputs": [],
   "execution_count": 11
  },
  {
   "cell_type": "code",
   "id": "1f3b83d1d0e55f60",
   "metadata": {
    "ExecuteTime": {
     "end_time": "2024-06-03T15:30:52.275413Z",
     "start_time": "2024-06-03T15:30:52.250272Z"
    }
   },
   "source": [
    "usa_polygon = gpd.read_file(USA_POLYGON_FILE)\n",
    "s2_grid = gpd.read_file(S2_USA_GRID_FILE)"
   ],
   "outputs": [],
   "execution_count": 12
  },
  {
   "metadata": {
    "ExecuteTime": {
     "end_time": "2024-06-03T15:30:52.337692Z",
     "start_time": "2024-06-03T15:30:52.276490Z"
    }
   },
   "cell_type": "code",
   "source": "usa_polygon",
   "id": "314e7c068786ad4d",
   "outputs": [
    {
     "data": {
      "text/plain": [
       "    AFFGEOID GEOID           NAME  \\\n",
       "0  0100000US    US  United States   \n",
       "\n",
       "                                            geometry  \n",
       "0  MULTIPOLYGON (((-2123555.702 3120381.564, -212...  "
      ],
      "text/html": [
       "<div>\n",
       "<style scoped>\n",
       "    .dataframe tbody tr th:only-of-type {\n",
       "        vertical-align: middle;\n",
       "    }\n",
       "\n",
       "    .dataframe tbody tr th {\n",
       "        vertical-align: top;\n",
       "    }\n",
       "\n",
       "    .dataframe thead th {\n",
       "        text-align: right;\n",
       "    }\n",
       "</style>\n",
       "<table border=\"1\" class=\"dataframe\">\n",
       "  <thead>\n",
       "    <tr style=\"text-align: right;\">\n",
       "      <th></th>\n",
       "      <th>AFFGEOID</th>\n",
       "      <th>GEOID</th>\n",
       "      <th>NAME</th>\n",
       "      <th>geometry</th>\n",
       "    </tr>\n",
       "  </thead>\n",
       "  <tbody>\n",
       "    <tr>\n",
       "      <th>0</th>\n",
       "      <td>0100000US</td>\n",
       "      <td>US</td>\n",
       "      <td>United States</td>\n",
       "      <td>MULTIPOLYGON (((-2123555.702 3120381.564, -212...</td>\n",
       "    </tr>\n",
       "  </tbody>\n",
       "</table>\n",
       "</div>"
      ]
     },
     "execution_count": 13,
     "metadata": {},
     "output_type": "execute_result"
    }
   ],
   "execution_count": 13
  },
  {
   "metadata": {
    "ExecuteTime": {
     "end_time": "2024-06-03T15:30:52.349421Z",
     "start_time": "2024-06-03T15:30:52.338755Z"
    }
   },
   "cell_type": "code",
   "source": "s2_grid",
   "id": "3e9461ed5b602319",
   "outputs": [
    {
     "data": {
      "text/plain": [
       "      name   folders                                        description  \\\n",
       "0    12TUP  Features  TILE PROPERTIES<br><table border=0 cellpadding...   \n",
       "1    12TYQ  Features  TILE PROPERTIES<br><table border=0 cellpadding...   \n",
       "2    12TYR  Features  TILE PROPERTIES<br><table border=0 cellpadding...   \n",
       "3    12TYN  Features  TILE PROPERTIES<br><table border=0 cellpadding...   \n",
       "4    12TYP  Features  TILE PROPERTIES<br><table border=0 cellpadding...   \n",
       "..     ...       ...                                                ...   \n",
       "977  12TTM  Features  TILE PROPERTIES<br><table border=0 cellpadding...   \n",
       "978  12TUK  Features  TILE PROPERTIES<br><table border=0 cellpadding...   \n",
       "979  12TUQ  Features  TILE PROPERTIES<br><table border=0 cellpadding...   \n",
       "980  12TUR  Features  TILE PROPERTIES<br><table border=0 cellpadding...   \n",
       "981  12TUN  Features  TILE PROPERTIES<br><table border=0 cellpadding...   \n",
       "\n",
       "     altitude alt_mode time_begin time_end time_when  \\\n",
       "0         0.0                                          \n",
       "1         0.0                                          \n",
       "2         0.0                                          \n",
       "3         0.0                                          \n",
       "4         0.0                                          \n",
       "..        ...      ...        ...      ...       ...   \n",
       "977       0.0                                          \n",
       "978       0.0                                          \n",
       "979       0.0                                          \n",
       "980       0.0                                          \n",
       "981       0.0                                          \n",
       "\n",
       "                                              geometry  \n",
       "0    MULTIPOLYGON Z (((-1386334.944 2487548.770 0.0...  \n",
       "1    MULTIPOLYGON Z (((-976300.478 2523767.452 0.00...  \n",
       "2    MULTIPOLYGON Z (((-960099.705 2622374.255 0.00...  \n",
       "3    MULTIPOLYGON Z (((-1008622.024 2325748.358 0.0...  \n",
       "4    MULTIPOLYGON Z (((-992478.385 2424861.340 0.00...  \n",
       "..                                                 ...  \n",
       "977  MULTIPOLYGON Z (((-1515431.586 2304192.826 0.0...  \n",
       "978  MULTIPOLYGON Z (((-1448525.813 2089886.667 0.0...  \n",
       "979  MULTIPOLYGON Z (((-1371006.917 2586590.133 0.0...  \n",
       "980  MULTIPOLYGON Z (((-1355793.563 2685354.080 0.0...  \n",
       "981  MULTIPOLYGON Z (((-1401759.785 2388321.400 0.0...  \n",
       "\n",
       "[982 rows x 9 columns]"
      ],
      "text/html": [
       "<div>\n",
       "<style scoped>\n",
       "    .dataframe tbody tr th:only-of-type {\n",
       "        vertical-align: middle;\n",
       "    }\n",
       "\n",
       "    .dataframe tbody tr th {\n",
       "        vertical-align: top;\n",
       "    }\n",
       "\n",
       "    .dataframe thead th {\n",
       "        text-align: right;\n",
       "    }\n",
       "</style>\n",
       "<table border=\"1\" class=\"dataframe\">\n",
       "  <thead>\n",
       "    <tr style=\"text-align: right;\">\n",
       "      <th></th>\n",
       "      <th>name</th>\n",
       "      <th>folders</th>\n",
       "      <th>description</th>\n",
       "      <th>altitude</th>\n",
       "      <th>alt_mode</th>\n",
       "      <th>time_begin</th>\n",
       "      <th>time_end</th>\n",
       "      <th>time_when</th>\n",
       "      <th>geometry</th>\n",
       "    </tr>\n",
       "  </thead>\n",
       "  <tbody>\n",
       "    <tr>\n",
       "      <th>0</th>\n",
       "      <td>12TUP</td>\n",
       "      <td>Features</td>\n",
       "      <td>TILE PROPERTIES&lt;br&gt;&lt;table border=0 cellpadding...</td>\n",
       "      <td>0.0</td>\n",
       "      <td></td>\n",
       "      <td></td>\n",
       "      <td></td>\n",
       "      <td></td>\n",
       "      <td>MULTIPOLYGON Z (((-1386334.944 2487548.770 0.0...</td>\n",
       "    </tr>\n",
       "    <tr>\n",
       "      <th>1</th>\n",
       "      <td>12TYQ</td>\n",
       "      <td>Features</td>\n",
       "      <td>TILE PROPERTIES&lt;br&gt;&lt;table border=0 cellpadding...</td>\n",
       "      <td>0.0</td>\n",
       "      <td></td>\n",
       "      <td></td>\n",
       "      <td></td>\n",
       "      <td></td>\n",
       "      <td>MULTIPOLYGON Z (((-976300.478 2523767.452 0.00...</td>\n",
       "    </tr>\n",
       "    <tr>\n",
       "      <th>2</th>\n",
       "      <td>12TYR</td>\n",
       "      <td>Features</td>\n",
       "      <td>TILE PROPERTIES&lt;br&gt;&lt;table border=0 cellpadding...</td>\n",
       "      <td>0.0</td>\n",
       "      <td></td>\n",
       "      <td></td>\n",
       "      <td></td>\n",
       "      <td></td>\n",
       "      <td>MULTIPOLYGON Z (((-960099.705 2622374.255 0.00...</td>\n",
       "    </tr>\n",
       "    <tr>\n",
       "      <th>3</th>\n",
       "      <td>12TYN</td>\n",
       "      <td>Features</td>\n",
       "      <td>TILE PROPERTIES&lt;br&gt;&lt;table border=0 cellpadding...</td>\n",
       "      <td>0.0</td>\n",
       "      <td></td>\n",
       "      <td></td>\n",
       "      <td></td>\n",
       "      <td></td>\n",
       "      <td>MULTIPOLYGON Z (((-1008622.024 2325748.358 0.0...</td>\n",
       "    </tr>\n",
       "    <tr>\n",
       "      <th>4</th>\n",
       "      <td>12TYP</td>\n",
       "      <td>Features</td>\n",
       "      <td>TILE PROPERTIES&lt;br&gt;&lt;table border=0 cellpadding...</td>\n",
       "      <td>0.0</td>\n",
       "      <td></td>\n",
       "      <td></td>\n",
       "      <td></td>\n",
       "      <td></td>\n",
       "      <td>MULTIPOLYGON Z (((-992478.385 2424861.340 0.00...</td>\n",
       "    </tr>\n",
       "    <tr>\n",
       "      <th>...</th>\n",
       "      <td>...</td>\n",
       "      <td>...</td>\n",
       "      <td>...</td>\n",
       "      <td>...</td>\n",
       "      <td>...</td>\n",
       "      <td>...</td>\n",
       "      <td>...</td>\n",
       "      <td>...</td>\n",
       "      <td>...</td>\n",
       "    </tr>\n",
       "    <tr>\n",
       "      <th>977</th>\n",
       "      <td>12TTM</td>\n",
       "      <td>Features</td>\n",
       "      <td>TILE PROPERTIES&lt;br&gt;&lt;table border=0 cellpadding...</td>\n",
       "      <td>0.0</td>\n",
       "      <td></td>\n",
       "      <td></td>\n",
       "      <td></td>\n",
       "      <td></td>\n",
       "      <td>MULTIPOLYGON Z (((-1515431.586 2304192.826 0.0...</td>\n",
       "    </tr>\n",
       "    <tr>\n",
       "      <th>978</th>\n",
       "      <td>12TUK</td>\n",
       "      <td>Features</td>\n",
       "      <td>TILE PROPERTIES&lt;br&gt;&lt;table border=0 cellpadding...</td>\n",
       "      <td>0.0</td>\n",
       "      <td></td>\n",
       "      <td></td>\n",
       "      <td></td>\n",
       "      <td></td>\n",
       "      <td>MULTIPOLYGON Z (((-1448525.813 2089886.667 0.0...</td>\n",
       "    </tr>\n",
       "    <tr>\n",
       "      <th>979</th>\n",
       "      <td>12TUQ</td>\n",
       "      <td>Features</td>\n",
       "      <td>TILE PROPERTIES&lt;br&gt;&lt;table border=0 cellpadding...</td>\n",
       "      <td>0.0</td>\n",
       "      <td></td>\n",
       "      <td></td>\n",
       "      <td></td>\n",
       "      <td></td>\n",
       "      <td>MULTIPOLYGON Z (((-1371006.917 2586590.133 0.0...</td>\n",
       "    </tr>\n",
       "    <tr>\n",
       "      <th>980</th>\n",
       "      <td>12TUR</td>\n",
       "      <td>Features</td>\n",
       "      <td>TILE PROPERTIES&lt;br&gt;&lt;table border=0 cellpadding...</td>\n",
       "      <td>0.0</td>\n",
       "      <td></td>\n",
       "      <td></td>\n",
       "      <td></td>\n",
       "      <td></td>\n",
       "      <td>MULTIPOLYGON Z (((-1355793.563 2685354.080 0.0...</td>\n",
       "    </tr>\n",
       "    <tr>\n",
       "      <th>981</th>\n",
       "      <td>12TUN</td>\n",
       "      <td>Features</td>\n",
       "      <td>TILE PROPERTIES&lt;br&gt;&lt;table border=0 cellpadding...</td>\n",
       "      <td>0.0</td>\n",
       "      <td></td>\n",
       "      <td></td>\n",
       "      <td></td>\n",
       "      <td></td>\n",
       "      <td>MULTIPOLYGON Z (((-1401759.785 2388321.400 0.0...</td>\n",
       "    </tr>\n",
       "  </tbody>\n",
       "</table>\n",
       "<p>982 rows × 9 columns</p>\n",
       "</div>"
      ]
     },
     "execution_count": 14,
     "metadata": {},
     "output_type": "execute_result"
    }
   ],
   "execution_count": 14
  },
  {
   "metadata": {
    "ExecuteTime": {
     "end_time": "2024-06-03T15:30:52.692503Z",
     "start_time": "2024-06-03T15:30:52.351111Z"
    }
   },
   "cell_type": "code",
   "source": [
    "m = leafmap.Map(center=[40, -98], zoom=4)\n",
    "\n",
    "# In blue, the USA polygon\n",
    "m.add_gdf(usa_polygon, layer='usa')\n",
    "# In red, the Sentinel 2 grid\n",
    "m.add_gdf(s2_grid, layer='s2_grid', style={\"color\": \"red\"})\n",
    "\n",
    "m"
   ],
   "id": "a06e0387c33e38d0",
   "outputs": [
    {
     "data": {
      "text/plain": [
       "Map(center=[40, -98], controls=(ZoomControl(options=['position', 'zoom_in_text', 'zoom_in_title', 'zoom_out_te…"
      ],
      "application/vnd.jupyter.widget-view+json": {
       "version_major": 2,
       "version_minor": 0,
       "model_id": "26a4d36862734c6a9a3ad44f101a2cec"
      }
     },
     "execution_count": 15,
     "metadata": {},
     "output_type": "execute_result"
    }
   ],
   "execution_count": 15
  },
  {
   "metadata": {},
   "cell_type": "markdown",
   "source": [
    "## Creating our inference grid\n",
    "\n",
    "From this, we want to create a grid of square polygons with which we will later on\n",
    "query the [Planetary Computer](https://planetarycomputer.microsoft.com/dataset/sentinel-2-l2a)\n",
    "Sentinel 2 dataset and clip the selected Sentinel 2 images."
   ],
   "id": "2af55ae4bef9b74b"
  },
  {
   "metadata": {},
   "cell_type": "code",
   "source": [
    "import time\n",
    "from geospatial_tools.vector import create_vector_grid_parallel\n"
   ],
   "id": "3e4e25697ae88500",
   "outputs": [],
   "execution_count": 16
  },
  {
   "metadata": {},
   "cell_type": "code",
   "source": [
    "grid_size = 5000\n",
    "bbox = usa_polygon.total_bounds"
   ],
   "id": "540e7e9465b0dd28",
   "outputs": [],
   "execution_count": 17
  },
  {
   "metadata": {
    "ExecuteTime": {
     "end_time": "2024-06-03T15:30:58.028928Z",
     "start_time": "2024-06-03T15:30:52.700618Z"
    }
   },
   "cell_type": "code",
   "source": [
    "start = time.time()\n",
    "print(\"Starting processing for [create_vector_grid_parallel]\")\n",
    "grid_parallel = create_vector_grid_parallel(bounding_box=bbox, grid_size=grid_size, crs=\"EPSG:5070\")\n",
    "stop = time.time()\n",
    "print(f\"Printing len(grid_parallel) to check if grid contains same amout of polygons : {len(grid_parallel)}\")\n",
    "print(f\"Time taken to create parallel grid: {stop - start}\")"
   ],
   "id": "d4546352d604eaf",
   "outputs": [
    {
     "name": "stdout",
     "output_type": "stream",
     "text": [
      "Starting processing for [create_vector_grid_parallel]\n",
      "[2024-06-03 11:30:52] INFO       [MainThread][geospatial_tools.vector] Creating grid coordinates for bounding box [[-2356113.74289801   310919.59963659  2258200.17691555  3165721.6501298 ]]\n",
      "[2024-06-03 11:30:52] INFO       [MainThread][geospatial_tools.vector] Creating flattened grid coordinates\n",
      "[2024-06-03 11:30:52] INFO       [MainThread][geospatial_tools.vector] Number of workers used: 16\n",
      "[2024-06-03 11:30:52] INFO       [MainThread][geospatial_tools.vector] Allocating polygon array for [527033] polygons\n",
      "[2024-06-03 11:30:52] INFO       [MainThread][geospatial_tools.vector] Creating polygons from chunk\n",
      "Printing len(grid_parallel) to check if grid contains same amout of polygons : 527033\n",
      "Time taken to create parallel grid: 5.32481837272644\n"
     ]
    }
   ],
   "execution_count": 18
  },
  {
   "metadata": {
    "ExecuteTime": {
     "end_time": "2024-06-03T15:30:58.031666Z",
     "start_time": "2024-06-03T15:30:58.029990Z"
    }
   },
   "cell_type": "code",
   "source": "",
   "id": "cf10fac1fa61553a",
   "outputs": [],
   "execution_count": 18
  }
 ],
 "metadata": {
  "kernelspec": {
   "display_name": "Python 3 (ipykernel)",
   "language": "python",
   "name": "python3"
  },
  "language_info": {
   "codemirror_mode": {
    "name": "ipython",
    "version": 3
   },
   "file_extension": ".py",
   "mimetype": "text/x-python",
   "name": "python",
   "nbconvert_exporter": "python",
   "pygments_lexer": "ipython3",
   "version": "3.10.14"
  }
 },
 "nbformat": 4,
 "nbformat_minor": 5
}

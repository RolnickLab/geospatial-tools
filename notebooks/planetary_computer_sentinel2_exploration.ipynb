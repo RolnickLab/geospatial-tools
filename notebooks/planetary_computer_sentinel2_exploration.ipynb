{
 "cells": [
  {
   "cell_type": "code",
   "execution_count": 2,
   "id": "initial_id",
   "metadata": {
    "ExecuteTime": {
     "end_time": "2024-06-03T20:00:28.721281Z",
     "start_time": "2024-06-03T20:00:28.719061Z"
    }
   },
   "outputs": [],
   "source": [
    "import leafmap\n",
    "import geopandas as gpd\n",
    "from geospatial_tools import DATA_DIR"
   ]
  },
  {
   "cell_type": "markdown",
   "id": "f2c6690384600863",
   "metadata": {},
   "source": [
    "## Base data\n",
    "\n",
    "The USA polygon is base off 2018's `cb_2018_us_nation_5m` shapefile, taken from here: \n",
    "https://www.census.gov/geographies/mapping-files/time-series/geo/carto-boundary-file.html\n",
    "\n",
    "It was then processed using QGIS to keep only the contiguous states, without any islands.\n",
    "\n",
    "The Sentinel 2 grid was taken from the kml file found here: \n",
    "https://sentinels.copernicus.eu/web/sentinel/missions/sentinel-2/data-products\n",
    "\n",
    "It was then processed using QGIS to keep only the grid cells that overlap with the \n",
    "contiguous states, meaning the polygon layer which is described just above.\n",
    "\n",
    "Since our area of study is quite large, the `EPSG:5070` projection was chosen, as it\n",
    "covers the whole area, introduces minimal distortion while preserving area."
   ]
  },
  {
   "cell_type": "code",
   "execution_count": 3,
   "id": "fcb67d1eb21aafc1",
   "metadata": {
    "ExecuteTime": {
     "end_time": "2024-06-03T20:00:28.768511Z",
     "start_time": "2024-06-03T20:00:28.766415Z"
    }
   },
   "outputs": [],
   "source": [
    "USA_POLYGON_FILE = DATA_DIR / \"usa/usa_polygon_5070.gpkg\"\n",
    "S2_USA_GRID_FILE = DATA_DIR / \"usa/s2_grid_usa_polygon_5070.gpkg\""
   ]
  },
  {
   "cell_type": "code",
   "execution_count": 27,
   "id": "1f3b83d1d0e55f60",
   "metadata": {
    "ExecuteTime": {
     "end_time": "2024-06-03T20:00:28.804395Z",
     "start_time": "2024-06-03T20:00:28.773969Z"
    }
   },
   "outputs": [],
   "source": [
    "usa_polygon = gpd.read_file(USA_POLYGON_FILE)\n",
    "s2_grid = gpd.read_file(S2_USA_GRID_FILE)"
   ]
  },
  {
   "cell_type": "code",
   "execution_count": 28,
   "id": "314e7c068786ad4d",
   "metadata": {
    "ExecuteTime": {
     "end_time": "2024-06-03T20:00:28.866078Z",
     "start_time": "2024-06-03T20:00:28.805666Z"
    }
   },
   "outputs": [
    {
     "data": {
      "text/html": [
       "<div>\n",
       "<style scoped>\n",
       "    .dataframe tbody tr th:only-of-type {\n",
       "        vertical-align: middle;\n",
       "    }\n",
       "\n",
       "    .dataframe tbody tr th {\n",
       "        vertical-align: top;\n",
       "    }\n",
       "\n",
       "    .dataframe thead th {\n",
       "        text-align: right;\n",
       "    }\n",
       "</style>\n",
       "<table border=\"1\" class=\"dataframe\">\n",
       "  <thead>\n",
       "    <tr style=\"text-align: right;\">\n",
       "      <th></th>\n",
       "      <th>AFFGEOID</th>\n",
       "      <th>GEOID</th>\n",
       "      <th>NAME</th>\n",
       "      <th>geometry</th>\n",
       "    </tr>\n",
       "  </thead>\n",
       "  <tbody>\n",
       "    <tr>\n",
       "      <th>0</th>\n",
       "      <td>0100000US</td>\n",
       "      <td>US</td>\n",
       "      <td>United States</td>\n",
       "      <td>MULTIPOLYGON (((-2123555.702 3120381.564, -212...</td>\n",
       "    </tr>\n",
       "  </tbody>\n",
       "</table>\n",
       "</div>"
      ],
      "text/plain": [
       "    AFFGEOID GEOID           NAME  \\\n",
       "0  0100000US    US  United States   \n",
       "\n",
       "                                            geometry  \n",
       "0  MULTIPOLYGON (((-2123555.702 3120381.564, -212...  "
      ]
     },
     "execution_count": 28,
     "metadata": {},
     "output_type": "execute_result"
    }
   ],
   "source": [
    "usa_polygon"
   ]
  },
  {
   "cell_type": "code",
   "execution_count": 29,
   "id": "3e9461ed5b602319",
   "metadata": {
    "ExecuteTime": {
     "end_time": "2024-06-03T20:00:28.876620Z",
     "start_time": "2024-06-03T20:00:28.867078Z"
    }
   },
   "outputs": [
    {
     "data": {
      "text/html": [
       "<div>\n",
       "<style scoped>\n",
       "    .dataframe tbody tr th:only-of-type {\n",
       "        vertical-align: middle;\n",
       "    }\n",
       "\n",
       "    .dataframe tbody tr th {\n",
       "        vertical-align: top;\n",
       "    }\n",
       "\n",
       "    .dataframe thead th {\n",
       "        text-align: right;\n",
       "    }\n",
       "</style>\n",
       "<table border=\"1\" class=\"dataframe\">\n",
       "  <thead>\n",
       "    <tr style=\"text-align: right;\">\n",
       "      <th></th>\n",
       "      <th>name</th>\n",
       "      <th>folders</th>\n",
       "      <th>description</th>\n",
       "      <th>altitude</th>\n",
       "      <th>alt_mode</th>\n",
       "      <th>time_begin</th>\n",
       "      <th>time_end</th>\n",
       "      <th>time_when</th>\n",
       "      <th>geometry</th>\n",
       "    </tr>\n",
       "  </thead>\n",
       "  <tbody>\n",
       "    <tr>\n",
       "      <th>0</th>\n",
       "      <td>12TUP</td>\n",
       "      <td>Features</td>\n",
       "      <td>TILE PROPERTIES&lt;br&gt;&lt;table border=0 cellpadding...</td>\n",
       "      <td>0.0</td>\n",
       "      <td></td>\n",
       "      <td></td>\n",
       "      <td></td>\n",
       "      <td></td>\n",
       "      <td>MULTIPOLYGON Z (((-1386334.944 2487548.770 0.0...</td>\n",
       "    </tr>\n",
       "    <tr>\n",
       "      <th>1</th>\n",
       "      <td>12TYQ</td>\n",
       "      <td>Features</td>\n",
       "      <td>TILE PROPERTIES&lt;br&gt;&lt;table border=0 cellpadding...</td>\n",
       "      <td>0.0</td>\n",
       "      <td></td>\n",
       "      <td></td>\n",
       "      <td></td>\n",
       "      <td></td>\n",
       "      <td>MULTIPOLYGON Z (((-976300.478 2523767.452 0.00...</td>\n",
       "    </tr>\n",
       "    <tr>\n",
       "      <th>2</th>\n",
       "      <td>12TYR</td>\n",
       "      <td>Features</td>\n",
       "      <td>TILE PROPERTIES&lt;br&gt;&lt;table border=0 cellpadding...</td>\n",
       "      <td>0.0</td>\n",
       "      <td></td>\n",
       "      <td></td>\n",
       "      <td></td>\n",
       "      <td></td>\n",
       "      <td>MULTIPOLYGON Z (((-960099.705 2622374.255 0.00...</td>\n",
       "    </tr>\n",
       "    <tr>\n",
       "      <th>3</th>\n",
       "      <td>12TYN</td>\n",
       "      <td>Features</td>\n",
       "      <td>TILE PROPERTIES&lt;br&gt;&lt;table border=0 cellpadding...</td>\n",
       "      <td>0.0</td>\n",
       "      <td></td>\n",
       "      <td></td>\n",
       "      <td></td>\n",
       "      <td></td>\n",
       "      <td>MULTIPOLYGON Z (((-1008622.024 2325748.358 0.0...</td>\n",
       "    </tr>\n",
       "    <tr>\n",
       "      <th>4</th>\n",
       "      <td>12TYP</td>\n",
       "      <td>Features</td>\n",
       "      <td>TILE PROPERTIES&lt;br&gt;&lt;table border=0 cellpadding...</td>\n",
       "      <td>0.0</td>\n",
       "      <td></td>\n",
       "      <td></td>\n",
       "      <td></td>\n",
       "      <td></td>\n",
       "      <td>MULTIPOLYGON Z (((-992478.385 2424861.340 0.00...</td>\n",
       "    </tr>\n",
       "    <tr>\n",
       "      <th>...</th>\n",
       "      <td>...</td>\n",
       "      <td>...</td>\n",
       "      <td>...</td>\n",
       "      <td>...</td>\n",
       "      <td>...</td>\n",
       "      <td>...</td>\n",
       "      <td>...</td>\n",
       "      <td>...</td>\n",
       "      <td>...</td>\n",
       "    </tr>\n",
       "    <tr>\n",
       "      <th>977</th>\n",
       "      <td>12TTM</td>\n",
       "      <td>Features</td>\n",
       "      <td>TILE PROPERTIES&lt;br&gt;&lt;table border=0 cellpadding...</td>\n",
       "      <td>0.0</td>\n",
       "      <td></td>\n",
       "      <td></td>\n",
       "      <td></td>\n",
       "      <td></td>\n",
       "      <td>MULTIPOLYGON Z (((-1515431.586 2304192.826 0.0...</td>\n",
       "    </tr>\n",
       "    <tr>\n",
       "      <th>978</th>\n",
       "      <td>12TUK</td>\n",
       "      <td>Features</td>\n",
       "      <td>TILE PROPERTIES&lt;br&gt;&lt;table border=0 cellpadding...</td>\n",
       "      <td>0.0</td>\n",
       "      <td></td>\n",
       "      <td></td>\n",
       "      <td></td>\n",
       "      <td></td>\n",
       "      <td>MULTIPOLYGON Z (((-1448525.813 2089886.667 0.0...</td>\n",
       "    </tr>\n",
       "    <tr>\n",
       "      <th>979</th>\n",
       "      <td>12TUQ</td>\n",
       "      <td>Features</td>\n",
       "      <td>TILE PROPERTIES&lt;br&gt;&lt;table border=0 cellpadding...</td>\n",
       "      <td>0.0</td>\n",
       "      <td></td>\n",
       "      <td></td>\n",
       "      <td></td>\n",
       "      <td></td>\n",
       "      <td>MULTIPOLYGON Z (((-1371006.917 2586590.133 0.0...</td>\n",
       "    </tr>\n",
       "    <tr>\n",
       "      <th>980</th>\n",
       "      <td>12TUR</td>\n",
       "      <td>Features</td>\n",
       "      <td>TILE PROPERTIES&lt;br&gt;&lt;table border=0 cellpadding...</td>\n",
       "      <td>0.0</td>\n",
       "      <td></td>\n",
       "      <td></td>\n",
       "      <td></td>\n",
       "      <td></td>\n",
       "      <td>MULTIPOLYGON Z (((-1355793.563 2685354.080 0.0...</td>\n",
       "    </tr>\n",
       "    <tr>\n",
       "      <th>981</th>\n",
       "      <td>12TUN</td>\n",
       "      <td>Features</td>\n",
       "      <td>TILE PROPERTIES&lt;br&gt;&lt;table border=0 cellpadding...</td>\n",
       "      <td>0.0</td>\n",
       "      <td></td>\n",
       "      <td></td>\n",
       "      <td></td>\n",
       "      <td></td>\n",
       "      <td>MULTIPOLYGON Z (((-1401759.785 2388321.400 0.0...</td>\n",
       "    </tr>\n",
       "  </tbody>\n",
       "</table>\n",
       "<p>982 rows × 9 columns</p>\n",
       "</div>"
      ],
      "text/plain": [
       "      name   folders                                        description  \\\n",
       "0    12TUP  Features  TILE PROPERTIES<br><table border=0 cellpadding...   \n",
       "1    12TYQ  Features  TILE PROPERTIES<br><table border=0 cellpadding...   \n",
       "2    12TYR  Features  TILE PROPERTIES<br><table border=0 cellpadding...   \n",
       "3    12TYN  Features  TILE PROPERTIES<br><table border=0 cellpadding...   \n",
       "4    12TYP  Features  TILE PROPERTIES<br><table border=0 cellpadding...   \n",
       "..     ...       ...                                                ...   \n",
       "977  12TTM  Features  TILE PROPERTIES<br><table border=0 cellpadding...   \n",
       "978  12TUK  Features  TILE PROPERTIES<br><table border=0 cellpadding...   \n",
       "979  12TUQ  Features  TILE PROPERTIES<br><table border=0 cellpadding...   \n",
       "980  12TUR  Features  TILE PROPERTIES<br><table border=0 cellpadding...   \n",
       "981  12TUN  Features  TILE PROPERTIES<br><table border=0 cellpadding...   \n",
       "\n",
       "     altitude alt_mode time_begin time_end time_when  \\\n",
       "0         0.0                                          \n",
       "1         0.0                                          \n",
       "2         0.0                                          \n",
       "3         0.0                                          \n",
       "4         0.0                                          \n",
       "..        ...      ...        ...      ...       ...   \n",
       "977       0.0                                          \n",
       "978       0.0                                          \n",
       "979       0.0                                          \n",
       "980       0.0                                          \n",
       "981       0.0                                          \n",
       "\n",
       "                                              geometry  \n",
       "0    MULTIPOLYGON Z (((-1386334.944 2487548.770 0.0...  \n",
       "1    MULTIPOLYGON Z (((-976300.478 2523767.452 0.00...  \n",
       "2    MULTIPOLYGON Z (((-960099.705 2622374.255 0.00...  \n",
       "3    MULTIPOLYGON Z (((-1008622.024 2325748.358 0.0...  \n",
       "4    MULTIPOLYGON Z (((-992478.385 2424861.340 0.00...  \n",
       "..                                                 ...  \n",
       "977  MULTIPOLYGON Z (((-1515431.586 2304192.826 0.0...  \n",
       "978  MULTIPOLYGON Z (((-1448525.813 2089886.667 0.0...  \n",
       "979  MULTIPOLYGON Z (((-1371006.917 2586590.133 0.0...  \n",
       "980  MULTIPOLYGON Z (((-1355793.563 2685354.080 0.0...  \n",
       "981  MULTIPOLYGON Z (((-1401759.785 2388321.400 0.0...  \n",
       "\n",
       "[982 rows x 9 columns]"
      ]
     },
     "execution_count": 29,
     "metadata": {},
     "output_type": "execute_result"
    }
   ],
   "source": [
    "s2_grid"
   ]
  },
  {
   "cell_type": "code",
   "execution_count": 30,
   "id": "a06e0387c33e38d0",
   "metadata": {
    "ExecuteTime": {
     "end_time": "2024-06-03T20:00:29.193020Z",
     "start_time": "2024-06-03T20:00:28.877855Z"
    }
   },
   "outputs": [
    {
     "data": {
      "application/vnd.jupyter.widget-view+json": {
       "model_id": "e6fa12d89612421aa42c249ac8bdebb1",
       "version_major": 2,
       "version_minor": 0
      },
      "text/plain": [
       "Map(center=[40, -98], controls=(ZoomControl(options=['position', 'zoom_in_text', 'zoom_in_title', 'zoom_out_te…"
      ]
     },
     "execution_count": 30,
     "metadata": {},
     "output_type": "execute_result"
    }
   ],
   "source": [
    "m = leafmap.Map(center=[40, -98], zoom=4)\n",
    "\n",
    "# In blue, the USA polygon\n",
    "m.add_gdf(usa_polygon, layer='usa')\n",
    "# In red, the Sentinel 2 grid\n",
    "m.add_gdf(s2_grid, layer='s2_grid', style={\"color\": \"red\"})\n",
    "\n",
    "m"
   ]
  },
  {
   "cell_type": "markdown",
   "id": "2af55ae4bef9b74b",
   "metadata": {},
   "source": [
    "## Creating our inference grid\n",
    "\n",
    "From this, we want to create a grid of square polygons with which we will later on\n",
    "query the [Planetary Computer](https://planetarycomputer.microsoft.com/dataset/sentinel-2-l2a)\n",
    "Sentinel 2 dataset and clip the selected Sentinel 2 images."
   ]
  },
  {
   "cell_type": "code",
   "execution_count": 4,
   "id": "3e4e25697ae88500",
   "metadata": {},
   "outputs": [],
   "source": [
    "import time\n",
    "from geospatial_tools.vector import create_vector_grid_parallel, to_geopackage, select_polygons_by_location\n",
    "import pandas as pd\n",
    "import numpy as np\n",
    "from concurrent.futures import ProcessPoolExecutor"
   ]
  },
  {
   "cell_type": "code",
   "execution_count": 32,
   "id": "540e7e9465b0dd28",
   "metadata": {},
   "outputs": [],
   "source": [
    "grid_size = 5000\n",
    "bbox = usa_polygon.total_bounds"
   ]
  },
  {
   "cell_type": "code",
   "execution_count": null,
   "id": "d4546352d604eaf",
   "metadata": {
    "ExecuteTime": {
     "start_time": "2024-06-03T20:00:29.200804Z"
    },
    "jupyter": {
     "is_executing": true
    }
   },
   "outputs": [
    {
     "name": "stdout",
     "output_type": "stream",
     "text": [
      "Starting processing for [create_vector_grid_parallel]\n",
      "[2024-06-03 16:00:29] INFO       [MainThread][geospatial_tools.vector] Creating grid coordinates for bounding box [[-2356113.74289801   310919.59963659  2258200.17691555  3165721.6501298 ]]\n",
      "[2024-06-03 16:00:29] INFO       [MainThread][geospatial_tools.vector] Creating flattened grid coordinates\n",
      "[2024-06-03 16:00:29] INFO       [MainThread][geospatial_tools.vector] Number of workers used: 16\n",
      "[2024-06-03 16:00:29] INFO       [MainThread][geospatial_tools.vector] Allocating polygon array for [13175825] polygons\n",
      "[2024-06-03 16:00:29] INFO       [MainThread][geospatial_tools.vector] Creating polygons from chunk\n"
     ]
    }
   ],
   "source": [
    "start = time.time()\n",
    "print(\"Starting processing for [create_vector_grid_parallel]\")\n",
    "grid_parallel = create_vector_grid_parallel(bounding_box=bbox, grid_size=grid_size, crs=\"EPSG:5070\")\n",
    "stop = time.time()\n",
    "print(f\"Printing len(grid_parallel) to check if grid contains same amount of polygons : {len(grid_parallel)}\")\n",
    "print(f\"Time taken to create parallel grid: {stop - start}\")\n",
    "to_geopackage(gdf=grid_parallel, filename=\"polygon_grid.gpkg\")"
   ]
  },
  {
   "cell_type": "markdown",
   "id": "1b2e97160276c1d0",
   "metadata": {},
   "source": [
    "### Selecting the useful polygons\n",
    "\n",
    "Now, since our grid was created using the extent of our input polygon (continental USA), we need to filter out the polygons that do not intersect with it.\n",
    "\n",
    "Doing this in Python is not the most efficient way to do things, but since it's a step that shouldn't be done over and over, it's not that critical.\n",
    "\n",
    "If ever you need to do this step in an efficient way because the data is just too big or too complex, it would be better off going through QGIS, PyGQIS, GDAL or \n",
    "some other more efficient way to do this operation. "
   ]
  },
  {
   "cell_type": "code",
   "execution_count": null,
   "id": "7fb328be7527d9cb",
   "metadata": {
    "jupyter": {
     "is_executing": true
    }
   },
   "outputs": [],
   "source": [
    "start = time.time()\n",
    "print(\"Starting intersect selection using for loop\")\n",
    "intersecting_polygons = select_polygons_by_location(grid_parallel, usa_polygon)\n",
    "stop = time.time()\n",
    "print(f\"Time taken to intersect using for loop: {stop - start}\")\n",
    "# Optionally, save to a new file"
   ]
  },
  {
   "cell_type": "markdown",
   "id": "9608c485743c9f81",
   "metadata": {},
   "source": [
    "### Visualizing the selected polygons\n",
    "\n",
    "This will take more or less time, depending on the number on polygons. "
   ]
  },
  {
   "cell_type": "code",
   "execution_count": null,
   "id": "cb4ae8587439f3ff",
   "metadata": {
    "jupyter": {
     "is_executing": true
    }
   },
   "outputs": [],
   "source": [
    "m.add_gdf(intersecting_polygons, layer='intersecting_polygons', style={\"color\": \"blue\"})\n",
    "m"
   ]
  },
  {
   "cell_type": "code",
   "execution_count": 1,
   "id": "89c0d198-d672-4815-904b-7a7c4be6cb03",
   "metadata": {},
   "outputs": [
    {
     "name": "stdout",
     "output_type": "stream",
     "text": [
      "planetary-computer        1.0.0\n",
      "Note: you may need to restart the kernel to use updated packages.\n"
     ]
    }
   ],
   "source": [
    "%pip list | grep planetary"
   ]
  },
  {
   "cell_type": "markdown",
   "id": "3f87c15e-c755-4787-86e7-dda58fc002cf",
   "metadata": {
    "jupyter": {
     "is_executing": true
    }
   },
   "source": [
    "## Exploring S2 STAC catalog tools"
   ]
  },
  {
   "cell_type": "code",
   "execution_count": 5,
   "id": "0061399b-6338-40c3-b19f-3936bed606c5",
   "metadata": {},
   "outputs": [],
   "source": [
    "from pystac_client import Client\n",
    "import planetary_computer\n",
    "from pathlib import Path\n",
    "import requests\n",
    "import datetime\n",
    "from geospatial_tools import DATA_DIR\n",
    "import rasterio\n",
    "from rasterio.warp import calculate_default_transform, reproject, Resampling\n",
    "import os"
   ]
  },
  {
   "cell_type": "code",
   "execution_count": null,
   "id": "9bb260e9-ba32-4165-a2da-11e0c91ecaf9",
   "metadata": {},
   "outputs": [],
   "source": []
  },
  {
   "cell_type": "code",
   "execution_count": 6,
   "id": "e54bfe14-6b18-48d9-93ea-7adf2fedfaec",
   "metadata": {},
   "outputs": [
    {
     "name": "stdout",
     "output_type": "stream",
     "text": [
      "['2021-06-01T00:00:00Z/2021-08-01T00:00:00Z', '2022-06-01T00:00:00Z/2022-08-01T00:00:00Z', '2023-06-01T00:00:00Z/2023-08-01T00:00:00Z']\n",
      "2021-06-01T00:00:00Z/2021-08-01T00:00:00Z\n",
      "2022-06-01T00:00:00Z/2022-08-01T00:00:00Z\n",
      "2023-06-01T00:00:00Z/2023-08-01T00:00:00Z\n",
      "S2B_MSIL2A_20210720T183919_R070_T10SGE_20210721T052505 2021-07-20 18:39:19.024000+00:00 0.202279\n",
      "S2B_MSIL2A_20210713T184919_R113_T10SGE_20210714T084909 2021-07-13 18:49:19.024000+00:00 0.002955\n",
      "S2B_MSIL2A_20210710T183919_R070_T10SGE_20210711T034836 2021-07-10 18:39:19.024000+00:00 0.237209\n",
      "S2B_MSIL2A_20210630T183919_R070_T10SGE_20210701T140951 2021-06-30 18:39:19.024000+00:00 0.228867\n",
      "S2B_MSIL2A_20210623T184919_R113_T10SGE_20210626T013807 2021-06-23 18:49:19.024000+00:00 0.008795\n",
      "S2B_MSIL2A_20210620T183919_R070_T10SGE_20210621T095614 2021-06-20 18:39:19.024000+00:00 0.564451\n",
      "S2B_MSIL2A_20210613T184919_R113_T10SGE_20210615T052420 2021-06-13 18:49:19.024000+00:00 0.017032\n",
      "S2B_MSIL2A_20210603T184919_R113_T10SGE_20210604T100449 2021-06-03 18:49:19.024000+00:00 0.006533\n",
      "S2A_MSIL2A_20210715T183921_R070_T10SGE_20210716T124801 2021-07-15 18:39:21.024000+00:00 0.331475\n",
      "S2A_MSIL2A_20210715T183921_R070_T10SGD_20210716T135055 2021-07-15 18:39:21.024000+00:00 0.005592\n",
      "S2A_MSIL2A_20210628T184921_R113_T10SGE_20210630T055810 2021-06-28 18:49:21.024000+00:00 0.035919\n",
      "S2A_MSIL2A_20210625T183921_R070_T10SGE_20210626T090910 2021-06-25 18:39:21.024000+00:00 0.391751\n",
      "S2A_MSIL2A_20210618T184921_R113_T10SGE_20210619T062009 2021-06-18 18:49:21.024000+00:00 0.025955\n",
      "S2A_MSIL2A_20210615T183921_R070_T10SGE_20210616T043642 2021-06-15 18:39:21.024000+00:00 0.200948\n",
      "S2A_MSIL2A_20210615T183921_R070_T10SGD_20210616T061016 2021-06-15 18:39:21.024000+00:00 0.467112\n",
      "S2A_MSIL2A_20210608T184921_R113_T10SGE_20210612T173637 2021-06-08 18:49:21.024000+00:00 0.080667\n",
      "S2B_MSIL2A_20210730T183919_R070_T10SGE_20210731T054306 2021-07-30 18:39:19.024000+00:00 1.405692\n",
      "S2B_MSIL2A_20210610T183919_R070_T10SGD_20210613T225406 2021-06-10 18:39:19.024000+00:00 1.569149\n",
      "S2A_MSIL2A_20210708T184921_R113_T10SGE_20210709T143706 2021-07-08 18:49:21.024000+00:00 1.043991\n",
      "S2A_MSIL2A_20210605T183921_R070_T10SGE_20210606T065728 2021-06-05 18:39:21.024000+00:00 1.76447\n",
      "S2B_MSIL2A_20210723T184919_R113_T10SGE_20210724T061919 2021-07-23 18:49:19.024000+00:00 2.770007\n",
      "S2B_MSIL2A_20210610T183919_R070_T10SGE_20210613T213612 2021-06-10 18:39:19.024000+00:00 2.028703\n",
      "S2A_MSIL2A_20210705T183921_R070_T10SGE_20210710T034919 2021-07-05 18:39:21.024000+00:00 2.088059\n",
      "S2B_MSIL2A_20220728T184919_R113_T10SGE_20220730T002559 2022-07-28 18:49:19.024000+00:00 0.007838\n",
      "S2B_MSIL2A_20220725T183929_R070_T10SGE_20220727T110815 2022-07-25 18:39:29.025000+00:00 0.098619\n",
      "S2B_MSIL2A_20220715T183919_R070_T10SGE_20220716T063653 2022-07-15 18:39:19.024000+00:00 0.003218\n",
      "S2B_MSIL2A_20220628T184919_R113_T10SGE_20220629T121823 2022-06-28 18:49:19.024000+00:00 0.03108\n",
      "S2B_MSIL2A_20220625T183929_R070_T10SGE_20220627T221059 2022-06-25 18:39:29.024000+00:00 0.253642\n",
      "S2B_MSIL2A_20220618T184919_R113_T10SGE_20220620T180312 2022-06-18 18:49:19.024000+00:00 0.377162\n",
      "S2B_MSIL2A_20220615T183919_R070_T10SGE_20220618T191736 2022-06-15 18:39:19.024000+00:00 0.018955\n",
      "S2B_MSIL2A_20220615T183919_R070_T10SGD_20220618T184146 2022-06-15 18:39:19.024000+00:00 0.381495\n",
      "S2A_MSIL2A_20220723T184931_R113_T10SGE_20220725T180858 2022-07-23 18:49:31.024000+00:00 0.0\n",
      "S2A_MSIL2A_20220720T183931_R070_T10SGE_20220721T084218 2022-07-20 18:39:31.024000+00:00 0.352922\n",
      "S2A_MSIL2A_20220713T184931_R113_T10SGE_20220714T172718 2022-07-13 18:49:31.024000+00:00 0.0\n",
      "S2A_MSIL2A_20220710T183931_R070_T10SGE_20220712T175915 2022-07-10 18:39:31.024000+00:00 0.040109\n",
      "S2A_MSIL2A_20220703T184931_R113_T10SGE_20220704T065113 2022-07-03 18:49:31.024000+00:00 0.053954\n",
      "S2A_MSIL2A_20220623T184931_R113_T10SGE_20220624T084811 2022-06-23 18:49:31.024000+00:00 0.261997\n",
      "S2A_MSIL2A_20220620T183931_R070_T10SGE_20220621T203620 2022-06-20 18:39:31.024000+00:00 0.016188\n",
      "S2A_MSIL2A_20220620T183931_R070_T10SGD_20220621T205644 2022-06-20 18:39:31.024000+00:00 0.171137\n",
      "S2A_MSIL2A_20220613T184931_R113_T10SGE_20220614T145426 2022-06-13 18:49:31.024000+00:00 0.0\n",
      "S2A_MSIL2A_20220610T183931_R070_T10SGE_20220611T193940 2022-06-10 18:39:31.024000+00:00 0.013265\n",
      "S2B_MSIL2A_20220608T184919_R113_T10SGE_20220609T121043 2022-06-08 18:49:19.024000+00:00 1.090455\n",
      "S2B_MSIL2A_20220605T183919_R070_T10SGD_20220606T043818 2022-06-05 18:39:19.024000+00:00 1.412447\n",
      "S2B_MSIL2A_20220708T184919_R113_T10SGE_20220709T094022 2022-07-08 18:49:19.024000+00:00 2.990958\n",
      "S2B_MSIL2A_20220705T183929_R070_T10SGE_20220707T094212 2022-07-05 18:39:29.024000+00:00 2.859929\n",
      "S2B_MSIL2A_20220605T183919_R070_T10SGE_20220606T044414 2022-06-05 18:39:19.024000+00:00 2.314837\n",
      "S2B_MSIL2A_20230720T183929_R070_T10SGE_20230721T000855 2023-07-20 18:39:29.024000+00:00 0.261157\n",
      "S2B_MSIL2A_20230713T184939_R113_T10SGE_20230714T030836 2023-07-13 18:49:39.024000+00:00 0.0\n",
      "S2B_MSIL2A_20230710T183929_R070_T10SGE_20230711T022107 2023-07-10 18:39:29.024000+00:00 0.01927\n",
      "S2B_MSIL2A_20230703T184919_R113_T10SGE_20230704T004131 2023-07-03 18:49:19.024000+00:00 0.0\n",
      "S2B_MSIL2A_20230630T183929_R070_T10SGE_20230701T025416 2023-06-30 18:39:29.024000+00:00 0.243901\n",
      "S2B_MSIL2A_20230623T184919_R113_T10SGE_20230624T024649 2023-06-23 18:49:19.024000+00:00 0.006204\n",
      "S2B_MSIL2A_20230603T184919_R113_T10SGE_20230604T005311 2023-06-03 18:49:19.024000+00:00 0.0\n",
      "S2A_MSIL2A_20230728T184921_R113_T10SGE_20230729T012139 2023-07-28 18:49:21.024000+00:00 0.0\n",
      "S2A_MSIL2A_20230715T183921_R070_T10SGE_20230716T044322 2023-07-15 18:39:21.024000+00:00 0.138347\n",
      "S2A_MSIL2A_20230708T184921_R113_T10SGE_20230709T012929 2023-07-08 18:49:21.024000+00:00 0.0\n",
      "S2A_MSIL2A_20230705T183921_R070_T10SGE_20230706T020248 2023-07-05 18:39:21.024000+00:00 0.143234\n",
      "S2A_MSIL2A_20230628T184921_R113_T10SGE_20230629T091859 2023-06-28 18:49:21.024000+00:00 0.0\n",
      "S2A_MSIL2A_20230618T184921_R113_T10SGE_20230619T033937 2023-06-18 18:49:21.024000+00:00 0.000154\n",
      "S2A_MSIL2A_20230608T184921_R113_T10SGE_20230609T013017 2023-06-08 18:49:21.024000+00:00 0.375495\n",
      "S2B_MSIL2A_20230620T183919_R070_T10SGD_20230621T014158 2023-06-20 18:39:19.024000+00:00 2.108128\n",
      "S2B_MSIL2A_20230620T183919_R070_T10SGE_20230621T014204 2023-06-20 18:39:19.024000+00:00 3.260381\n"
     ]
    }
   ],
   "source": [
    "catalog = Client.open(\"https://planetarycomputer.microsoft.com/api/stac/v1\", modifier=planetary_computer.sign_inplace,)\n",
    "start_year = 2021 \n",
    "end_year = 2023\n",
    "date_ranges = []\n",
    "for year in range(start_year, end_year + 1):\n",
    "    june_start = datetime.datetime(year, 6, 1)\n",
    "    july_end = datetime.datetime(year, 8, 1)\n",
    "    date_ranges.append(f\"{june_start.isoformat()}Z/{july_end.isoformat()}Z\")\n",
    "    \n",
    "print(date_ranges)\n",
    "\n",
    "results = []\n",
    "tile_ids = [\"10SGE\", \"10SGD\"]\n",
    "for date_range in date_ranges:\n",
    "    print(date_range)\n",
    "    search = catalog.search(\n",
    "        collections=[\"sentinel-2-l2a\"],\n",
    "        datetime=date_range,\n",
    "        query={\"eo:cloud_cover\": {\"lt\": 5}, \"s2:mgrs_tile\": {\"in\": tile_ids}},\n",
    "        sortby= [{\"field\": \"properties.eo:cloud_cover\", \"direction\": \"asc\"}]\n",
    "    )\n",
    "    results.extend(list(search.items()))\n",
    "\n",
    "\n",
    "# (Optional) Further process the items \n",
    "for item in results:\n",
    "    print(item.id, item.datetime, item.properties[\"eo:cloud_cover\"]) "
   ]
  },
  {
   "cell_type": "code",
   "execution_count": 9,
   "id": "0d525a95-2020-44ee-a2cd-a7a6b60dfe97",
   "metadata": {},
   "outputs": [],
   "source": [
    "image_ids = [\"S2B_MSIL2A_20220615T183919_R070_T10SGE_20220618T191736\", \"S2B_MSIL2A_20220615T183919_R070_T10SGD_20220618T184146\"]\n",
    "file_base_path = Path(f\"{DATA_DIR}/sentinel-2\")\n",
    "bands = [\"B02\", \"B03\", \"B04\", \"B08\", \"visual\"]"
   ]
  },
  {
   "cell_type": "code",
   "execution_count": 10,
   "id": "9f25d9ef-2796-4888-b0e0-84b211616e07",
   "metadata": {},
   "outputs": [
    {
     "name": "stdout",
     "output_type": "stream",
     "text": [
      "Title: S2B_MSIL2A_20220615T183919_R070_T10SGE_20220618T191736\n",
      "Date: 2022-06-15 18:39:19.024000+00:00\n",
      "Assets: ['AOT', 'B01', 'B02', 'B03', 'B04', 'B05', 'B06', 'B07', 'B08', 'B09', 'B11', 'B12', 'B8A', 'SCL', 'WVP', 'visual', 'preview', 'safe-manifest', 'granule-metadata', 'inspire-metadata', 'product-metadata', 'datastrip-metadata', 'tilejson', 'rendered_preview']\n",
      "Downloading B02 from https://sentinel2l2a01.blob.core.windows.net/sentinel2-l2/10/S/GE/2022/06/15/S2B_MSIL2A_20220615T183919_N0400_R070_T10SGE_20220618T191736.SAFE/GRANULE/L2A_T10SGE_A027552_20220615T184335/IMG_DATA/R10m/T10SGE_20220615T183919_B02_10m.tif?st=2024-07-08T15%3A05%3A28Z&se=2024-07-09T15%3A50%3A28Z&sp=rl&sv=2024-05-04&sr=c&skoid=146be268-41f7-4e92-96ad-9cf622e35904&sktid=72f988bf-86f1-41af-91ab-2d7cd011db47&skt=2024-07-09T15%3A04%3A59Z&ske=2024-07-16T15%3A04%3A59Z&sks=b&skv=2024-05-04&sig=TCGXwfhshHOn8DzjAF5YEYRc6r7eIc270eh54NER5BU%3D\n",
      "Downloaded /home/dev/projects/geospatial-tools/data/sentinel-2/S2B_MSIL2A_20220615T183919_R070_T10SGE_20220618T191736_B02.tif successfully.\n",
      "Downloading B03 from https://sentinel2l2a01.blob.core.windows.net/sentinel2-l2/10/S/GE/2022/06/15/S2B_MSIL2A_20220615T183919_N0400_R070_T10SGE_20220618T191736.SAFE/GRANULE/L2A_T10SGE_A027552_20220615T184335/IMG_DATA/R10m/T10SGE_20220615T183919_B03_10m.tif?st=2024-07-08T15%3A05%3A28Z&se=2024-07-09T15%3A50%3A28Z&sp=rl&sv=2024-05-04&sr=c&skoid=146be268-41f7-4e92-96ad-9cf622e35904&sktid=72f988bf-86f1-41af-91ab-2d7cd011db47&skt=2024-07-09T15%3A04%3A59Z&ske=2024-07-16T15%3A04%3A59Z&sks=b&skv=2024-05-04&sig=TCGXwfhshHOn8DzjAF5YEYRc6r7eIc270eh54NER5BU%3D\n",
      "Downloaded /home/dev/projects/geospatial-tools/data/sentinel-2/S2B_MSIL2A_20220615T183919_R070_T10SGE_20220618T191736_B03.tif successfully.\n",
      "Downloading B04 from https://sentinel2l2a01.blob.core.windows.net/sentinel2-l2/10/S/GE/2022/06/15/S2B_MSIL2A_20220615T183919_N0400_R070_T10SGE_20220618T191736.SAFE/GRANULE/L2A_T10SGE_A027552_20220615T184335/IMG_DATA/R10m/T10SGE_20220615T183919_B04_10m.tif?st=2024-07-08T15%3A05%3A28Z&se=2024-07-09T15%3A50%3A28Z&sp=rl&sv=2024-05-04&sr=c&skoid=146be268-41f7-4e92-96ad-9cf622e35904&sktid=72f988bf-86f1-41af-91ab-2d7cd011db47&skt=2024-07-09T15%3A04%3A59Z&ske=2024-07-16T15%3A04%3A59Z&sks=b&skv=2024-05-04&sig=TCGXwfhshHOn8DzjAF5YEYRc6r7eIc270eh54NER5BU%3D\n",
      "Downloaded /home/dev/projects/geospatial-tools/data/sentinel-2/S2B_MSIL2A_20220615T183919_R070_T10SGE_20220618T191736_B04.tif successfully.\n",
      "Downloading B08 from https://sentinel2l2a01.blob.core.windows.net/sentinel2-l2/10/S/GE/2022/06/15/S2B_MSIL2A_20220615T183919_N0400_R070_T10SGE_20220618T191736.SAFE/GRANULE/L2A_T10SGE_A027552_20220615T184335/IMG_DATA/R10m/T10SGE_20220615T183919_B08_10m.tif?st=2024-07-08T15%3A05%3A28Z&se=2024-07-09T15%3A50%3A28Z&sp=rl&sv=2024-05-04&sr=c&skoid=146be268-41f7-4e92-96ad-9cf622e35904&sktid=72f988bf-86f1-41af-91ab-2d7cd011db47&skt=2024-07-09T15%3A04%3A59Z&ske=2024-07-16T15%3A04%3A59Z&sks=b&skv=2024-05-04&sig=TCGXwfhshHOn8DzjAF5YEYRc6r7eIc270eh54NER5BU%3D\n",
      "Downloaded /home/dev/projects/geospatial-tools/data/sentinel-2/S2B_MSIL2A_20220615T183919_R070_T10SGE_20220618T191736_B08.tif successfully.\n",
      "Downloading visual from https://sentinel2l2a01.blob.core.windows.net/sentinel2-l2/10/S/GE/2022/06/15/S2B_MSIL2A_20220615T183919_N0400_R070_T10SGE_20220618T191736.SAFE/GRANULE/L2A_T10SGE_A027552_20220615T184335/IMG_DATA/R10m/T10SGE_20220615T183919_TCI_10m.tif?st=2024-07-08T15%3A05%3A28Z&se=2024-07-09T15%3A50%3A28Z&sp=rl&sv=2024-05-04&sr=c&skoid=146be268-41f7-4e92-96ad-9cf622e35904&sktid=72f988bf-86f1-41af-91ab-2d7cd011db47&skt=2024-07-09T15%3A04%3A59Z&ske=2024-07-16T15%3A04%3A59Z&sks=b&skv=2024-05-04&sig=TCGXwfhshHOn8DzjAF5YEYRc6r7eIc270eh54NER5BU%3D\n",
      "Downloaded /home/dev/projects/geospatial-tools/data/sentinel-2/S2B_MSIL2A_20220615T183919_R070_T10SGE_20220618T191736_visual.tif successfully.\n"
     ]
    },
    {
     "ename": "NameError",
     "evalue": "name 'rasterio' is not defined",
     "output_type": "error",
     "traceback": [
      "\u001B[0;31m---------------------------------------------------------------------------\u001B[0m",
      "\u001B[0;31mNameError\u001B[0m                                 Traceback (most recent call last)",
      "Cell \u001B[0;32mIn[10], line 44\u001B[0m\n\u001B[1;32m     42\u001B[0m \u001B[38;5;28;01mif\u001B[39;00m downloaded_files:\n\u001B[1;32m     43\u001B[0m     output_file \u001B[38;5;241m=\u001B[39m file_base_path \u001B[38;5;241m/\u001B[39m \u001B[38;5;124mf\u001B[39m\u001B[38;5;124m\"\u001B[39m\u001B[38;5;132;01m{\u001B[39;00mimage_id\u001B[38;5;132;01m}\u001B[39;00m\u001B[38;5;124m_merged.tif\u001B[39m\u001B[38;5;124m\"\u001B[39m\n\u001B[0;32m---> 44\u001B[0m     \u001B[38;5;28;01mwith\u001B[39;00m \u001B[43mrasterio\u001B[49m\u001B[38;5;241m.\u001B[39mopen(downloaded_files[\u001B[38;5;241m0\u001B[39m]) \u001B[38;5;28;01mas\u001B[39;00m src0:\n\u001B[1;32m     45\u001B[0m         meta \u001B[38;5;241m=\u001B[39m src0\u001B[38;5;241m.\u001B[39mmeta\n\u001B[1;32m     47\u001B[0m     meta\u001B[38;5;241m.\u001B[39mupdate(count\u001B[38;5;241m=\u001B[39m\u001B[38;5;28mlen\u001B[39m(downloaded_files))\n",
      "\u001B[0;31mNameError\u001B[0m: name 'rasterio' is not defined"
     ]
    }
   ],
   "source": [
    "# Function to download an asset\n",
    "def download_asset(url, filename):\n",
    "    response = requests.get(url)\n",
    "    if response.status_code == 200:\n",
    "        with open(filename, \"wb\") as f:\n",
    "            f.write(response.content)\n",
    "        print(f\"Downloaded {filename} successfully.\")\n",
    "        return filename\n",
    "    else:\n",
    "        print(f\"Failed to download the asset. Status code: {response.status_code}\")\n",
    "        return None\n",
    "\n",
    "def reproject_raster(source_path, dataset_path, dataset_crs):\n",
    "    with rasterio.open(source_path) as source:\n",
    "        transform, width, height = calculate_default_transform(\n",
    "            source.crs, dataset_crs, source.width, source.height, *source.bounds)\n",
    "        kwargs = source.meta.copy()\n",
    "        kwargs.update({\n",
    "            'crs': dataset_crs,\n",
    "            'transform': transform,\n",
    "            'width': width,\n",
    "            'height': height\n",
    "        })\n",
    "\n",
    "        with rasterio.open(dataset_path, 'w', **kwargs) as dataset:\n",
    "            for i in range(1, source.count + 1):\n",
    "                reproject(\n",
    "                    source=rasterio.band(source, i),\n",
    "                    destination=rasterio.band(dataset, i),\n",
    "                    src_transform=source.transform,\n",
    "                    src_crs=source.crs,\n",
    "                    dst_transform=transform,\n",
    "                    dst_crs=dataset_crs,\n",
    "                    resampling=Resampling.nearest)\n",
    "    print(f\"Reprojected file created at {dataset_path}\")\n",
    "\n",
    "for item in results:\n",
    "    image_id = item.id\n",
    "    if image_id in image_ids:\n",
    "        print(f\"Title: {image_id}\")\n",
    "        print(f\"Date: {item.datetime}\")\n",
    "        print(f\"Assets: {list(item.assets.keys())}\")\n",
    "    \n",
    "        downloaded_files = []\n",
    "\n",
    "        for band in bands:\n",
    "            if band in item.assets:\n",
    "                asset = item.assets[band]\n",
    "                asset_url = asset.href\n",
    "                print(f\"Downloading {band} from {asset_url}\")\n",
    "\n",
    "                file_name = file_base_path / f\"{image_id}_{band}.tif\"\n",
    "                downloaded_file = download_asset(asset_url, file_name)\n",
    "                if downloaded_file:\n",
    "                    downloaded_files.append(downloaded_file)\n",
    "            else:\n",
    "                print(f\"Band {band} not available for {image_id}.\")\n",
    "\n",
    "        if downloaded_files:\n",
    "            merged_file = file_base_path / f\"{image_id}_merged.tif\"\n",
    "            \n",
    "            with rasterio.open(downloaded_files[0]) as source0:\n",
    "                meta = source0.meta\n",
    "                meta.update(count=len(downloaded_files))\n",
    "\n",
    "            # TODO Fix for case of tif containing multiple bands\n",
    "            with rasterio.open(merged_file, 'w', **meta) as merged_sentinel_image:\n",
    "                for idx, file in enumerate(downloaded_files):\n",
    "                    with rasterio.open(file) as sentinel_band_image:\n",
    "                        merged_sentinel_image.write_band(idx + 1, sentinel_band_image.read(1))\n",
    "                        merged_sentinel_image.set_band_description(idx + 1, sentinel_band_image.descriptions[0] if sentinel_band_image.descriptions[0] else bands[idx])\n",
    "                        merged_sentinel_image.update_tags(idx + 1, **sentinel_band_image.tags(1))\n",
    "\n",
    "            print(f\"Merged file created at {merged_file}\")\n",
    "\n",
    "            reprojected_file = file_base_path / f\"{image_id}_reprojected.tif\"\n",
    "            reproject_raster(merged_file, reprojected_file, 'EPSG:5070')\n",
    "\n",
    "            for file in downloaded_files:\n",
    "                os.remove(file)\n",
    "            os.remove(merged_file)"
   ]
  },
  {
   "cell_type": "code",
   "execution_count": null,
   "id": "5e8789f2-1b21-4a48-946c-cddb9d367623",
   "metadata": {},
   "outputs": [],
   "source": []
  }
 ],
 "metadata": {
  "kernelspec": {
   "display_name": "Python 3 (ipykernel)",
   "language": "python",
   "name": "python3"
  },
  "language_info": {
   "codemirror_mode": {
    "name": "ipython",
    "version": 3
   },
   "file_extension": ".py",
   "mimetype": "text/x-python",
   "name": "python",
   "nbconvert_exporter": "python",
   "pygments_lexer": "ipython3",
   "version": "3.11.9"
  }
 },
 "nbformat": 4,
 "nbformat_minor": 5
}

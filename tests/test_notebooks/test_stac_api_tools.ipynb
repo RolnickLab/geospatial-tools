{
 "cells": [
  {
   "cell_type": "markdown",
   "id": "32893123aefcf748",
   "metadata": {},
   "source": [
    "# Exploring the Sentinel 2 STAC catalog tools"
   ]
  },
  {
   "cell_type": "code",
   "id": "d9905141ab1e36a5",
   "metadata": {
    "ExecuteTime": {
     "end_time": "2025-05-22T18:17:07.789516Z",
     "start_time": "2025-05-22T18:17:07.194864Z"
    }
   },
   "source": [
    "import shutil\n",
    "import geopandas as gpd\n",
    "\n",
    "from pathlib import Path\n",
    "from geospatial_tools import DATA_DIR, TESTS_DIR\n",
    "from geospatial_tools.stac import StacSearch, PLANETARY_COMPUTER\n",
    "from geospatial_tools.utils import create_date_range_for_specific_period"
   ],
   "outputs": [],
   "execution_count": 1
  },
  {
   "cell_type": "code",
   "id": "bc3faf4a613adec0",
   "metadata": {
    "ExecuteTime": {
     "end_time": "2025-05-22T18:17:07.877977Z",
     "start_time": "2025-05-22T18:17:07.875690Z"
    }
   },
   "source": [
    "TEST_TMP_DIR = TESTS_DIR / \"tmp_stac_api_tools\"\n",
    "TEST_TMP_DIR.mkdir(exist_ok=True)"
   ],
   "outputs": [],
   "execution_count": 2
  },
  {
   "cell_type": "code",
   "id": "e93f22661d7785fa",
   "metadata": {
    "ExecuteTime": {
     "end_time": "2025-05-22T18:17:07.957967Z",
     "start_time": "2025-05-22T18:17:07.923669Z"
    }
   },
   "source": [
    "S2_USA_GRID_FILE = DATA_DIR / \"s2_grid_usa_polygon_5070.gpkg\"\n",
    "s2_grid = gpd.read_file(S2_USA_GRID_FILE)"
   ],
   "outputs": [],
   "execution_count": 3
  },
  {
   "cell_type": "markdown",
   "id": "82975573700ba65",
   "metadata": {},
   "source": [
    "## Search Parameters\n",
    "\n",
    "Now we search for our product.\n",
    "\n",
    "In this demonstration, we want relatively recent products, and only from June or July\n",
    "\n",
    "We are looking for Sentinel 2 products that are already pre-processed and that have \n",
    "minimal cloud cover.\n",
    "\n",
    "We are also limiting our search to the `10SDJ` tile.\n",
    "\n"
   ]
  },
  {
   "cell_type": "code",
   "id": "ee10a895c05db253",
   "metadata": {
    "ExecuteTime": {
     "end_time": "2025-05-22T18:17:09.935518Z",
     "start_time": "2025-05-22T18:17:07.972574Z"
    }
   },
   "source": [
    "# Date ranges\n",
    "start_year = 2024\n",
    "end_year = 2024\n",
    "start_month = 6\n",
    "end_month = 7\n",
    "date_ranges = create_date_range_for_specific_period(start_year=start_year,\n",
    "                                                    end_year=end_year,\n",
    "                                                    start_month_range=start_month,\n",
    "                                                    end_month_range=end_month)\n",
    "\n",
    "# Search arguments\n",
    "collection = \"sentinel-2-l2a\"\n",
    "tile_ids = [\"10SDJ\"]\n",
    "max_cloud_cover = 1\n",
    "max_no_data_value = 5\n",
    "query = {\"eo:cloud_cover\": {\"lt\": max_cloud_cover}, \"s2:mgrs_tile\": {\"in\": tile_ids}}\n",
    "sortby = [{\"field\": \"properties.eo:cloud_cover\", \"direction\": \"asc\"}]\n",
    "\n",
    "# Searching for results\n",
    "search_client = StacSearch(PLANETARY_COMPUTER)\n",
    "search_client.search_for_date_ranges(date_ranges=date_ranges,\n",
    "                                     collections=collection,\n",
    "                                     query=query,\n",
    "                                     sortby=sortby, limit=100)\n",
    "\n",
    "# Selecting optimal result\n",
    "search_client.sort_results_by_cloud_coverage()\n",
    "search_client.filter_no_data(property_name=\"s2:nodata_pixel_percentage\", max_no_data_value=max_no_data_value)\n",
    "\n",
    "filtered_items = search_client.filtered_results\n",
    "optimal_result = filtered_items[0]"
   ],
   "outputs": [
    {
     "name": "stdout",
     "output_type": "stream",
     "text": [
      "[2025-05-22 14:17:08] INFO       [MainThread][geospatial_tools.stac] Running STAC API search for the following parameters: \n",
      "\tDate ranges : ['2024-06-01T00:00:00Z/2024-07-31T23:59:59Z'] \n",
      "\tQuery : {'eo:cloud_cover': {'lt': 1}, 's2:mgrs_tile': {'in': ['10SDJ']}}\n"
     ]
    }
   ],
   "execution_count": 4
  },
  {
   "cell_type": "code",
   "id": "a847c23f04916c18",
   "metadata": {
    "ExecuteTime": {
     "end_time": "2025-05-22T18:17:09.949373Z",
     "start_time": "2025-05-22T18:17:09.946550Z"
    }
   },
   "source": [
    "print(\"\\nSorted results\")\n",
    "for item in filtered_items:\n",
    "    print(f\"Item: {item.id}, {item.datetime}, \"\n",
    "          f\"Cloud cover: {item.properties['eo:cloud_cover']}, \"\n",
    "          f\"Nodata: {item.properties['s2:nodata_pixel_percentage']}\")\n",
    "\n",
    "print(f\"\\nOptimal result: {optimal_result.id}, {optimal_result.datetime}, \"\n",
    "      f\"Cloud cover: {optimal_result.properties['eo:cloud_cover']}, \"\n",
    "      f\"Nodata: {optimal_result.properties['s2:nodata_pixel_percentage']}\")"
   ],
   "outputs": [
    {
     "name": "stdout",
     "output_type": "stream",
     "text": [
      "\n",
      "Sorted results\n",
      "Item: S2A_MSIL2A_20240705T185921_R013_T10SDJ_20240706T050346, 2024-07-05 18:59:21.024000+00:00, Cloud cover: 0.006778, Nodata: 1.7e-05\n",
      "Item: S2A_MSIL2A_20240705T185921_R013_T10SDJ_20240706T050346, 2024-07-05 18:59:21.024000+00:00, Cloud cover: 0.006778, Nodata: 1.7e-05\n",
      "Item: S2A_MSIL2A_20240705T185921_R013_T10SDJ_20240706T050346, 2024-07-05 18:59:21.024000+00:00, Cloud cover: 0.006778, Nodata: 1.7e-05\n",
      "Item: S2A_MSIL2A_20240725T185921_R013_T10SDJ_20240726T025650, 2024-07-25 18:59:21.024000+00:00, Cloud cover: 0.0543, Nodata: 0.0\n",
      "Item: S2A_MSIL2A_20240725T185921_R013_T10SDJ_20240726T025650, 2024-07-25 18:59:21.024000+00:00, Cloud cover: 0.0543, Nodata: 0.0\n",
      "Item: S2A_MSIL2A_20240725T185921_R013_T10SDJ_20240726T025650, 2024-07-25 18:59:21.024000+00:00, Cloud cover: 0.0543, Nodata: 0.0\n",
      "\n",
      "Optimal result: S2A_MSIL2A_20240705T185921_R013_T10SDJ_20240706T050346, 2024-07-05 18:59:21.024000+00:00, Cloud cover: 0.006778, Nodata: 1.7e-05\n"
     ]
    }
   ],
   "execution_count": 5
  },
  {
   "cell_type": "code",
   "id": "f4ec68848b408098",
   "metadata": {
    "ExecuteTime": {
     "end_time": "2025-05-22T18:17:45.493509Z",
     "start_time": "2025-05-22T18:17:09.997517Z"
    }
   },
   "source": [
    "# NBVAL_IGNORE_OUTPUT\n",
    "bands = [\"visual\"]\n",
    "file_base_path = Path(f\"{TEST_TMP_DIR}/sentinel-2/\")\n",
    "best_result = search_client.download_best_cloud_cover_result(bands=bands, base_directory=file_base_path)"
   ],
   "outputs": [
    {
     "name": "stdout",
     "output_type": "stream",
     "text": [
      "[2025-05-22 14:17:09] INFO       [MainThread][geospatial_tools.stac] Downloading [S2A_MSIL2A_20240705T185921_R013_T10SDJ_20240706T050346] ...\n",
      "[2025-05-22 14:17:09] INFO       [MainThread][geospatial_tools.stac] Downloading visual from https://sentinel2l2a01.blob.core.windows.net/sentinel2-l2/10/S/DJ/2024/07/05/S2A_MSIL2A_20240705T185921_N0510_R013_T10SDJ_20240706T050346.SAFE/GRANULE/L2A_T10SDJ_A047200_20240705T190418/IMG_DATA/R10m/T10SDJ_20240705T185921_TCI_10m.tif?st=2025-05-21T18%3A17%3A09Z&se=2025-05-22T19%3A02%3A09Z&sp=rl&sv=2024-05-04&sr=c&skoid=9c8ff44a-6a2c-4dfb-b298-1c9212f64d9a&sktid=72f988bf-86f1-41af-91ab-2d7cd011db47&skt=2025-05-22T16%3A29%3A23Z&ske=2025-05-29T16%3A29%3A23Z&sks=b&skv=2024-05-04&sig=UVwBjfgHNu2tgOtGtOKhS83DTlU0/%2B/ucJD3Q7ShqFY%3D\n",
      "[2025-05-22 14:17:45] INFO       [MainThread][geospatial_tools.utils] Downloaded /home/francispelletier/projects/geospatial_tools/tests/tmp_stac_api_tools/sentinel-2/S2A_MSIL2A_20240705T185921_R013_T10SDJ_20240706T050346_visual.tif successfully.\n"
     ]
    }
   ],
   "execution_count": 6
  },
  {
   "cell_type": "code",
   "id": "d39afa9f75ed355f",
   "metadata": {
    "ExecuteTime": {
     "end_time": "2025-05-22T18:17:45.523513Z",
     "start_time": "2025-05-22T18:17:45.519522Z"
    }
   },
   "source": [
    "best_result.asset_id"
   ],
   "outputs": [
    {
     "data": {
      "text/plain": [
       "'S2A_MSIL2A_20240705T185921_R013_T10SDJ_20240706T050346'"
      ]
     },
     "execution_count": 7,
     "metadata": {},
     "output_type": "execute_result"
    }
   ],
   "execution_count": 7
  },
  {
   "cell_type": "code",
   "id": "553190ac13f3f758",
   "metadata": {
    "ExecuteTime": {
     "end_time": "2025-05-22T18:17:54.651510Z",
     "start_time": "2025-05-22T18:17:45.584293Z"
    }
   },
   "source": [
    "merged = best_result.merge_asset(base_directory=file_base_path, delete_sub_items=True)\n",
    "reprojected = best_result.reproject_merged_asset(target_projection=5070, \n",
    "                                                 base_directory=file_base_path,\n",
    "                                                 delete_merged_asset=True)"
   ],
   "outputs": [
    {
     "name": "stdout",
     "output_type": "stream",
     "text": [
      "[2025-05-22 14:17:45] INFO       [MainThread][geospatial_tools.stac] Creating merged asset metadata\n",
      "[2025-05-22 14:17:45] INFO       [MainThread][geospatial_tools.raster] Creating merged asset metadata\n",
      "[2025-05-22 14:17:45] INFO       [MainThread][geospatial_tools.raster] Calculated a total of [3] bands\n",
      "[2025-05-22 14:17:45] INFO       [MainThread][geospatial_tools.raster] Merging asset [/home/francispelletier/projects/geospatial_tools/tests/tmp_stac_api_tools/sentinel-2/S2A_MSIL2A_20240705T185921_R013_T10SDJ_20240706T050346_merged.tif] ...\n",
      "[2025-05-22 14:17:45] INFO       [MainThread][geospatial_tools.raster] Writing band image: S2A_MSIL2A_20240705T185921_R013_T10SDJ_20240706T050346_visual.tif\n",
      "[2025-05-22 14:17:45] INFO       [MainThread][geospatial_tools.raster] Writing asset sub item band 1 to merged index band 1\n",
      "[2025-05-22 14:17:47] INFO       [MainThread][geospatial_tools.raster] Writing asset sub item band 2 to merged index band 2\n",
      "[2025-05-22 14:17:47] INFO       [MainThread][geospatial_tools.raster] Writing asset sub item band 3 to merged index band 3\n",
      "[2025-05-22 14:17:47] INFO       [MainThread][geospatial_tools.stac] Asset [S2A_MSIL2A_20240705T185921_R013_T10SDJ_20240706T050346] merged successfully\n",
      "[2025-05-22 14:17:47] INFO       [MainThread][geospatial_tools.stac] Asset location : [/home/francispelletier/projects/geospatial_tools/tests/tmp_stac_api_tools/sentinel-2/S2A_MSIL2A_20240705T185921_R013_T10SDJ_20240706T050346_merged.tif]\n",
      "[2025-05-22 14:17:47] INFO       [MainThread][geospatial_tools.stac] Deleting asset sub items from asset [S2A_MSIL2A_20240705T185921_R013_T10SDJ_20240706T050346]\n",
      "[2025-05-22 14:17:47] INFO       [MainThread][geospatial_tools.stac] Deleting [/home/francispelletier/projects/geospatial_tools/tests/tmp_stac_api_tools/sentinel-2/S2A_MSIL2A_20240705T185921_R013_T10SDJ_20240706T050346_visual.tif] ...\n",
      "[2025-05-22 14:17:48] INFO       [MainThread][geospatial_tools.stac] Reprojecting asset [S2A_MSIL2A_20240705T185921_R013_T10SDJ_20240706T050346] ...\n",
      "[2025-05-22 14:17:48] INFO       [MainThread][geospatial_tools.stac] Creating EPSG code from following input : [5070]\n",
      "[2025-05-22 14:17:54] INFO       [MainThread][geospatial_tools.stac] Reprojected file created at /home/francispelletier/projects/geospatial_tools/tests/tmp_stac_api_tools/sentinel-2/S2A_MSIL2A_20240705T185921_R013_T10SDJ_20240706T050346_reprojected.tif\n",
      "[2025-05-22 14:17:54] INFO       [MainThread][geospatial_tools.stac] Asset location : [/home/francispelletier/projects/geospatial_tools/tests/tmp_stac_api_tools/sentinel-2/S2A_MSIL2A_20240705T185921_R013_T10SDJ_20240706T050346_reprojected.tif]\n",
      "[2025-05-22 14:17:54] INFO       [MainThread][geospatial_tools.stac] Deleting merged asset file for [/home/francispelletier/projects/geospatial_tools/tests/tmp_stac_api_tools/sentinel-2/S2A_MSIL2A_20240705T185921_R013_T10SDJ_20240706T050346_merged.tif]\n"
     ]
    }
   ],
   "execution_count": 8
  },
  {
   "cell_type": "code",
   "id": "5be37e4e719010a5",
   "metadata": {
    "ExecuteTime": {
     "end_time": "2025-05-22T18:17:54.792456Z",
     "start_time": "2025-05-22T18:17:54.661901Z"
    }
   },
   "source": [
    "shutil.rmtree(TEST_TMP_DIR)"
   ],
   "outputs": [],
   "execution_count": 9
  }
 ],
 "metadata": {
  "kernelspec": {
   "display_name": "Python 3",
   "language": "python",
   "name": "python3"
  },
  "language_info": {
   "codemirror_mode": {
    "name": "ipython",
    "version": 3
   },
   "file_extension": ".py",
   "mimetype": "text/x-python",
   "name": "python",
   "nbconvert_exporter": "python",
   "pygments_lexer": "ipython3",
   "version": "3.11.10"
  }
 },
 "nbformat": 4,
 "nbformat_minor": 5
}
